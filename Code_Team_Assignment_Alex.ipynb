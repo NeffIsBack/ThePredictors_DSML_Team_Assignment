{
 "cells": [
  {
   "cell_type": "markdown",
   "metadata": {},
   "source": [
    "# Team Assignment - the descriptive Task"
   ]
  },
  {
   "cell_type": "markdown",
   "metadata": {},
   "source": [
    "#### First Step: Importing"
   ]
  },
  {
   "cell_type": "code",
   "execution_count": 37,
   "metadata": {},
   "outputs": [
    {
     "ename": "ModuleNotFoundError",
     "evalue": "No module named 'cudf'",
     "output_type": "error",
     "traceback": [
      "\u001b[1;31m---------------------------------------------------------------------------\u001b[0m",
      "\u001b[1;31mModuleNotFoundError\u001b[0m                       Traceback (most recent call last)",
      "\u001b[1;32m<ipython-input-37-7b07b2724b7c>\u001b[0m in \u001b[0;36m<module>\u001b[1;34m\u001b[0m\n\u001b[0;32m      1\u001b[0m \u001b[1;31m# ----------- GPU acceleration - use pandas if you don't got a nvidia gpu -----------\u001b[0m\u001b[1;33m\u001b[0m\u001b[1;33m\u001b[0m\u001b[1;33m\u001b[0m\u001b[0m\n\u001b[0;32m      2\u001b[0m \u001b[1;31m#import pandas as pd\u001b[0m\u001b[1;33m\u001b[0m\u001b[1;33m\u001b[0m\u001b[1;33m\u001b[0m\u001b[0m\n\u001b[1;32m----> 3\u001b[1;33m \u001b[1;32mimport\u001b[0m \u001b[0mcudf\u001b[0m \u001b[1;32mas\u001b[0m \u001b[0mpd\u001b[0m\u001b[1;33m\u001b[0m\u001b[1;33m\u001b[0m\u001b[0m\n\u001b[0m\u001b[0;32m      4\u001b[0m \u001b[1;33m\u001b[0m\u001b[0m\n\u001b[0;32m      5\u001b[0m \u001b[1;31m# install packages with \"conda install -c nvidia -c rapidsai -c numba -c conda-forge -c defaults cudf\"\u001b[0m\u001b[1;33m\u001b[0m\u001b[1;33m\u001b[0m\u001b[1;33m\u001b[0m\u001b[0m\n",
      "\u001b[1;31mModuleNotFoundError\u001b[0m: No module named 'cudf'"
     ]
    }
   ],
   "source": [
    "# ----------- GPU acceleration - use pandas if you don't got a nvidia gpu -----------\n",
    "#import pandas as pd\n",
    "import cudf as pd\n",
    "\n",
    "# install packages with \"conda install -c nvidia -c rapidsai -c numba -c conda-forge -c defaults cudf\" \n",
    "# ----------- GPU acceleration - end -----------\n",
    "\n",
    "from datetime import datetime, timedelta\n",
    "\n",
    "chg17 = pd.read_csv(\"chicago_2017.csv\")"
   ]
  },
  {
   "cell_type": "markdown",
   "metadata": {},
   "source": [
    "#### Second Step: Validate and review the Data"
   ]
  },
  {
   "cell_type": "code",
   "execution_count": 2,
   "metadata": {},
   "outputs": [
    {
     "name": "stdout",
     "output_type": "stream",
     "text": [
      "<class 'pandas.core.frame.DataFrame'>\n",
      "RangeIndex: 3829014 entries, 0 to 3829013\n",
      "Data columns (total 8 columns):\n",
      " #   Column              Dtype \n",
      "---  ------              ----- \n",
      " 0   start_time          object\n",
      " 1   end_time            object\n",
      " 2   start_station_id    int64 \n",
      " 3   end_station_id      int64 \n",
      " 4   start_station_name  object\n",
      " 5   end_station_name    object\n",
      " 6   bike_id             int64 \n",
      " 7   user_type           object\n",
      "dtypes: int64(3), object(5)\n",
      "memory usage: 233.7+ MB\n"
     ]
    }
   ],
   "source": [
    "chg17.info()"
   ]
  },
  {
   "cell_type": "code",
   "execution_count": 3,
   "metadata": {},
   "outputs": [],
   "source": [
    "# chg17.describe()"
   ]
  },
  {
   "cell_type": "code",
   "execution_count": 4,
   "metadata": {},
   "outputs": [
    {
     "data": {
      "text/html": [
       "<div>\n",
       "<style scoped>\n",
       "    .dataframe tbody tr th:only-of-type {\n",
       "        vertical-align: middle;\n",
       "    }\n",
       "\n",
       "    .dataframe tbody tr th {\n",
       "        vertical-align: top;\n",
       "    }\n",
       "\n",
       "    .dataframe thead th {\n",
       "        text-align: right;\n",
       "    }\n",
       "</style>\n",
       "<table border=\"1\" class=\"dataframe\">\n",
       "  <thead>\n",
       "    <tr style=\"text-align: right;\">\n",
       "      <th></th>\n",
       "      <th>start_time</th>\n",
       "      <th>end_time</th>\n",
       "      <th>start_station_id</th>\n",
       "      <th>end_station_id</th>\n",
       "      <th>start_station_name</th>\n",
       "      <th>end_station_name</th>\n",
       "      <th>bike_id</th>\n",
       "      <th>user_type</th>\n",
       "    </tr>\n",
       "  </thead>\n",
       "  <tbody>\n",
       "    <tr>\n",
       "      <th>0</th>\n",
       "      <td>3/31/2017 23:59:07</td>\n",
       "      <td>4/1/2017 00:13:24</td>\n",
       "      <td>66</td>\n",
       "      <td>171</td>\n",
       "      <td>Clinton St &amp; Lake St</td>\n",
       "      <td>May St &amp; Cullerton St</td>\n",
       "      <td>5292</td>\n",
       "      <td>Subscriber</td>\n",
       "    </tr>\n",
       "    <tr>\n",
       "      <th>1</th>\n",
       "      <td>3/31/2017 23:56:25</td>\n",
       "      <td>4/1/2017 00:00:21</td>\n",
       "      <td>199</td>\n",
       "      <td>26</td>\n",
       "      <td>Wabash Ave &amp; Grand Ave</td>\n",
       "      <td>McClurg Ct &amp; Illinois St</td>\n",
       "      <td>4408</td>\n",
       "      <td>Subscriber</td>\n",
       "    </tr>\n",
       "    <tr>\n",
       "      <th>2</th>\n",
       "      <td>3/31/2017 23:55:33</td>\n",
       "      <td>4/1/2017 00:01:21</td>\n",
       "      <td>520</td>\n",
       "      <td>432</td>\n",
       "      <td>Greenview Ave &amp; Jarvis Ave</td>\n",
       "      <td>Clark St &amp; Lunt Ave</td>\n",
       "      <td>696</td>\n",
       "      <td>Subscriber</td>\n",
       "    </tr>\n",
       "    <tr>\n",
       "      <th>3</th>\n",
       "      <td>3/31/2017 23:54:46</td>\n",
       "      <td>3/31/2017 23:59:34</td>\n",
       "      <td>110</td>\n",
       "      <td>142</td>\n",
       "      <td>Dearborn St &amp; Erie St</td>\n",
       "      <td>McClurg Ct &amp; Erie St</td>\n",
       "      <td>4915</td>\n",
       "      <td>Subscriber</td>\n",
       "    </tr>\n",
       "    <tr>\n",
       "      <th>4</th>\n",
       "      <td>3/31/2017 23:53:33</td>\n",
       "      <td>4/1/2017 00:00:28</td>\n",
       "      <td>327</td>\n",
       "      <td>331</td>\n",
       "      <td>Sheffield Ave &amp; Webster Ave</td>\n",
       "      <td>Halsted St &amp; Blackhawk St (*)</td>\n",
       "      <td>4247</td>\n",
       "      <td>Subscriber</td>\n",
       "    </tr>\n",
       "  </tbody>\n",
       "</table>\n",
       "</div>"
      ],
      "text/plain": [
       "           start_time            end_time  start_station_id  end_station_id  \\\n",
       "0  3/31/2017 23:59:07   4/1/2017 00:13:24                66             171   \n",
       "1  3/31/2017 23:56:25   4/1/2017 00:00:21               199              26   \n",
       "2  3/31/2017 23:55:33   4/1/2017 00:01:21               520             432   \n",
       "3  3/31/2017 23:54:46  3/31/2017 23:59:34               110             142   \n",
       "4  3/31/2017 23:53:33   4/1/2017 00:00:28               327             331   \n",
       "\n",
       "            start_station_name               end_station_name  bike_id  \\\n",
       "0         Clinton St & Lake St          May St & Cullerton St     5292   \n",
       "1       Wabash Ave & Grand Ave       McClurg Ct & Illinois St     4408   \n",
       "2   Greenview Ave & Jarvis Ave            Clark St & Lunt Ave      696   \n",
       "3        Dearborn St & Erie St           McClurg Ct & Erie St     4915   \n",
       "4  Sheffield Ave & Webster Ave  Halsted St & Blackhawk St (*)     4247   \n",
       "\n",
       "    user_type  \n",
       "0  Subscriber  \n",
       "1  Subscriber  \n",
       "2  Subscriber  \n",
       "3  Subscriber  \n",
       "4  Subscriber  "
      ]
     },
     "execution_count": 4,
     "metadata": {},
     "output_type": "execute_result"
    }
   ],
   "source": [
    "chg17.head()"
   ]
  },
  {
   "cell_type": "markdown",
   "metadata": {},
   "source": [
    "Let's have a look at empty values"
   ]
  },
  {
   "cell_type": "code",
   "execution_count": 8,
   "metadata": {},
   "outputs": [
    {
     "data": {
      "text/html": [
       "<div>\n",
       "<style scoped>\n",
       "    .dataframe tbody tr th:only-of-type {\n",
       "        vertical-align: middle;\n",
       "    }\n",
       "\n",
       "    .dataframe tbody tr th {\n",
       "        vertical-align: top;\n",
       "    }\n",
       "\n",
       "    .dataframe thead th {\n",
       "        text-align: right;\n",
       "    }\n",
       "</style>\n",
       "<table border=\"1\" class=\"dataframe\">\n",
       "  <thead>\n",
       "    <tr style=\"text-align: right;\">\n",
       "      <th></th>\n",
       "      <th>start_time</th>\n",
       "      <th>end_time</th>\n",
       "      <th>start_station_id</th>\n",
       "      <th>end_station_id</th>\n",
       "      <th>start_station_name</th>\n",
       "      <th>end_station_name</th>\n",
       "      <th>bike_id</th>\n",
       "      <th>user_type</th>\n",
       "    </tr>\n",
       "  </thead>\n",
       "  <tbody>\n",
       "  </tbody>\n",
       "</table>\n",
       "</div>"
      ],
      "text/plain": [
       "Empty DataFrame\n",
       "Columns: [start_time, end_time, start_station_id, end_station_id, start_station_name, end_station_name, bike_id, user_type]\n",
       "Index: []"
      ]
     },
     "execution_count": 8,
     "metadata": {},
     "output_type": "execute_result"
    }
   ],
   "source": [
    "emptyRows = chg17[chg17.isna().any(axis=1)]\n",
    "emptyRows"
   ]
  },
  {
   "cell_type": "code",
   "execution_count": 9,
   "metadata": {},
   "outputs": [
    {
     "name": "stdout",
     "output_type": "stream",
     "text": [
      "There are 0 empty rows\n"
     ]
    }
   ],
   "source": [
    "countEmptyRows = len(chg17[chg17.isna().any(axis=1)])\n",
    "print(\"There are {} empty rows\".format(countEmptyRows))"
   ]
  },
  {
   "cell_type": "markdown",
   "metadata": {},
   "source": [
    "As you can see, there are none empty Values"
   ]
  },
  {
   "cell_type": "markdown",
   "metadata": {},
   "source": [
    "## Usage Visualization:"
   ]
  },
  {
   "cell_type": "code",
   "execution_count": 16,
   "metadata": {},
   "outputs": [],
   "source": [
    "chg17_timeStamps = chg17.copy()\n",
    "chg17_timeStamps['start_time'] = pd.to_datetime(chg17_timeStamps['start_time'])\n",
    "chg17_timeStamps['end_time'] = pd.to_datetime(chg17_timeStamps['end_time'])"
   ]
  },
  {
   "cell_type": "code",
   "execution_count": 18,
   "metadata": {
    "scrolled": true
   },
   "outputs": [
    {
     "data": {
      "text/html": [
       "<div>\n",
       "<style scoped>\n",
       "    .dataframe tbody tr th:only-of-type {\n",
       "        vertical-align: middle;\n",
       "    }\n",
       "\n",
       "    .dataframe tbody tr th {\n",
       "        vertical-align: top;\n",
       "    }\n",
       "\n",
       "    .dataframe thead th {\n",
       "        text-align: right;\n",
       "    }\n",
       "</style>\n",
       "<table border=\"1\" class=\"dataframe\">\n",
       "  <thead>\n",
       "    <tr style=\"text-align: right;\">\n",
       "      <th></th>\n",
       "      <th>start_time</th>\n",
       "      <th>end_time</th>\n",
       "      <th>start_station_id</th>\n",
       "      <th>end_station_id</th>\n",
       "      <th>start_station_name</th>\n",
       "      <th>end_station_name</th>\n",
       "      <th>bike_id</th>\n",
       "      <th>user_type</th>\n",
       "    </tr>\n",
       "  </thead>\n",
       "  <tbody>\n",
       "    <tr>\n",
       "      <th>0</th>\n",
       "      <td>2017-03-31 23:59:07</td>\n",
       "      <td>2017-04-01 00:13:24</td>\n",
       "      <td>66</td>\n",
       "      <td>171</td>\n",
       "      <td>Clinton St &amp; Lake St</td>\n",
       "      <td>May St &amp; Cullerton St</td>\n",
       "      <td>5292</td>\n",
       "      <td>Subscriber</td>\n",
       "    </tr>\n",
       "    <tr>\n",
       "      <th>1</th>\n",
       "      <td>2017-03-31 23:56:25</td>\n",
       "      <td>2017-04-01 00:00:21</td>\n",
       "      <td>199</td>\n",
       "      <td>26</td>\n",
       "      <td>Wabash Ave &amp; Grand Ave</td>\n",
       "      <td>McClurg Ct &amp; Illinois St</td>\n",
       "      <td>4408</td>\n",
       "      <td>Subscriber</td>\n",
       "    </tr>\n",
       "    <tr>\n",
       "      <th>2</th>\n",
       "      <td>2017-03-31 23:55:33</td>\n",
       "      <td>2017-04-01 00:01:21</td>\n",
       "      <td>520</td>\n",
       "      <td>432</td>\n",
       "      <td>Greenview Ave &amp; Jarvis Ave</td>\n",
       "      <td>Clark St &amp; Lunt Ave</td>\n",
       "      <td>696</td>\n",
       "      <td>Subscriber</td>\n",
       "    </tr>\n",
       "    <tr>\n",
       "      <th>3</th>\n",
       "      <td>2017-03-31 23:54:46</td>\n",
       "      <td>2017-03-31 23:59:34</td>\n",
       "      <td>110</td>\n",
       "      <td>142</td>\n",
       "      <td>Dearborn St &amp; Erie St</td>\n",
       "      <td>McClurg Ct &amp; Erie St</td>\n",
       "      <td>4915</td>\n",
       "      <td>Subscriber</td>\n",
       "    </tr>\n",
       "    <tr>\n",
       "      <th>4</th>\n",
       "      <td>2017-03-31 23:53:33</td>\n",
       "      <td>2017-04-01 00:00:28</td>\n",
       "      <td>327</td>\n",
       "      <td>331</td>\n",
       "      <td>Sheffield Ave &amp; Webster Ave</td>\n",
       "      <td>Halsted St &amp; Blackhawk St (*)</td>\n",
       "      <td>4247</td>\n",
       "      <td>Subscriber</td>\n",
       "    </tr>\n",
       "  </tbody>\n",
       "</table>\n",
       "</div>"
      ],
      "text/plain": [
       "           start_time            end_time  start_station_id  end_station_id  \\\n",
       "0 2017-03-31 23:59:07 2017-04-01 00:13:24                66             171   \n",
       "1 2017-03-31 23:56:25 2017-04-01 00:00:21               199              26   \n",
       "2 2017-03-31 23:55:33 2017-04-01 00:01:21               520             432   \n",
       "3 2017-03-31 23:54:46 2017-03-31 23:59:34               110             142   \n",
       "4 2017-03-31 23:53:33 2017-04-01 00:00:28               327             331   \n",
       "\n",
       "            start_station_name               end_station_name  bike_id  \\\n",
       "0         Clinton St & Lake St          May St & Cullerton St     5292   \n",
       "1       Wabash Ave & Grand Ave       McClurg Ct & Illinois St     4408   \n",
       "2   Greenview Ave & Jarvis Ave            Clark St & Lunt Ave      696   \n",
       "3        Dearborn St & Erie St           McClurg Ct & Erie St     4915   \n",
       "4  Sheffield Ave & Webster Ave  Halsted St & Blackhawk St (*)     4247   \n",
       "\n",
       "    user_type  \n",
       "0  Subscriber  \n",
       "1  Subscriber  \n",
       "2  Subscriber  \n",
       "3  Subscriber  \n",
       "4  Subscriber  "
      ]
     },
     "execution_count": 18,
     "metadata": {},
     "output_type": "execute_result"
    }
   ],
   "source": [
    "chg17_timeStamps.head()"
   ]
  },
  {
   "cell_type": "code",
   "execution_count": 34,
   "metadata": {},
   "outputs": [
    {
     "data": {
      "text/html": [
       "<div>\n",
       "<style scoped>\n",
       "    .dataframe tbody tr th:only-of-type {\n",
       "        vertical-align: middle;\n",
       "    }\n",
       "\n",
       "    .dataframe tbody tr th {\n",
       "        vertical-align: top;\n",
       "    }\n",
       "\n",
       "    .dataframe thead th {\n",
       "        text-align: right;\n",
       "    }\n",
       "</style>\n",
       "<table border=\"1\" class=\"dataframe\">\n",
       "  <thead>\n",
       "    <tr style=\"text-align: right;\">\n",
       "      <th></th>\n",
       "      <th>start_time</th>\n",
       "      <th>end_time</th>\n",
       "      <th>start_station_id</th>\n",
       "      <th>end_station_id</th>\n",
       "      <th>start_station_name</th>\n",
       "      <th>end_station_name</th>\n",
       "      <th>bike_id</th>\n",
       "      <th>user_type</th>\n",
       "      <th>Daaate</th>\n",
       "      <th>Hour</th>\n",
       "      <th>Weekday</th>\n",
       "      <th>Week</th>\n",
       "      <th>Month</th>\n",
       "    </tr>\n",
       "  </thead>\n",
       "  <tbody>\n",
       "    <tr>\n",
       "      <th>0</th>\n",
       "      <td>2017-03-31 23:59:07</td>\n",
       "      <td>2017-04-01 00:13:24</td>\n",
       "      <td>66</td>\n",
       "      <td>171</td>\n",
       "      <td>Clinton St &amp; Lake St</td>\n",
       "      <td>May St &amp; Cullerton St</td>\n",
       "      <td>5292</td>\n",
       "      <td>Subscriber</td>\n",
       "      <td>2017-03-31</td>\n",
       "      <td>23</td>\n",
       "      <td>4</td>\n",
       "      <td>13</td>\n",
       "      <td>3</td>\n",
       "    </tr>\n",
       "    <tr>\n",
       "      <th>1</th>\n",
       "      <td>2017-03-31 23:56:25</td>\n",
       "      <td>2017-04-01 00:00:21</td>\n",
       "      <td>199</td>\n",
       "      <td>26</td>\n",
       "      <td>Wabash Ave &amp; Grand Ave</td>\n",
       "      <td>McClurg Ct &amp; Illinois St</td>\n",
       "      <td>4408</td>\n",
       "      <td>Subscriber</td>\n",
       "      <td>2017-03-31</td>\n",
       "      <td>23</td>\n",
       "      <td>4</td>\n",
       "      <td>13</td>\n",
       "      <td>3</td>\n",
       "    </tr>\n",
       "    <tr>\n",
       "      <th>2</th>\n",
       "      <td>2017-03-31 23:55:33</td>\n",
       "      <td>2017-04-01 00:01:21</td>\n",
       "      <td>520</td>\n",
       "      <td>432</td>\n",
       "      <td>Greenview Ave &amp; Jarvis Ave</td>\n",
       "      <td>Clark St &amp; Lunt Ave</td>\n",
       "      <td>696</td>\n",
       "      <td>Subscriber</td>\n",
       "      <td>2017-03-31</td>\n",
       "      <td>23</td>\n",
       "      <td>4</td>\n",
       "      <td>13</td>\n",
       "      <td>3</td>\n",
       "    </tr>\n",
       "    <tr>\n",
       "      <th>3</th>\n",
       "      <td>2017-03-31 23:54:46</td>\n",
       "      <td>2017-03-31 23:59:34</td>\n",
       "      <td>110</td>\n",
       "      <td>142</td>\n",
       "      <td>Dearborn St &amp; Erie St</td>\n",
       "      <td>McClurg Ct &amp; Erie St</td>\n",
       "      <td>4915</td>\n",
       "      <td>Subscriber</td>\n",
       "      <td>2017-03-31</td>\n",
       "      <td>23</td>\n",
       "      <td>4</td>\n",
       "      <td>13</td>\n",
       "      <td>3</td>\n",
       "    </tr>\n",
       "    <tr>\n",
       "      <th>4</th>\n",
       "      <td>2017-03-31 23:53:33</td>\n",
       "      <td>2017-04-01 00:00:28</td>\n",
       "      <td>327</td>\n",
       "      <td>331</td>\n",
       "      <td>Sheffield Ave &amp; Webster Ave</td>\n",
       "      <td>Halsted St &amp; Blackhawk St (*)</td>\n",
       "      <td>4247</td>\n",
       "      <td>Subscriber</td>\n",
       "      <td>2017-03-31</td>\n",
       "      <td>23</td>\n",
       "      <td>4</td>\n",
       "      <td>13</td>\n",
       "      <td>3</td>\n",
       "    </tr>\n",
       "  </tbody>\n",
       "</table>\n",
       "</div>"
      ],
      "text/plain": [
       "           start_time            end_time  start_station_id  end_station_id  \\\n",
       "0 2017-03-31 23:59:07 2017-04-01 00:13:24                66             171   \n",
       "1 2017-03-31 23:56:25 2017-04-01 00:00:21               199              26   \n",
       "2 2017-03-31 23:55:33 2017-04-01 00:01:21               520             432   \n",
       "3 2017-03-31 23:54:46 2017-03-31 23:59:34               110             142   \n",
       "4 2017-03-31 23:53:33 2017-04-01 00:00:28               327             331   \n",
       "\n",
       "            start_station_name               end_station_name  bike_id  \\\n",
       "0         Clinton St & Lake St          May St & Cullerton St     5292   \n",
       "1       Wabash Ave & Grand Ave       McClurg Ct & Illinois St     4408   \n",
       "2   Greenview Ave & Jarvis Ave            Clark St & Lunt Ave      696   \n",
       "3        Dearborn St & Erie St           McClurg Ct & Erie St     4915   \n",
       "4  Sheffield Ave & Webster Ave  Halsted St & Blackhawk St (*)     4247   \n",
       "\n",
       "    user_type      Daaate  Hour  Weekday  Week  Month  \n",
       "0  Subscriber  2017-03-31    23        4    13      3  \n",
       "1  Subscriber  2017-03-31    23        4    13      3  \n",
       "2  Subscriber  2017-03-31    23        4    13      3  \n",
       "3  Subscriber  2017-03-31    23        4    13      3  \n",
       "4  Subscriber  2017-03-31    23        4    13      3  "
      ]
     },
     "execution_count": 34,
     "metadata": {},
     "output_type": "execute_result"
    }
   ],
   "source": [
    "chg17_timeStamps[\"Daaate\"] = chg17_timeStamps[\"start_time\"].apply(lambda x: x.date()) \n",
    "chg17_timeStamps[\"Hour\"] = chg17_timeStamps[\"start_time\"].apply(lambda x: x.hour) \n",
    "chg17_timeStamps[\"Weekday\"] = chg17_timeStamps[\"start_time\"].apply(lambda x: x.weekday()) \n",
    "chg17_timeStamps[\"Week\"] = chg17_timeStamps[\"start_time\"].apply(lambda x: x.isocalendar()[1]) \n",
    "chg17_timeStamps[\"Month\"] = chg17_timeStamps[\"start_time\"].apply(lambda x: x.month) \n",
    "chg17_timeStamps.head()"
   ]
  }
 ],
 "metadata": {
  "kernelspec": {
   "display_name": "Python 3",
   "language": "python",
   "name": "python3"
  },
  "language_info": {
   "codemirror_mode": {
    "name": "ipython",
    "version": 3
   },
   "file_extension": ".py",
   "mimetype": "text/x-python",
   "name": "python",
   "nbconvert_exporter": "python",
   "pygments_lexer": "ipython3",
   "version": "3.8.10"
  }
 },
 "nbformat": 4,
 "nbformat_minor": 4
}
