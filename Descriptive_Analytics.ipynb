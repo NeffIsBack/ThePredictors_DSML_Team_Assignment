{
 "cells": [
  {
   "cell_type": "markdown",
   "metadata": {},
   "source": [
    "## Import all packages"
   ]
  },
  {
   "cell_type": "code",
   "execution_count": 1,
   "metadata": {},
   "outputs": [],
   "source": [
    "import pandas as pd\n",
    "import numpy as np\n",
    "import matplotlib.pyplot as plt\n",
    "import seaborn as sns\n",
    "import sklearn\n",
    "import statsmodels\n",
    "import folium\n",
    "from folium import plugins\n",
    "from folium.plugins import HeatMap\n",
    "from datetime import datetime #for working with times objects\n",
    "from datetime import timedelta #for working with times objects\n",
    "from datetime import date\n",
    "import math\n",
    "import random\n",
    "import swifter"
   ]
  },
  {
   "cell_type": "markdown",
   "metadata": {},
   "source": [
    "## Import data sets"
   ]
  },
  {
   "cell_type": "code",
   "execution_count": 2,
   "metadata": {},
   "outputs": [],
   "source": [
    "#read in the data\n",
    "\n",
    "chi_data = pd.read_csv(\"chicago_2017.csv\")\n",
    "chi_weather = pd.read_csv(\"weather_hourly_chicago.csv\")"
   ]
  },
  {
   "cell_type": "markdown",
   "metadata": {},
   "source": [
    "## General information about the raw data"
   ]
  },
  {
   "cell_type": "markdown",
   "metadata": {},
   "source": [
    "### chicago_2017 data set"
   ]
  },
  {
   "cell_type": "code",
   "execution_count": 3,
   "metadata": {},
   "outputs": [],
   "source": [
    "#chi_data.info()"
   ]
  },
  {
   "cell_type": "code",
   "execution_count": 4,
   "metadata": {},
   "outputs": [],
   "source": [
    "#chi_data.describe()"
   ]
  },
  {
   "cell_type": "code",
   "execution_count": 5,
   "metadata": {},
   "outputs": [],
   "source": [
    "#chi_data.head()"
   ]
  },
  {
   "cell_type": "markdown",
   "metadata": {},
   "source": [
    "### weather_hourly_chicago data set"
   ]
  },
  {
   "cell_type": "code",
   "execution_count": 6,
   "metadata": {},
   "outputs": [],
   "source": [
    "#chi_weather.info()"
   ]
  },
  {
   "cell_type": "code",
   "execution_count": 7,
   "metadata": {},
   "outputs": [],
   "source": [
    "#chi_weather.describe()"
   ]
  },
  {
   "cell_type": "code",
   "execution_count": 8,
   "metadata": {},
   "outputs": [],
   "source": [
    "#chi_data.head()"
   ]
  },
  {
   "cell_type": "markdown",
   "metadata": {},
   "source": [
    "# Data collection and preparation"
   ]
  },
  {
   "cell_type": "markdown",
   "metadata": {},
   "source": [
    "---> JONA HIER EINFÜGEN"
   ]
  },
  {
   "cell_type": "code",
   "execution_count": 9,
   "metadata": {},
   "outputs": [
    {
     "name": "stdout",
     "output_type": "stream",
     "text": [
      "<class 'pandas.core.frame.DataFrame'>\n",
      "RangeIndex: 3829014 entries, 0 to 3829013\n",
      "Data columns (total 8 columns):\n",
      " #   Column              Dtype \n",
      "---  ------              ----- \n",
      " 0   start_time          object\n",
      " 1   end_time            object\n",
      " 2   start_station_id    int64 \n",
      " 3   end_station_id      int64 \n",
      " 4   start_station_name  object\n",
      " 5   end_station_name    object\n",
      " 6   bike_id             int64 \n",
      " 7   user_type           object\n",
      "dtypes: int64(3), object(5)\n",
      "memory usage: 233.7+ MB\n"
     ]
    }
   ],
   "source": [
    "chi_data.info()"
   ]
  },
  {
   "cell_type": "code",
   "execution_count": 10,
   "metadata": {},
   "outputs": [
    {
     "data": {
      "text/html": [
       "<div>\n",
       "<style scoped>\n",
       "    .dataframe tbody tr th:only-of-type {\n",
       "        vertical-align: middle;\n",
       "    }\n",
       "\n",
       "    .dataframe tbody tr th {\n",
       "        vertical-align: top;\n",
       "    }\n",
       "\n",
       "    .dataframe thead th {\n",
       "        text-align: right;\n",
       "    }\n",
       "</style>\n",
       "<table border=\"1\" class=\"dataframe\">\n",
       "  <thead>\n",
       "    <tr style=\"text-align: right;\">\n",
       "      <th></th>\n",
       "      <th>start_time</th>\n",
       "      <th>end_time</th>\n",
       "      <th>start_station_id</th>\n",
       "      <th>end_station_id</th>\n",
       "      <th>start_station_name</th>\n",
       "      <th>end_station_name</th>\n",
       "      <th>bike_id</th>\n",
       "      <th>user_type</th>\n",
       "    </tr>\n",
       "  </thead>\n",
       "  <tbody>\n",
       "    <tr>\n",
       "      <th>0</th>\n",
       "      <td>3/31/2017 23:59:07</td>\n",
       "      <td>4/1/2017 00:13:24</td>\n",
       "      <td>66</td>\n",
       "      <td>171</td>\n",
       "      <td>Clinton St &amp; Lake St</td>\n",
       "      <td>May St &amp; Cullerton St</td>\n",
       "      <td>5292</td>\n",
       "      <td>Subscriber</td>\n",
       "    </tr>\n",
       "    <tr>\n",
       "      <th>1</th>\n",
       "      <td>3/31/2017 23:56:25</td>\n",
       "      <td>4/1/2017 00:00:21</td>\n",
       "      <td>199</td>\n",
       "      <td>26</td>\n",
       "      <td>Wabash Ave &amp; Grand Ave</td>\n",
       "      <td>McClurg Ct &amp; Illinois St</td>\n",
       "      <td>4408</td>\n",
       "      <td>Subscriber</td>\n",
       "    </tr>\n",
       "    <tr>\n",
       "      <th>2</th>\n",
       "      <td>3/31/2017 23:55:33</td>\n",
       "      <td>4/1/2017 00:01:21</td>\n",
       "      <td>520</td>\n",
       "      <td>432</td>\n",
       "      <td>Greenview Ave &amp; Jarvis Ave</td>\n",
       "      <td>Clark St &amp; Lunt Ave</td>\n",
       "      <td>696</td>\n",
       "      <td>Subscriber</td>\n",
       "    </tr>\n",
       "    <tr>\n",
       "      <th>3</th>\n",
       "      <td>3/31/2017 23:54:46</td>\n",
       "      <td>3/31/2017 23:59:34</td>\n",
       "      <td>110</td>\n",
       "      <td>142</td>\n",
       "      <td>Dearborn St &amp; Erie St</td>\n",
       "      <td>McClurg Ct &amp; Erie St</td>\n",
       "      <td>4915</td>\n",
       "      <td>Subscriber</td>\n",
       "    </tr>\n",
       "    <tr>\n",
       "      <th>4</th>\n",
       "      <td>3/31/2017 23:53:33</td>\n",
       "      <td>4/1/2017 00:00:28</td>\n",
       "      <td>327</td>\n",
       "      <td>331</td>\n",
       "      <td>Sheffield Ave &amp; Webster Ave</td>\n",
       "      <td>Halsted St &amp; Blackhawk St (*)</td>\n",
       "      <td>4247</td>\n",
       "      <td>Subscriber</td>\n",
       "    </tr>\n",
       "  </tbody>\n",
       "</table>\n",
       "</div>"
      ],
      "text/plain": [
       "           start_time            end_time  start_station_id  end_station_id  \\\n",
       "0  3/31/2017 23:59:07   4/1/2017 00:13:24                66             171   \n",
       "1  3/31/2017 23:56:25   4/1/2017 00:00:21               199              26   \n",
       "2  3/31/2017 23:55:33   4/1/2017 00:01:21               520             432   \n",
       "3  3/31/2017 23:54:46  3/31/2017 23:59:34               110             142   \n",
       "4  3/31/2017 23:53:33   4/1/2017 00:00:28               327             331   \n",
       "\n",
       "            start_station_name               end_station_name  bike_id  \\\n",
       "0         Clinton St & Lake St          May St & Cullerton St     5292   \n",
       "1       Wabash Ave & Grand Ave       McClurg Ct & Illinois St     4408   \n",
       "2   Greenview Ave & Jarvis Ave            Clark St & Lunt Ave      696   \n",
       "3        Dearborn St & Erie St           McClurg Ct & Erie St     4915   \n",
       "4  Sheffield Ave & Webster Ave  Halsted St & Blackhawk St (*)     4247   \n",
       "\n",
       "    user_type  \n",
       "0  Subscriber  \n",
       "1  Subscriber  \n",
       "2  Subscriber  \n",
       "3  Subscriber  \n",
       "4  Subscriber  "
      ]
     },
     "execution_count": 10,
     "metadata": {},
     "output_type": "execute_result"
    }
   ],
   "source": [
    "chi_data.head()\n",
    "#checking order of data\n"
   ]
  },
  {
   "cell_type": "code",
   "execution_count": 11,
   "metadata": {},
   "outputs": [
    {
     "data": {
      "text/html": [
       "<div>\n",
       "<style scoped>\n",
       "    .dataframe tbody tr th:only-of-type {\n",
       "        vertical-align: middle;\n",
       "    }\n",
       "\n",
       "    .dataframe tbody tr th {\n",
       "        vertical-align: top;\n",
       "    }\n",
       "\n",
       "    .dataframe thead th {\n",
       "        text-align: right;\n",
       "    }\n",
       "</style>\n",
       "<table border=\"1\" class=\"dataframe\">\n",
       "  <thead>\n",
       "    <tr style=\"text-align: right;\">\n",
       "      <th></th>\n",
       "      <th>start_time</th>\n",
       "      <th>end_time</th>\n",
       "      <th>start_station_id</th>\n",
       "      <th>end_station_id</th>\n",
       "      <th>start_station_name</th>\n",
       "      <th>end_station_name</th>\n",
       "      <th>bike_id</th>\n",
       "      <th>user_type</th>\n",
       "    </tr>\n",
       "  </thead>\n",
       "  <tbody>\n",
       "    <tr>\n",
       "      <th>3829009</th>\n",
       "      <td>10/1/2017 0:01</td>\n",
       "      <td>10/1/2017 0:15</td>\n",
       "      <td>289</td>\n",
       "      <td>226</td>\n",
       "      <td>Wells St &amp; Concord Ln</td>\n",
       "      <td>Racine Ave &amp; Belmont Ave</td>\n",
       "      <td>1099</td>\n",
       "      <td>Subscriber</td>\n",
       "    </tr>\n",
       "    <tr>\n",
       "      <th>3829010</th>\n",
       "      <td>10/1/2017 0:00</td>\n",
       "      <td>10/1/2017 0:07</td>\n",
       "      <td>45</td>\n",
       "      <td>52</td>\n",
       "      <td>Michigan Ave &amp; Congress Pkwy</td>\n",
       "      <td>Michigan Ave &amp; Lake St</td>\n",
       "      <td>3688</td>\n",
       "      <td>Customer</td>\n",
       "    </tr>\n",
       "    <tr>\n",
       "      <th>3829011</th>\n",
       "      <td>10/1/2017 0:00</td>\n",
       "      <td>10/1/2017 0:05</td>\n",
       "      <td>520</td>\n",
       "      <td>447</td>\n",
       "      <td>Greenview Ave &amp; Jarvis Ave</td>\n",
       "      <td>Glenwood Ave &amp; Morse Ave</td>\n",
       "      <td>1416</td>\n",
       "      <td>Customer</td>\n",
       "    </tr>\n",
       "    <tr>\n",
       "      <th>3829012</th>\n",
       "      <td>10/1/2017 0:00</td>\n",
       "      <td>10/1/2017 0:06</td>\n",
       "      <td>288</td>\n",
       "      <td>289</td>\n",
       "      <td>Larrabee St &amp; Armitage Ave</td>\n",
       "      <td>Wells St &amp; Concord Ln</td>\n",
       "      <td>5396</td>\n",
       "      <td>Subscriber</td>\n",
       "    </tr>\n",
       "    <tr>\n",
       "      <th>3829013</th>\n",
       "      <td>10/1/2017 0:00</td>\n",
       "      <td>10/1/2017 0:12</td>\n",
       "      <td>135</td>\n",
       "      <td>129</td>\n",
       "      <td>Halsted St &amp; 21st St</td>\n",
       "      <td>Blue Island Ave &amp; 18th St</td>\n",
       "      <td>5802</td>\n",
       "      <td>Subscriber</td>\n",
       "    </tr>\n",
       "  </tbody>\n",
       "</table>\n",
       "</div>"
      ],
      "text/plain": [
       "             start_time        end_time  start_station_id  end_station_id  \\\n",
       "3829009  10/1/2017 0:01  10/1/2017 0:15               289             226   \n",
       "3829010  10/1/2017 0:00  10/1/2017 0:07                45              52   \n",
       "3829011  10/1/2017 0:00  10/1/2017 0:05               520             447   \n",
       "3829012  10/1/2017 0:00  10/1/2017 0:06               288             289   \n",
       "3829013  10/1/2017 0:00  10/1/2017 0:12               135             129   \n",
       "\n",
       "                   start_station_name           end_station_name  bike_id  \\\n",
       "3829009         Wells St & Concord Ln   Racine Ave & Belmont Ave     1099   \n",
       "3829010  Michigan Ave & Congress Pkwy     Michigan Ave & Lake St     3688   \n",
       "3829011    Greenview Ave & Jarvis Ave   Glenwood Ave & Morse Ave     1416   \n",
       "3829012    Larrabee St & Armitage Ave      Wells St & Concord Ln     5396   \n",
       "3829013          Halsted St & 21st St  Blue Island Ave & 18th St     5802   \n",
       "\n",
       "          user_type  \n",
       "3829009  Subscriber  \n",
       "3829010    Customer  \n",
       "3829011    Customer  \n",
       "3829012  Subscriber  \n",
       "3829013  Subscriber  "
      ]
     },
     "execution_count": 11,
     "metadata": {},
     "output_type": "execute_result"
    }
   ],
   "source": [
    "chi_data.tail() "
   ]
  },
  {
   "cell_type": "code",
   "execution_count": 12,
   "metadata": {},
   "outputs": [],
   "source": [
    "chi_data['start_time'] = pd.to_datetime(chi_data.start_time)\n",
    "#reassuring that data is sorted by time"
   ]
  },
  {
   "cell_type": "code",
   "execution_count": 13,
   "metadata": {},
   "outputs": [],
   "source": [
    "chi_data['end_time'] =  pd.to_datetime(chi_data.end_time)\n"
   ]
  },
  {
   "cell_type": "code",
   "execution_count": 14,
   "metadata": {},
   "outputs": [],
   "source": [
    "chi_data.sort_values(by= 'start_time', inplace = True)\n"
   ]
  },
  {
   "cell_type": "code",
   "execution_count": 15,
   "metadata": {},
   "outputs": [
    {
     "data": {
      "text/html": [
       "<div>\n",
       "<style scoped>\n",
       "    .dataframe tbody tr th:only-of-type {\n",
       "        vertical-align: middle;\n",
       "    }\n",
       "\n",
       "    .dataframe tbody tr th {\n",
       "        vertical-align: top;\n",
       "    }\n",
       "\n",
       "    .dataframe thead th {\n",
       "        text-align: right;\n",
       "    }\n",
       "</style>\n",
       "<table border=\"1\" class=\"dataframe\">\n",
       "  <thead>\n",
       "    <tr style=\"text-align: right;\">\n",
       "      <th></th>\n",
       "      <th>start_time</th>\n",
       "      <th>end_time</th>\n",
       "      <th>start_station_id</th>\n",
       "      <th>end_station_id</th>\n",
       "      <th>start_station_name</th>\n",
       "      <th>end_station_name</th>\n",
       "      <th>bike_id</th>\n",
       "      <th>user_type</th>\n",
       "    </tr>\n",
       "  </thead>\n",
       "  <tbody>\n",
       "    <tr>\n",
       "      <th>3159783</th>\n",
       "      <td>2017-12-31 23:17:00</td>\n",
       "      <td>2017-12-31 23:27:00</td>\n",
       "      <td>49</td>\n",
       "      <td>26</td>\n",
       "      <td>Dearborn St &amp; Monroe St</td>\n",
       "      <td>McClurg Ct &amp; Illinois St</td>\n",
       "      <td>2471</td>\n",
       "      <td>Subscriber</td>\n",
       "    </tr>\n",
       "    <tr>\n",
       "      <th>3159782</th>\n",
       "      <td>2017-12-31 23:21:00</td>\n",
       "      <td>2017-12-31 23:23:00</td>\n",
       "      <td>226</td>\n",
       "      <td>117</td>\n",
       "      <td>Racine Ave &amp; Belmont Ave</td>\n",
       "      <td>Wilton Ave &amp; Belmont Ave</td>\n",
       "      <td>2562</td>\n",
       "      <td>Subscriber</td>\n",
       "    </tr>\n",
       "    <tr>\n",
       "      <th>3159781</th>\n",
       "      <td>2017-12-31 23:34:00</td>\n",
       "      <td>2017-12-31 23:39:00</td>\n",
       "      <td>337</td>\n",
       "      <td>182</td>\n",
       "      <td>Clark St &amp; Chicago Ave</td>\n",
       "      <td>Wells St &amp; Elm St</td>\n",
       "      <td>6351</td>\n",
       "      <td>Subscriber</td>\n",
       "    </tr>\n",
       "    <tr>\n",
       "      <th>3159780</th>\n",
       "      <td>2017-12-31 23:41:00</td>\n",
       "      <td>2017-12-31 23:51:00</td>\n",
       "      <td>93</td>\n",
       "      <td>343</td>\n",
       "      <td>Sheffield Ave &amp; Willow St</td>\n",
       "      <td>Racine Ave &amp; Wrightwood Ave</td>\n",
       "      <td>5840</td>\n",
       "      <td>Subscriber</td>\n",
       "    </tr>\n",
       "    <tr>\n",
       "      <th>3159779</th>\n",
       "      <td>2017-12-31 23:42:00</td>\n",
       "      <td>2017-12-31 23:47:00</td>\n",
       "      <td>240</td>\n",
       "      <td>245</td>\n",
       "      <td>Sheridan Rd &amp; Irving Park Rd</td>\n",
       "      <td>Clarendon Ave &amp; Junior Ter</td>\n",
       "      <td>5353</td>\n",
       "      <td>Subscriber</td>\n",
       "    </tr>\n",
       "    <tr>\n",
       "      <th>3159778</th>\n",
       "      <td>2017-12-31 23:48:00</td>\n",
       "      <td>2017-12-31 23:53:00</td>\n",
       "      <td>340</td>\n",
       "      <td>143</td>\n",
       "      <td>Clark St &amp; Wrightwood Ave</td>\n",
       "      <td>Sedgwick St &amp; Webster Ave</td>\n",
       "      <td>5667</td>\n",
       "      <td>Subscriber</td>\n",
       "    </tr>\n",
       "    <tr>\n",
       "      <th>3159776</th>\n",
       "      <td>2017-12-31 23:54:00</td>\n",
       "      <td>2018-01-01 00:18:00</td>\n",
       "      <td>145</td>\n",
       "      <td>145</td>\n",
       "      <td>Mies van der Rohe Way &amp; Chestnut St</td>\n",
       "      <td>Mies van der Rohe Way &amp; Chestnut St</td>\n",
       "      <td>5975</td>\n",
       "      <td>Customer</td>\n",
       "    </tr>\n",
       "    <tr>\n",
       "      <th>3159777</th>\n",
       "      <td>2017-12-31 23:54:00</td>\n",
       "      <td>2018-01-01 00:18:00</td>\n",
       "      <td>145</td>\n",
       "      <td>145</td>\n",
       "      <td>Mies van der Rohe Way &amp; Chestnut St</td>\n",
       "      <td>Mies van der Rohe Way &amp; Chestnut St</td>\n",
       "      <td>4906</td>\n",
       "      <td>Customer</td>\n",
       "    </tr>\n",
       "    <tr>\n",
       "      <th>3159775</th>\n",
       "      <td>2017-12-31 23:58:00</td>\n",
       "      <td>2018-01-01 00:03:00</td>\n",
       "      <td>159</td>\n",
       "      <td>69</td>\n",
       "      <td>Claremont Ave &amp; Hirsch St</td>\n",
       "      <td>Damen Ave &amp; Pierce Ave</td>\n",
       "      <td>3304</td>\n",
       "      <td>Subscriber</td>\n",
       "    </tr>\n",
       "  </tbody>\n",
       "</table>\n",
       "</div>"
      ],
      "text/plain": [
       "                 start_time            end_time  start_station_id  \\\n",
       "3159783 2017-12-31 23:17:00 2017-12-31 23:27:00                49   \n",
       "3159782 2017-12-31 23:21:00 2017-12-31 23:23:00               226   \n",
       "3159781 2017-12-31 23:34:00 2017-12-31 23:39:00               337   \n",
       "3159780 2017-12-31 23:41:00 2017-12-31 23:51:00                93   \n",
       "3159779 2017-12-31 23:42:00 2017-12-31 23:47:00               240   \n",
       "3159778 2017-12-31 23:48:00 2017-12-31 23:53:00               340   \n",
       "3159776 2017-12-31 23:54:00 2018-01-01 00:18:00               145   \n",
       "3159777 2017-12-31 23:54:00 2018-01-01 00:18:00               145   \n",
       "3159775 2017-12-31 23:58:00 2018-01-01 00:03:00               159   \n",
       "\n",
       "         end_station_id                   start_station_name  \\\n",
       "3159783              26              Dearborn St & Monroe St   \n",
       "3159782             117             Racine Ave & Belmont Ave   \n",
       "3159781             182               Clark St & Chicago Ave   \n",
       "3159780             343            Sheffield Ave & Willow St   \n",
       "3159779             245         Sheridan Rd & Irving Park Rd   \n",
       "3159778             143            Clark St & Wrightwood Ave   \n",
       "3159776             145  Mies van der Rohe Way & Chestnut St   \n",
       "3159777             145  Mies van der Rohe Way & Chestnut St   \n",
       "3159775              69            Claremont Ave & Hirsch St   \n",
       "\n",
       "                            end_station_name  bike_id   user_type  \n",
       "3159783             McClurg Ct & Illinois St     2471  Subscriber  \n",
       "3159782             Wilton Ave & Belmont Ave     2562  Subscriber  \n",
       "3159781                    Wells St & Elm St     6351  Subscriber  \n",
       "3159780          Racine Ave & Wrightwood Ave     5840  Subscriber  \n",
       "3159779           Clarendon Ave & Junior Ter     5353  Subscriber  \n",
       "3159778            Sedgwick St & Webster Ave     5667  Subscriber  \n",
       "3159776  Mies van der Rohe Way & Chestnut St     5975    Customer  \n",
       "3159777  Mies van der Rohe Way & Chestnut St     4906    Customer  \n",
       "3159775               Damen Ave & Pierce Ave     3304  Subscriber  "
      ]
     },
     "execution_count": 15,
     "metadata": {},
     "output_type": "execute_result"
    }
   ],
   "source": [
    "chi_data.tail(9)"
   ]
  },
  {
   "cell_type": "code",
   "execution_count": 16,
   "metadata": {},
   "outputs": [
    {
     "data": {
      "text/plain": [
       "start_time            2823388\n",
       "end_time              2736001\n",
       "start_station_id          585\n",
       "end_station_id            585\n",
       "start_station_name        593\n",
       "end_station_name          593\n",
       "bike_id                  6243\n",
       "user_type                   3\n",
       "dtype: int64"
      ]
     },
     "execution_count": 16,
     "metadata": {},
     "output_type": "execute_result"
    }
   ],
   "source": [
    "chi_data.nunique()\n",
    "#comparing Trip-IDs with number of unique Trips"
   ]
  },
  {
   "cell_type": "code",
   "execution_count": 17,
   "metadata": {},
   "outputs": [
    {
     "ename": "AttributeError",
     "evalue": "'DataFrame' object has no attribute 'trip_id'",
     "output_type": "error",
     "traceback": [
      "\u001b[1;31m---------------------------------------------------------------------------\u001b[0m",
      "\u001b[1;31mAttributeError\u001b[0m                            Traceback (most recent call last)",
      "\u001b[1;32m<ipython-input-17-6cb758cb1d1a>\u001b[0m in \u001b[0;36m<module>\u001b[1;34m\u001b[0m\n\u001b[1;32m----> 1\u001b[1;33m \u001b[0mx\u001b[0m \u001b[1;33m=\u001b[0m \u001b[0mchi_data\u001b[0m\u001b[1;33m.\u001b[0m\u001b[0mtrip_id\u001b[0m\u001b[1;33m.\u001b[0m\u001b[0mvalue_counts\u001b[0m\u001b[1;33m(\u001b[0m\u001b[1;33m)\u001b[0m\u001b[1;33m\u001b[0m\u001b[1;33m\u001b[0m\u001b[0m\n\u001b[0m\u001b[0;32m      2\u001b[0m \u001b[0mx\u001b[0m\u001b[1;33m\u001b[0m\u001b[1;33m\u001b[0m\u001b[0m\n\u001b[0;32m      3\u001b[0m \u001b[1;31m#checking if trip_ids are unique\u001b[0m\u001b[1;33m\u001b[0m\u001b[1;33m\u001b[0m\u001b[1;33m\u001b[0m\u001b[0m\n",
      "\u001b[1;32m~\\anaconda3\\lib\\site-packages\\pandas\\core\\generic.py\u001b[0m in \u001b[0;36m__getattr__\u001b[1;34m(self, name)\u001b[0m\n\u001b[0;32m   5463\u001b[0m             \u001b[1;32mif\u001b[0m \u001b[0mself\u001b[0m\u001b[1;33m.\u001b[0m\u001b[0m_info_axis\u001b[0m\u001b[1;33m.\u001b[0m\u001b[0m_can_hold_identifiers_and_holds_name\u001b[0m\u001b[1;33m(\u001b[0m\u001b[0mname\u001b[0m\u001b[1;33m)\u001b[0m\u001b[1;33m:\u001b[0m\u001b[1;33m\u001b[0m\u001b[1;33m\u001b[0m\u001b[0m\n\u001b[0;32m   5464\u001b[0m                 \u001b[1;32mreturn\u001b[0m \u001b[0mself\u001b[0m\u001b[1;33m[\u001b[0m\u001b[0mname\u001b[0m\u001b[1;33m]\u001b[0m\u001b[1;33m\u001b[0m\u001b[1;33m\u001b[0m\u001b[0m\n\u001b[1;32m-> 5465\u001b[1;33m             \u001b[1;32mreturn\u001b[0m \u001b[0mobject\u001b[0m\u001b[1;33m.\u001b[0m\u001b[0m__getattribute__\u001b[0m\u001b[1;33m(\u001b[0m\u001b[0mself\u001b[0m\u001b[1;33m,\u001b[0m \u001b[0mname\u001b[0m\u001b[1;33m)\u001b[0m\u001b[1;33m\u001b[0m\u001b[1;33m\u001b[0m\u001b[0m\n\u001b[0m\u001b[0;32m   5466\u001b[0m \u001b[1;33m\u001b[0m\u001b[0m\n\u001b[0;32m   5467\u001b[0m     \u001b[1;32mdef\u001b[0m \u001b[0m__setattr__\u001b[0m\u001b[1;33m(\u001b[0m\u001b[0mself\u001b[0m\u001b[1;33m,\u001b[0m \u001b[0mname\u001b[0m\u001b[1;33m:\u001b[0m \u001b[0mstr\u001b[0m\u001b[1;33m,\u001b[0m \u001b[0mvalue\u001b[0m\u001b[1;33m)\u001b[0m \u001b[1;33m->\u001b[0m \u001b[1;32mNone\u001b[0m\u001b[1;33m:\u001b[0m\u001b[1;33m\u001b[0m\u001b[1;33m\u001b[0m\u001b[0m\n",
      "\u001b[1;31mAttributeError\u001b[0m: 'DataFrame' object has no attribute 'trip_id'"
     ]
    }
   ],
   "source": [
    "x = chi_data.trip_id.value_counts()\n",
    "x\n",
    "#checking if trip_ids are unique"
   ]
  },
  {
   "cell_type": "code",
   "execution_count": null,
   "metadata": {},
   "outputs": [],
   "source": [
    "chi_data_test = chi_data[chi_data.trip_id.isin(x.index[x.gt(1)])]\n",
    "#checking if trip_id matches index"
   ]
  },
  {
   "cell_type": "code",
   "execution_count": null,
   "metadata": {},
   "outputs": [],
   "source": [
    "chi_data_test"
   ]
  },
  {
   "cell_type": "code",
   "execution_count": null,
   "metadata": {},
   "outputs": [],
   "source": [
    "chi_data.drop_duplicates(inplace=True, ignore_index=True) \n",
    "#deleting duplicate listed trips"
   ]
  },
  {
   "cell_type": "code",
   "execution_count": null,
   "metadata": {},
   "outputs": [],
   "source": [
    "chi_data.info()"
   ]
  },
  {
   "cell_type": "code",
   "execution_count": null,
   "metadata": {},
   "outputs": [],
   "source": [
    "chi_data['tripduration'].describe()"
   ]
  },
  {
   "cell_type": "code",
   "execution_count": null,
   "metadata": {},
   "outputs": [],
   "source": [
    "chi_data['tripduration'].value_counts()"
   ]
  },
  {
   "cell_type": "code",
   "execution_count": null,
   "metadata": {},
   "outputs": [],
   "source": [
    "chi_data.sort_values (by= 'tripduration')"
   ]
  },
  {
   "cell_type": "code",
   "execution_count": null,
   "metadata": {},
   "outputs": [],
   "source": [
    "chi_data_60sec_trips=chi_data[chi_data.tripduration == 60]\n",
    "chi_data_60sec_trips.count()\n",
    "\n",
    "#checking quantity of very short trips"
   ]
  },
  {
   "cell_type": "code",
   "execution_count": null,
   "metadata": {},
   "outputs": [],
   "source": [
    "chi_data_idcheck = chi_data[['from_station_id', 'from_station_name']]"
   ]
  },
  {
   "cell_type": "code",
   "execution_count": null,
   "metadata": {},
   "outputs": [],
   "source": [
    "grouped_chi_data = chi_data_idcheck.groupby(['from_station_id'])\n",
    "grouped_chi_data = grouped_chi_data.agg({\"from_station_name\": \"nunique\"})\n",
    "\n",
    "grouped_chi_data = grouped_chi_data. reset_index()\n",
    "\n",
    "print(grouped_chi_data)"
   ]
  },
  {
   "cell_type": "code",
   "execution_count": null,
   "metadata": {},
   "outputs": [],
   "source": [
    "bad_ids = grouped_chi_data[grouped_chi_data['from_station_name']>1]\n",
    "\n",
    "#listing IDs that are associated with multiple names"
   ]
  },
  {
   "cell_type": "code",
   "execution_count": null,
   "metadata": {},
   "outputs": [],
   "source": [
    "bad_ids"
   ]
  },
  {
   "cell_type": "code",
   "execution_count": null,
   "metadata": {},
   "outputs": [],
   "source": [
    "chi_data.to_csv('cleanedtrips.csv')"
   ]
  },
  {
   "cell_type": "code",
   "execution_count": null,
   "metadata": {},
   "outputs": [],
   "source": []
  },
  {
   "cell_type": "code",
   "execution_count": null,
   "metadata": {},
   "outputs": [],
   "source": []
  },
  {
   "cell_type": "code",
   "execution_count": null,
   "metadata": {},
   "outputs": [],
   "source": []
  },
  {
   "cell_type": "code",
   "execution_count": null,
   "metadata": {},
   "outputs": [],
   "source": []
  },
  {
   "cell_type": "markdown",
   "metadata": {},
   "source": [
    "## Add date time features to chi_data"
   ]
  },
  {
   "cell_type": "code",
   "execution_count": null,
   "metadata": {},
   "outputs": [],
   "source": [
    "chi_data['start_time']= pd.to_datetime(chi_data['start_time'])"
   ]
  },
  {
   "cell_type": "code",
   "execution_count": null,
   "metadata": {},
   "outputs": [],
   "source": [
    "chi_data['end_time'] = pd.to_datetime(chi_data['end_time'])"
   ]
  },
  {
   "cell_type": "code",
   "execution_count": null,
   "metadata": {},
   "outputs": [],
   "source": [
    "chi_data.sort_values(['start_time'], inplace = True) #Sorts the values by date "
   ]
  },
  {
   "cell_type": "code",
   "execution_count": null,
   "metadata": {},
   "outputs": [],
   "source": [
    "chi_data[\"Date\"] = chi_data['start_time'].swifter.apply(lambda dt: dt.date())"
   ]
  },
  {
   "cell_type": "code",
   "execution_count": null,
   "metadata": {},
   "outputs": [],
   "source": [
    "chi_data[\"Month\"] = chi_data['start_time'].swifter.apply(lambda dt: dt.month)"
   ]
  },
  {
   "cell_type": "code",
   "execution_count": null,
   "metadata": {},
   "outputs": [],
   "source": [
    "chi_data[\"Week\"] = chi_data['start_time'].swifter.apply(lambda dt: dt.isocalendar()[1])"
   ]
  },
  {
   "cell_type": "code",
   "execution_count": null,
   "metadata": {},
   "outputs": [],
   "source": [
    "chi_data[\"Hour\"] = chi_data['start_time'].swifter.apply(lambda dt: dt.hour)"
   ]
  },
  {
   "cell_type": "code",
   "execution_count": null,
   "metadata": {},
   "outputs": [],
   "source": [
    "chi_data[\"Weekday\"] = chi_data['start_time'].swifter.apply(lambda dt: dt.weekday())"
   ]
  },
  {
   "cell_type": "code",
   "execution_count": null,
   "metadata": {},
   "outputs": [],
   "source": [
    "chi_data['Duration'] = (chi_data['end_time']-chi_data['start_time'])"
   ]
  },
  {
   "cell_type": "code",
   "execution_count": null,
   "metadata": {},
   "outputs": [],
   "source": [
    "chi_data[\"Duration_sec\"] = chi_data[\"Duration\"].swifter.apply(lambda x: x.total_seconds())"
   ]
  },
  {
   "cell_type": "code",
   "execution_count": null,
   "metadata": {},
   "outputs": [],
   "source": [
    "chi_data[\"IsWeekday\"] = chi_data[\"Weekday\"].swifter.apply(lambda x: 1 if x < 5 else 0)"
   ]
  },
  {
   "cell_type": "code",
   "execution_count": null,
   "metadata": {},
   "outputs": [],
   "source": [
    "#chi_data.head()"
   ]
  },
  {
   "cell_type": "markdown",
   "metadata": {},
   "source": [
    "## Add date weather features to chi_weather_2017"
   ]
  },
  {
   "cell_type": "code",
   "execution_count": null,
   "metadata": {},
   "outputs": [],
   "source": [
    "chi_weather['date_time']=pd.to_datetime(chi_weather['date_time'])"
   ]
  },
  {
   "cell_type": "code",
   "execution_count": null,
   "metadata": {},
   "outputs": [],
   "source": [
    "first_date = datetime(year=2017, day=1, month=1)\n",
    "last_date = datetime(year=2017, day=31, month=12)\n",
    "chi_weather_2017 = chi_weather[(chi_weather['date_time']>=first_date)&(chi_weather[\"date_time\"] <= last_date)]"
   ]
  },
  {
   "cell_type": "code",
   "execution_count": null,
   "metadata": {},
   "outputs": [],
   "source": [
    "chi_weather_2017.sort_values(by = \"date_time\", inplace = True) #sort the values by date time"
   ]
  },
  {
   "cell_type": "code",
   "execution_count": null,
   "metadata": {},
   "outputs": [],
   "source": [
    "chi_weather_2017[\"Date\"] = chi_weather_2017['date_time'].swifter.apply(lambda dt: dt.date())"
   ]
  },
  {
   "cell_type": "code",
   "execution_count": null,
   "metadata": {
    "scrolled": true
   },
   "outputs": [],
   "source": [
    "chi_weather_2017['Month']= chi_weather_2017[\"date_time\"].swifter.apply(lambda dt: dt.month)"
   ]
  },
  {
   "cell_type": "code",
   "execution_count": null,
   "metadata": {
    "scrolled": false
   },
   "outputs": [],
   "source": [
    "chi_weather_2017[\"Week\"] = chi_weather_2017['date_time'].swifter.apply(lambda dt: dt.isocalendar()[1])"
   ]
  },
  {
   "cell_type": "code",
   "execution_count": null,
   "metadata": {
    "scrolled": true
   },
   "outputs": [],
   "source": [
    "chi_weather_2017[\"Hour\"] = chi_weather_2017['date_time'].swifter.apply(lambda dt: dt.hour)"
   ]
  },
  {
   "cell_type": "code",
   "execution_count": null,
   "metadata": {
    "scrolled": false
   },
   "outputs": [],
   "source": [
    "chi_weather_2017[\"Weekday\"] = chi_weather_2017['date_time'].swifter.apply(lambda dt: dt.weekday())"
   ]
  },
  {
   "cell_type": "code",
   "execution_count": null,
   "metadata": {},
   "outputs": [],
   "source": [
    "chi_weather_2017[\"mean_temp\"] = (chi_weather_2017['max_temp']+chi_weather_2017['min_temp'])/2"
   ]
  },
  {
   "cell_type": "code",
   "execution_count": null,
   "metadata": {},
   "outputs": [],
   "source": [
    "#chi_weather_2017.head()"
   ]
  },
  {
   "cell_type": "markdown",
   "metadata": {},
   "source": [
    "# Descriptive analystics"
   ]
  },
  {
   "cell_type": "markdown",
   "metadata": {},
   "source": [
    "## Fleet size"
   ]
  },
  {
   "cell_type": "code",
   "execution_count": null,
   "metadata": {},
   "outputs": [],
   "source": [
    "bikes = len(chi_data['bike_id'].unique())\n",
    "print(\"The overall number of bikes is {}\".format(bikes))"
   ]
  },
  {
   "cell_type": "markdown",
   "metadata": {},
   "source": [
    "## Temporal demand patterns"
   ]
  },
  {
   "cell_type": "markdown",
   "metadata": {},
   "source": [
    "### Bike rentals"
   ]
  },
  {
   "cell_type": "markdown",
   "metadata": {},
   "source": [
    "#### Bike rentals per month"
   ]
  },
  {
   "cell_type": "code",
   "execution_count": null,
   "metadata": {},
   "outputs": [],
   "source": [
    "rentals_month = chi_data.groupby(['Month'])['bike_id'].count()\n",
    "rentals_month = pd.DataFrame(rentals_month)\n",
    "\n",
    "fig, ax = plt.subplots(figsize = (10,6))\n",
    "\n",
    "ax.plot(rentals_month)\n",
    "ax.set_title('Bike rentals per month')\n",
    "ax.set_xlabel('Month')\n",
    "ax.set_ylabel(\"Bike rentals\")\n",
    "plt.show()"
   ]
  },
  {
   "cell_type": "code",
   "execution_count": null,
   "metadata": {},
   "outputs": [],
   "source": [
    "rentals_month_bp = chi_data.groupby(['Date','Month'])['bike_id'].count()\n",
    "rentals_month_bp = pd.DataFrame(rentals_month_bp)\n",
    "\n",
    "fig, ax = plt.subplots(figsize = (10,6))\n",
    "\n",
    "sns.boxplot(x = rentals_month_bp.index.get_level_values('Month'), y =rentals_month_bp['bike_id'], ax = ax)\n",
    "ax.set_title('Bike rentals per month')\n",
    "ax.set_ylabel(\"Bike rentals\")\n",
    "plt.show()"
   ]
  },
  {
   "cell_type": "markdown",
   "metadata": {},
   "source": [
    "#### Bike rentals per week"
   ]
  },
  {
   "cell_type": "code",
   "execution_count": null,
   "metadata": {},
   "outputs": [],
   "source": [
    "rentals_week = chi_data.groupby(\"Week\")['bike_id'].count()\n",
    "rentals_week = pd.DataFrame(rentals_week)\n",
    "\n",
    "fig, ax = plt.subplots(figsize = (10,6))\n",
    "\n",
    "ax.plot(rentals_week, c = \"green\")\n",
    "\n",
    "ax.set_title('Bike rentals per week')\n",
    "ax.set_ylabel(\"Bike rentals\")\n",
    "ax.set_xlabel(\"Week\")\n",
    "plt.show()"
   ]
  },
  {
   "cell_type": "markdown",
   "metadata": {},
   "source": [
    "#### Bike rentals per weekday"
   ]
  },
  {
   "cell_type": "code",
   "execution_count": null,
   "metadata": {
    "scrolled": true
   },
   "outputs": [],
   "source": [
    "rentals_weekday = chi_data.groupby(['Weekday','Date'])['bike_id'].count()\n",
    "rentals_weekday = pd.DataFrame(rentals_weekday)\n",
    "\n",
    "fig, ax = plt.subplots(figsize = (10,6))\n",
    "\n",
    "sns.boxplot(x = rentals_weekday.index.get_level_values('Weekday'), y =rentals_weekday['bike_id'], ax = ax)\n",
    "ax.set_title('Bike rentals per weekday')\n",
    "ax.set_ylabel(\"Bike rentals\")\n",
    "\n",
    "plt.show()"
   ]
  },
  {
   "cell_type": "code",
   "execution_count": null,
   "metadata": {},
   "outputs": [],
   "source": [
    "# legende Zahl - Wochentag"
   ]
  },
  {
   "cell_type": "markdown",
   "metadata": {},
   "source": [
    "#### Bike rentals over year per day "
   ]
  },
  {
   "cell_type": "code",
   "execution_count": null,
   "metadata": {
    "scrolled": true
   },
   "outputs": [],
   "source": [
    "rentals_day = chi_data.groupby(\"Date\")['bike_id'].count()\n",
    "rentals_day = pd.DataFrame(rentals_day)\n",
    "\n",
    "fig, ax = plt.subplots(figsize = (10,6))\n",
    "\n",
    "ax.plot(rentals_day, c = \"green\")\n",
    "\n",
    "ax.set_title('Bike rentals per day')\n",
    "ax.set_ylabel(\"Bike rentals\")\n",
    "ax.set_xlabel(\"Day\")\n",
    "plt.show()"
   ]
  },
  {
   "cell_type": "markdown",
   "metadata": {},
   "source": [
    "#### Bike rentals per hour"
   ]
  },
  {
   "cell_type": "code",
   "execution_count": null,
   "metadata": {},
   "outputs": [],
   "source": [
    "rentals_hour = chi_data.groupby([\"Date\",\"Hour\"])['bike_id'].count()\n",
    "rentals_hour =pd.DataFrame(rentals_hour)\n",
    "\n",
    "fig, ax = plt.subplots(figsize = (10,6))\n",
    "\n",
    "\n",
    "sns.boxplot(x = rentals_hour.index.get_level_values(\"Hour\"), y =rentals_hour['bike_id'], ax = ax)\n",
    "ax.set_title('Bike rentals per hour')\n",
    "ax.set_ylabel(\"Bike rentals\")\n",
    "plt.show()\n",
    "rentals_hour"
   ]
  },
  {
   "cell_type": "code",
   "execution_count": null,
   "metadata": {
    "scrolled": false
   },
   "outputs": [],
   "source": [
    "rentals_hour = chi_data.groupby(['Hour'])['bike_id'].count()\n",
    "rentals_hour = pd.DataFrame(rentals_hour)\n",
    "\n",
    "fig, ax = plt.subplots(figsize = (10,6))\n",
    "\n",
    "ax.plot(rentals_hour)\n",
    "ax.set_title('Bike rentals per hour')\n",
    "ax.set_ylabel(\"Bike rentals\")\n",
    "ax.set_xlabel(\"Hour\")\n",
    "plt.show"
   ]
  },
  {
   "cell_type": "markdown",
   "metadata": {},
   "source": [
    "#### Correlation between weekday, hour & rentals???"
   ]
  },
  {
   "cell_type": "markdown",
   "metadata": {},
   "source": [
    "### Duration/Travel time"
   ]
  },
  {
   "cell_type": "markdown",
   "metadata": {},
   "source": [
    "#### Duration per week"
   ]
  },
  {
   "cell_type": "code",
   "execution_count": null,
   "metadata": {},
   "outputs": [],
   "source": [
    "duration_week = chi_data.groupby(\"Week\")[\"Duration_sec\"].mean()\n",
    "duration_week = pd.DataFrame(duration_week)\n",
    "\n",
    "fig, ax = plt.subplots(figsize = (10,6))\n",
    "\n",
    "ax.plot(duration_week)\n",
    "\n",
    "ax.set_title('Duration of rentals per week')\n",
    "ax.set_ylabel('Duration of rentals')\n",
    "ax.set_xlabel('Week')\n",
    "plt.show()"
   ]
  },
  {
   "cell_type": "markdown",
   "metadata": {},
   "source": [
    "#### Duration per weekday"
   ]
  },
  {
   "cell_type": "code",
   "execution_count": null,
   "metadata": {},
   "outputs": [],
   "source": [
    "duration_weekday = chi_data.groupby(\"Weekday\")[\"Duration_sec\"].mean()\n",
    "duration_weekday = pd.DataFrame(duration_weekday)\n",
    "\n",
    "fig, ax = plt.subplots(figsize = (10,6))\n",
    "\n",
    "ax.plot(duration_weekday)\n",
    "\n",
    "ax.set_title('Duration of rentals per weekday')\n",
    "ax.set_ylabel('Duration of rentals')\n",
    "ax.set_xlabel('Weekday')\n",
    "plt.show()"
   ]
  },
  {
   "cell_type": "code",
   "execution_count": null,
   "metadata": {},
   "outputs": [],
   "source": [
    "duration_weekday_bp = chi_data.groupby([\"Date\",\"Weekday\"])['Duration_sec'].mean()\n",
    "duration_weekday_bp =pd.DataFrame(duration_weekday_bp)\n",
    "\n",
    "fig, ax = plt.subplots(figsize = (10,6))\n",
    "\n",
    "\n",
    "sns.boxplot(x = duration_weekday_bp.index.get_level_values(\"Weekday\"), y =duration_weekday_bp['Duration_sec'], ax = ax)\n",
    "ax.set_title('Duration of rentals per weekday')\n",
    "ax.set_ylabel('Duration of rentals')\n",
    "plt.show()"
   ]
  },
  {
   "cell_type": "markdown",
   "metadata": {},
   "source": [
    "#### Duration per hour"
   ]
  },
  {
   "cell_type": "code",
   "execution_count": null,
   "metadata": {
    "scrolled": true
   },
   "outputs": [],
   "source": [
    "duration_hour = chi_data.groupby(\"Hour\")[\"Duration_sec\"].mean()\n",
    "duration_hour = pd.DataFrame(duration_hour)\n",
    "\n",
    "fig, ax = plt.subplots(figsize = (10,6))\n",
    "\n",
    "ax.plot(duration_hour)\n",
    "\n",
    "ax.set_title('Duration of rentals per hour')\n",
    "ax.set_ylabel('Duration of rentals')\n",
    "ax.set_xlabel('Hour')\n",
    "plt.show()"
   ]
  },
  {
   "cell_type": "markdown",
   "metadata": {},
   "source": [
    "### Weather"
   ]
  },
  {
   "cell_type": "markdown",
   "metadata": {},
   "source": [
    "#### Temperature monthly"
   ]
  },
  {
   "cell_type": "code",
   "execution_count": null,
   "metadata": {},
   "outputs": [],
   "source": [
    "temp_month_mean = chi_weather_2017.groupby(\"Month\")[\"mean_temp\"].mean()\n",
    "\n",
    "fig, ax = plt.subplots(figsize = (10,6))\n",
    "\n",
    "ax.plot(temp_month_mean)\n",
    "ax.set_xlabel('Month')\n",
    "ax.set_ylabel('Temperature')\n",
    "ax.set_title(\"Average temperature per month\")\n",
    "\n",
    "plt.show()"
   ]
  },
  {
   "cell_type": "code",
   "execution_count": null,
   "metadata": {},
   "outputs": [],
   "source": [
    "temp_month_mean_bp = chi_weather_2017.groupby(['Date','Month'])['mean_temp'].mean()\n",
    "temp_month_mean_bp = pd.DataFrame(temp_month_mean_bp)\n",
    "\n",
    "fig, ax = plt.subplots(figsize = (10,6))\n",
    "\n",
    "sns.boxplot(x = temp_month_mean_bp.index.get_level_values('Month'), y =temp_month_mean_bp['mean_temp'], ax = ax)\n",
    "\n",
    "ax.set_title('Average temperature per month')\n",
    "ax.set_ylabel(\"Temperature\")\n",
    "ax.set_xlabel(\"Month\")\n",
    "plt.show()"
   ]
  },
  {
   "cell_type": "code",
   "execution_count": null,
   "metadata": {},
   "outputs": [],
   "source": [
    "temp_day_min = chi_weather_2017.groupby(\"Date\")[\"mean_temp\"].min()\n",
    "\n",
    "temp_day_max = chi_weather_2017.groupby(\"Date\")[\"mean_temp\"].max()\n",
    "\n",
    "fig, ax = plt.subplots(figsize = (10,6))\n",
    "\n",
    "ax.plot(temp_day_max, c = \"red\", label = \"Max temperature\")\n",
    "ax.plot(temp_day_min, c = \"blue\", label = \"Min temperature\")\n",
    "plt.legend()\n",
    "ax.set_title('Average temperature per day')\n",
    "ax.set_ylabel(\"Temperature\")\n",
    "ax.set_xlabel('Day')\n",
    "\n",
    "plt.show()"
   ]
  },
  {
   "cell_type": "markdown",
   "metadata": {},
   "source": [
    "#### Temperature weekly"
   ]
  },
  {
   "cell_type": "code",
   "execution_count": null,
   "metadata": {},
   "outputs": [],
   "source": [
    "temp_week_mean = chi_weather_2017.groupby(\"Week\")[\"mean_temp\"].mean()\n",
    "\n",
    "fig, ax = plt.subplots(figsize = (10,6))\n",
    "\n",
    "ax.plot(temp_week_mean)\n",
    "ax.set_ylabel(\"Temperature\")\n",
    "ax.set_xlabel('Week')\n",
    "ax.set_title('Average temperature per week')\n",
    "plt.show()"
   ]
  },
  {
   "cell_type": "markdown",
   "metadata": {},
   "source": [
    "#### Temperature daily"
   ]
  },
  {
   "cell_type": "code",
   "execution_count": null,
   "metadata": {},
   "outputs": [],
   "source": [
    "temp_day_mean = chi_weather_2017.groupby(\"Date\")[\"mean_temp\"].mean()\n",
    "\n",
    "fig, ax = plt.subplots(figsize = (10,6))\n",
    "\n",
    "ax.plot(temp_day_mean, c = \"red\")\n",
    "ax.set_title('Average temperature per day')\n",
    "ax.set_ylabel(\"Temperature\")\n",
    "ax.set_xlabel('Day')\n",
    "\n",
    "plt.show()"
   ]
  },
  {
   "cell_type": "code",
   "execution_count": null,
   "metadata": {},
   "outputs": [],
   "source": [
    "temp_day_min = chi_weather_2017.groupby(\"Date\")[\"mean_temp\"].min()\n",
    "\n",
    "temp_day_max = chi_weather_2017.groupby(\"Date\")[\"mean_temp\"].max()\n",
    "\n",
    "fig, ax = plt.subplots(figsize = (10,6))\n",
    "\n",
    "ax.plot(temp_day_max, c = \"red\", label = \"Max temperature\")\n",
    "ax.plot(temp_day_min, c = \"blue\", label = \"Min temperature\")\n",
    "plt.legend()\n",
    "ax.set_title('Average temperature per day')\n",
    "ax.set_ylabel(\"Temperature\")\n",
    "ax.set_xlabel('Day')\n",
    "\n",
    "plt.show()"
   ]
  },
  {
   "cell_type": "markdown",
   "metadata": {},
   "source": [
    "#### Precip monthly"
   ]
  },
  {
   "cell_type": "code",
   "execution_count": null,
   "metadata": {
    "scrolled": false
   },
   "outputs": [],
   "source": [
    "precip_month_mean = chi_weather_2017.groupby(\"Month\")[\"precip\"].mean()\n",
    "\n",
    "fig, ax = plt.subplots(figsize = (16,9))\n",
    "\n",
    "ax.plot(precip_month_mean)\n",
    "ax.set_xlabel('Month')\n",
    "ax.set_ylabel('Precip percentage')\n",
    "ax.set_title(\"Monthly precip percentage\")\n",
    "\n",
    "plt.show()"
   ]
  },
  {
   "cell_type": "code",
   "execution_count": null,
   "metadata": {},
   "outputs": [],
   "source": [
    "precip_month_mean_bp = chi_weather_2017.groupby(['Date','Month'])['precip'].mean()\n",
    "precip_month_mean_bp = pd.DataFrame(precip_month_mean_bp)\n",
    "\n",
    "fig, ax = plt.subplots(figsize = (10,6))\n",
    "\n",
    "sns.boxplot(x = precip_month_mean_bp.index.get_level_values('Month'), y =precip_month_mean_bp['precip'], ax = ax)\n",
    "\n",
    "ax.set_xlabel('Month')\n",
    "ax.set_ylabel('Precip percentage')\n",
    "ax.set_title(\"Monthly precip percentage\")\n",
    "plt.show()"
   ]
  },
  {
   "cell_type": "markdown",
   "metadata": {},
   "source": [
    "#### Precip weekly"
   ]
  },
  {
   "cell_type": "code",
   "execution_count": null,
   "metadata": {},
   "outputs": [],
   "source": [
    "precip_week_mean = chi_weather_2017.groupby(\"Week\")[\"precip\"].mean()\n",
    "\n",
    "fig, ax = plt.subplots(figsize = (10,6))\n",
    "\n",
    "ax.plot(precip_week_mean)\n",
    "ax.set_title('Weekly precip percentage')\n",
    "ax.set_ylabel(\"Precip percentage\")\n",
    "ax.set_xlabel('Week')\n",
    "plt.show()"
   ]
  },
  {
   "cell_type": "markdown",
   "metadata": {},
   "source": [
    "#### Precip daily"
   ]
  },
  {
   "cell_type": "code",
   "execution_count": null,
   "metadata": {
    "scrolled": false
   },
   "outputs": [],
   "source": [
    "precip_day_mean = chi_weather_2017.groupby(\"Date\")[\"precip\"].mean()\n",
    "\n",
    "fig, ax = plt.subplots(figsize = (10,6))\n",
    "\n",
    "ax.plot(precip_day_mean)\n",
    "ax.set_title('Daily precip percentage')\n",
    "ax.set_ylabel(\" Precip percentage\")\n",
    "ax.set_xlabel('Day')\n",
    "plt.show()"
   ]
  },
  {
   "cell_type": "markdown",
   "metadata": {},
   "source": [
    "### Correlation between rentals and weather "
   ]
  },
  {
   "cell_type": "markdown",
   "metadata": {},
   "source": [
    "#### Rescaling"
   ]
  },
  {
   "cell_type": "code",
   "execution_count": null,
   "metadata": {},
   "outputs": [],
   "source": [
    "rentals_day_resc = (rentals_day-rentals_day.min())/(rentals_day.max()-rentals_day.min())\n",
    "\n",
    "rentals_week_resc = ((rentals_week-rentals_week.min())/(rentals_week.max()-rentals_week.min()))\n",
    "\n",
    "rentals_month_resc = ((rentals_month-rentals_month.min())/(rentals_month.max()-rentals_month.min()))\n",
    "\n",
    "precip_day_resc = (precip_day_mean-precip_day_mean.min())/(precip_day_mean.max()-precip_day_mean.min())\n",
    "\n",
    "precip_week_resc = (precip_week_mean-precip_week_mean.min())/(precip_week_mean.max()-precip_week_mean.min())\n",
    "\n",
    "precip_month_resc = (precip_month_mean-precip_month_mean.min())/(precip_month_mean.max()-precip_month_mean.min())\n",
    "\n",
    "temp_day_resc = (temp_day_mean-temp_day_mean.min())/(temp_day_mean.max()-temp_day_mean.min())\n",
    "\n",
    "temp_week_resc = (temp_week_mean-temp_week_mean.min())/(temp_week_mean.max()-temp_week_mean.min())\n",
    "\n",
    "temp_month_resc = ((temp_month_mean-temp_month_mean.min())/(temp_month_mean.max()-temp_month_mean.min()))"
   ]
  },
  {
   "cell_type": "markdown",
   "metadata": {},
   "source": [
    "#### Rentals and temperatur"
   ]
  },
  {
   "cell_type": "code",
   "execution_count": null,
   "metadata": {
    "scrolled": true
   },
   "outputs": [],
   "source": [
    "fig, ax = plt.subplots(figsize = (10,4))\n",
    "\n",
    "ax.plot(rentals_month_resc, c = 'green', label='Rentals per month')\n",
    "ax.plot(temp_month_resc, c = 'red', label='Average temperature per month')\n",
    "\n",
    "ax.set_title('Correlation between rentals & average temperature per month')\n",
    "ax.set_xlabel('Month')\n",
    "ax.set_ylabel('Rentals/Temperature')\n",
    "ax.legend()\n",
    "\n",
    "plt.show()"
   ]
  },
  {
   "cell_type": "code",
   "execution_count": null,
   "metadata": {
    "scrolled": true
   },
   "outputs": [],
   "source": [
    "fig, ax = plt.subplots(figsize = (10,4))\n",
    "\n",
    "ax.plot(rentals_day_resc, c = 'green', label='Rentals per day')\n",
    "ax.plot(temp_day_resc, c = 'red', label='Average temperature per day')\n",
    "\n",
    "ax.set_title('Correlation between rentals & average temperature per day')\n",
    "ax.set_xlabel('Day')\n",
    "ax.set_ylabel('Rentals/Temperature')\n",
    "ax.legend()\n",
    "\n",
    "plt.show()"
   ]
  },
  {
   "cell_type": "code",
   "execution_count": null,
   "metadata": {},
   "outputs": [],
   "source": [
    "#Put weather & rental data into the same data frame\n",
    "temp_rentals_day = chi_weather_2017.groupby([\"Date\"])[\"mean_temp\"].mean()\n",
    "temp_rentals_day = pd.DataFrame(temp_rentals_day)\n",
    "temp_rentals_day [\"Rentals\"] = chi_data.groupby(['Date'])['bike_id'].count()\n",
    "temp_rentals_day [\"IsWeekday\"] = chi_data.groupby(['Date'])['IsWeekday'].max()"
   ]
  },
  {
   "cell_type": "code",
   "execution_count": null,
   "metadata": {
    "scrolled": false
   },
   "outputs": [],
   "source": [
    "\n",
    "fig, ax = plt.subplots(figsize = (10,6))\n",
    "\n",
    "sns.scatterplot(x = temp_rentals_day[\"mean_temp\"], y= temp_rentals_day[\"Rentals\"], hue = temp_rentals_day[\"IsWeekday\"],palette=\"magma\" )\n",
    "ax.set_title(\"Correlation between daily average temperature and rentals\")\n",
    "ax.set_xlabel(\"Temperature\")\n",
    "plt.show()"
   ]
  },
  {
   "cell_type": "code",
   "execution_count": null,
   "metadata": {},
   "outputs": [],
   "source": [
    "#Put weather & rental data into the same data frame\n",
    "precip_rentals_day = chi_weather_2017.groupby([\"Date\"])[\"precip\"].mean()\n",
    "precip_rentals_day = pd.DataFrame(precip_rentals_day)\n",
    "precip_rentals_day [\"Rentals\"] = chi_data.groupby(['Date'])['bike_id'].count()\n",
    "precip_rentals_day [\"IsWeekday\"] = chi_data.groupby(['Date'])['IsWeekday'].max()"
   ]
  },
  {
   "cell_type": "code",
   "execution_count": null,
   "metadata": {},
   "outputs": [],
   "source": [
    "\n",
    "fig, ax = plt.subplots(figsize = (10,6))\n",
    "\n",
    "sns.scatterplot(x = precip_rentals_day[\"precip\"], y= precip_rentals_day[\"Rentals\"], hue = precip_rentals_day[\"IsWeekday\"],palette=\"magma\" )\n",
    "ax.set_title(\"Correlation between weekly precip percentage and rentals\")\n",
    "ax.set_xlabel(\"Precip percentage\")\n",
    "plt.show()"
   ]
  },
  {
   "cell_type": "markdown",
   "metadata": {},
   "source": [
    "#### Rentals and precip"
   ]
  },
  {
   "cell_type": "code",
   "execution_count": null,
   "metadata": {},
   "outputs": [],
   "source": [
    "fig, ax = plt.subplots(figsize = (10,4))\n",
    "\n",
    "ax.plot(rentals_month_resc, c = 'green', label='Rentals per month')\n",
    "ax.plot(precip_month_resc, c = 'blue', label='Precip percentage per month')\n",
    "\n",
    "ax.set_title('Correlation between rentals & precip percentage per month')\n",
    "ax.set_xlabel('Month')\n",
    "ax.set_ylabel('Rentals/Precip percentage')\n",
    "ax.legend()\n",
    "\n",
    "plt.show()"
   ]
  },
  {
   "cell_type": "code",
   "execution_count": null,
   "metadata": {},
   "outputs": [],
   "source": [
    "fig, ax = plt.subplots(figsize = (10,4))\n",
    "\n",
    "ax.plot(rentals_day_resc, c = 'green', label='Rentals per day')\n",
    "ax.plot(precip_day_resc, c = 'blue', label='Precip percentage per day')\n",
    "\n",
    "ax.set_title('Correlation between rentals & precip percentage per day')\n",
    "ax.set_xlabel('Day')\n",
    "ax.set_ylabel('Rentals/Precip percentage')\n",
    "ax.legend()\n",
    "\n",
    "plt.show()"
   ]
  },
  {
   "cell_type": "markdown",
   "metadata": {},
   "source": [
    "## Geographical demand patterns"
   ]
  },
  {
   "cell_type": "code",
   "execution_count": null,
   "metadata": {},
   "outputs": [],
   "source": []
  },
  {
   "cell_type": "code",
   "execution_count": null,
   "metadata": {},
   "outputs": [],
   "source": []
  }
 ],
 "metadata": {
  "kernelspec": {
   "display_name": "Python 3",
   "language": "python",
   "name": "python3"
  },
  "language_info": {
   "codemirror_mode": {
    "name": "ipython",
    "version": 3
   },
   "file_extension": ".py",
   "mimetype": "text/x-python",
   "name": "python",
   "nbconvert_exporter": "python",
   "pygments_lexer": "ipython3",
   "version": "3.8.5"
  }
 },
 "nbformat": 4,
 "nbformat_minor": 4
}
