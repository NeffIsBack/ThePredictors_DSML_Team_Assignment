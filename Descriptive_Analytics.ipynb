{
 "cells": [
  {
   "cell_type": "markdown",
   "metadata": {},
   "source": [
    "## Import all packages"
   ]
  },
  {
   "cell_type": "code",
   "execution_count": 1,
   "metadata": {},
   "outputs": [
    {
     "ename": "ModuleNotFoundError",
     "evalue": "No module named 'geopandas'",
     "output_type": "error",
     "traceback": [
      "\u001b[1;31m---------------------------------------------------------------------------\u001b[0m",
      "\u001b[1;31mModuleNotFoundError\u001b[0m                       Traceback (most recent call last)",
      "\u001b[1;32m<ipython-input-1-6c35ac456c5b>\u001b[0m in \u001b[0;36m<module>\u001b[1;34m\u001b[0m\n\u001b[0;32m     15\u001b[0m \u001b[1;32mimport\u001b[0m \u001b[0mswifter\u001b[0m\u001b[1;33m\u001b[0m\u001b[1;33m\u001b[0m\u001b[0m\n\u001b[0;32m     16\u001b[0m \u001b[1;32mimport\u001b[0m \u001b[0mjson\u001b[0m\u001b[1;33m\u001b[0m\u001b[1;33m\u001b[0m\u001b[0m\n\u001b[1;32m---> 17\u001b[1;33m \u001b[1;32mfrom\u001b[0m \u001b[0mgeopandas\u001b[0m\u001b[1;33m.\u001b[0m\u001b[0mtools\u001b[0m \u001b[1;32mimport\u001b[0m \u001b[0mgeocode\u001b[0m\u001b[1;33m\u001b[0m\u001b[1;33m\u001b[0m\u001b[0m\n\u001b[0m",
      "\u001b[1;31mModuleNotFoundError\u001b[0m: No module named 'geopandas'"
     ]
    }
   ],
   "source": [
    "import pandas as pd\n",
    "import numpy as np\n",
    "import matplotlib.pyplot as plt\n",
    "import seaborn as sns\n",
    "import sklearn\n",
    "import statsmodels\n",
    "import folium\n",
    "from folium import plugins\n",
    "from folium.plugins import HeatMap\n",
    "from datetime import datetime #for working with times objects\n",
    "from datetime import timedelta #for working with times objects\n",
    "from datetime import date\n",
    "import math\n",
    "import random\n",
    "import swifter\n",
    "import json\n",
    "from geopandas.tools import geocode"
   ]
  },
  {
   "cell_type": "markdown",
   "metadata": {},
   "source": [
    "## Import data sets"
   ]
  },
  {
   "cell_type": "code",
   "execution_count": null,
   "metadata": {},
   "outputs": [],
   "source": [
    "#read in the data\n",
    "\n",
    "chi_data = pd.read_csv(\"chicago_2017.csv\")\n",
    "chi_weather = pd.read_csv(\"weather_hourly_chicago.csv\")"
   ]
  },
  {
   "cell_type": "markdown",
   "metadata": {},
   "source": [
    "## General information about the raw data"
   ]
  },
  {
   "cell_type": "markdown",
   "metadata": {},
   "source": [
    "### chicago_2017 data set"
   ]
  },
  {
   "cell_type": "code",
   "execution_count": null,
   "metadata": {},
   "outputs": [],
   "source": [
    "#chi_data.info()"
   ]
  },
  {
   "cell_type": "code",
   "execution_count": null,
   "metadata": {},
   "outputs": [],
   "source": [
    "#chi_data.describe()"
   ]
  },
  {
   "cell_type": "code",
   "execution_count": null,
   "metadata": {},
   "outputs": [],
   "source": [
    "#chi_data.head()"
   ]
  },
  {
   "cell_type": "markdown",
   "metadata": {},
   "source": [
    "### weather_hourly_chicago data set"
   ]
  },
  {
   "cell_type": "code",
   "execution_count": null,
   "metadata": {},
   "outputs": [],
   "source": [
    "#chi_weather.info()"
   ]
  },
  {
   "cell_type": "code",
   "execution_count": null,
   "metadata": {},
   "outputs": [],
   "source": [
    "#chi_weather.describe()"
   ]
  },
  {
   "cell_type": "code",
   "execution_count": null,
   "metadata": {},
   "outputs": [],
   "source": [
    "#chi_data.head()"
   ]
  },
  {
   "cell_type": "markdown",
   "metadata": {},
   "source": [
    "## Add date time features to chi_data"
   ]
  },
  {
   "cell_type": "code",
   "execution_count": null,
   "metadata": {},
   "outputs": [],
   "source": [
    "chi_data['start_time']= pd.to_datetime(chi_data['start_time'])\n",
    "chi_data['end_time'] = pd.to_datetime(chi_data['end_time'])"
   ]
  },
  {
   "cell_type": "code",
   "execution_count": null,
   "metadata": {},
   "outputs": [],
   "source": [
    "chi_data.sort_values(['start_time'], inplace = True) #Sorts the values by date "
   ]
  },
  {
   "cell_type": "code",
   "execution_count": null,
   "metadata": {},
   "outputs": [],
   "source": [
    "chi_data[\"Date\"] = chi_data['start_time'].swifter.apply(lambda dt: dt.date())\n",
    "chi_data[\"Month\"] = chi_data['start_time'].swifter.apply(lambda dt: dt.month)\n",
    "chi_data[\"Week\"] = chi_data['start_time'].swifter.apply(lambda dt: dt.isocalendar()[1])\n",
    "chi_data[\"Hour\"] = chi_data['start_time'].swifter.apply(lambda dt: dt.hour)\n",
    "chi_data[\"Weekday\"] = chi_data['start_time'].swifter.apply(lambda dt: dt.weekday())\n",
    "chi_data['Duration'] = (chi_data['end_time']-chi_data['start_time'])\n",
    "chi_data[\"Duration_sec\"] = chi_data[\"Duration\"].swifter.apply(lambda x: x.total_seconds())\n",
    "chi_data[\"IsWeekday\"] = chi_data[\"Weekday\"].swifter.apply(lambda x: 1 if x < 5 else 0)\n",
    "#chi_data.head()"
   ]
  },
  {
   "cell_type": "markdown",
   "metadata": {},
   "source": [
    "## Add date weather features to chi_weather_2017"
   ]
  },
  {
   "cell_type": "code",
   "execution_count": null,
   "metadata": {},
   "outputs": [],
   "source": [
    "chi_weather['date_time']=pd.to_datetime(chi_weather['date_time'])"
   ]
  },
  {
   "cell_type": "code",
   "execution_count": null,
   "metadata": {},
   "outputs": [],
   "source": [
    "first_date = datetime(year=2017, day=1, month=1)\n",
    "last_date = datetime(year=2017, day=31, month=12)\n",
    "chi_weather_2017 = chi_weather[(chi_weather['date_time']>=first_date)&(chi_weather[\"date_time\"] <= last_date)]"
   ]
  },
  {
   "cell_type": "code",
   "execution_count": null,
   "metadata": {},
   "outputs": [],
   "source": [
    "chi_weather_2017.sort_values(by = \"date_time\", inplace = True) #sort the values by date time"
   ]
  },
  {
   "cell_type": "code",
   "execution_count": null,
   "metadata": {},
   "outputs": [],
   "source": [
    "chi_weather_2017[\"Date\"] = chi_weather_2017['date_time'].swifter.apply(lambda dt: dt.date())\n",
    "chi_weather_2017['Month']= chi_weather_2017[\"date_time\"].swifter.apply(lambda dt: dt.month)\n",
    "chi_weather_2017[\"Week\"] = chi_weather_2017['date_time'].swifter.apply(lambda dt: dt.isocalendar()[1])\n",
    "chi_weather_2017[\"Hour\"] = chi_weather_2017['date_time'].swifter.apply(lambda dt: dt.hour)\n",
    "chi_weather_2017[\"Weekday\"] = chi_weather_2017['date_time'].swifter.apply(lambda dt: dt.weekday())\n",
    "chi_weather_2017[\"mean_temp\"] = (chi_weather_2017['max_temp']+chi_weather_2017['min_temp'])/2\n",
    "#chi_weather_2017.head()"
   ]
  },
  {
   "cell_type": "markdown",
   "metadata": {},
   "source": [
    "# `Data collection and preparation`"
   ]
  },
  {
   "cell_type": "code",
   "execution_count": null,
   "metadata": {},
   "outputs": [],
   "source": [
    "chi_data['Duration_sec'].describe()"
   ]
  },
  {
   "cell_type": "code",
   "execution_count": null,
   "metadata": {},
   "outputs": [],
   "source": [
    "chi_data['Duration_sec'].value_counts()"
   ]
  },
  {
   "cell_type": "code",
   "execution_count": null,
   "metadata": {},
   "outputs": [],
   "source": [
    "chi_data.sort_values (by= 'Duration_sec')"
   ]
  },
  {
   "cell_type": "code",
   "execution_count": null,
   "metadata": {},
   "outputs": [],
   "source": [
    "chi_data_60sec_trips=chi_data[chi_data.Duration_sec == 60]\n",
    "chi_data_60sec_trips.count()\n",
    "\n",
    "#checking quantity of very short trips"
   ]
  },
  {
   "cell_type": "code",
   "execution_count": null,
   "metadata": {},
   "outputs": [],
   "source": [
    "chi_data_idcheck = chi_data[['start_station_id', 'start_station_name']]"
   ]
  },
  {
   "cell_type": "code",
   "execution_count": null,
   "metadata": {},
   "outputs": [],
   "source": [
    "grouped_chi_data = chi_data_idcheck.groupby(['start_station_id'])\n",
    "grouped_chi_data = grouped_chi_data.agg({\"start_station_name\": \"nunique\"})\n",
    "\n",
    "grouped_chi_data = grouped_chi_data. reset_index()\n",
    "\n",
    "print(grouped_chi_data)"
   ]
  },
  {
   "cell_type": "code",
   "execution_count": null,
   "metadata": {},
   "outputs": [],
   "source": [
    "bad_ids = grouped_chi_data[grouped_chi_data['start_station_name']>1]\n",
    "bad_ids\n",
    "#listing IDs that are associated with multiple names"
   ]
  },
  {
   "cell_type": "code",
   "execution_count": null,
   "metadata": {},
   "outputs": [],
   "source": [
    "#chi_data.to_csv('cleanedtrips.csv')"
   ]
  },
  {
   "cell_type": "markdown",
   "metadata": {},
   "source": [
    "# `Descriptive analystics`"
   ]
  },
  {
   "cell_type": "markdown",
   "metadata": {},
   "source": [
    "## Overview Fleet"
   ]
  },
  {
   "cell_type": "markdown",
   "metadata": {},
   "source": [
    "unique station_ids, bike_ids, trips ..."
   ]
  },
  {
   "cell_type": "markdown",
   "metadata": {},
   "source": [
    "## Fleet size"
   ]
  },
  {
   "cell_type": "code",
   "execution_count": null,
   "metadata": {},
   "outputs": [],
   "source": [
    "bikes = len(chi_data['bike_id'].unique())\n",
    "print(\"The overall number of bikes is {}\".format(bikes))"
   ]
  },
  {
   "cell_type": "markdown",
   "metadata": {},
   "source": [
    "## Temporal demand patterns"
   ]
  },
  {
   "cell_type": "markdown",
   "metadata": {},
   "source": [
    "### Bike rentals"
   ]
  },
  {
   "cell_type": "markdown",
   "metadata": {},
   "source": [
    "#### Bike rentals per month"
   ]
  },
  {
   "cell_type": "code",
   "execution_count": null,
   "metadata": {},
   "outputs": [],
   "source": [
    "rentals_month = chi_data.groupby(['Month'])['bike_id'].count()\n",
    "rentals_month = pd.DataFrame(rentals_month)\n",
    "\n",
    "fig, ax = plt.subplots(figsize = (10,6))\n",
    "\n",
    "ax.plot(rentals_month)\n",
    "ax.set_title('Bike rentals per month')\n",
    "ax.set_xlabel('Month')\n",
    "ax.set_ylabel(\"Bike rentals\")\n",
    "plt.show()"
   ]
  },
  {
   "cell_type": "code",
   "execution_count": null,
   "metadata": {},
   "outputs": [],
   "source": [
    "rentals_month_bp = chi_data.groupby(['Date','Month'])['bike_id'].count()\n",
    "rentals_month_bp = pd.DataFrame(rentals_month_bp)\n",
    "\n",
    "fig, ax = plt.subplots(figsize = (10,6))\n",
    "\n",
    "sns.boxplot(x = rentals_month_bp.index.get_level_values('Month'), y =rentals_month_bp['bike_id'], ax = ax)\n",
    "ax.set_title('Bike rentals per month')\n",
    "ax.set_ylabel(\"Bike rentals\")\n",
    "plt.show()"
   ]
  },
  {
   "cell_type": "markdown",
   "metadata": {},
   "source": [
    "#### Bike rentals per week"
   ]
  },
  {
   "cell_type": "code",
   "execution_count": null,
   "metadata": {},
   "outputs": [],
   "source": [
    "rentals_week = chi_data.groupby(\"Week\")['bike_id'].count()\n",
    "rentals_week = pd.DataFrame(rentals_week)\n",
    "\n",
    "fig, ax = plt.subplots(figsize = (10,6))\n",
    "\n",
    "ax.plot(rentals_week, c = \"green\")\n",
    "\n",
    "ax.set_title('Bike rentals per week')\n",
    "ax.set_ylabel(\"Bike rentals\")\n",
    "ax.set_xlabel(\"Week\")\n",
    "plt.show()"
   ]
  },
  {
   "cell_type": "markdown",
   "metadata": {},
   "source": [
    "#### Bike rentals per weekday"
   ]
  },
  {
   "cell_type": "code",
   "execution_count": null,
   "metadata": {
    "scrolled": true
   },
   "outputs": [],
   "source": [
    "rentals_weekday = chi_data.groupby(['Weekday','Date'])['bike_id'].count()\n",
    "rentals_weekday = pd.DataFrame(rentals_weekday)\n",
    "\n",
    "fig, ax = plt.subplots(figsize = (10,6))\n",
    "\n",
    "sns.boxplot(x = rentals_weekday.index.get_level_values('Weekday'), y =rentals_weekday['bike_id'], ax = ax)\n",
    "ax.set_title('Bike rentals per weekday')\n",
    "ax.set_ylabel(\"Bike rentals\")\n",
    "\n",
    "plt.show()"
   ]
  },
  {
   "cell_type": "code",
   "execution_count": null,
   "metadata": {},
   "outputs": [],
   "source": [
    "# legende Zahl - Wochentag"
   ]
  },
  {
   "cell_type": "markdown",
   "metadata": {},
   "source": [
    "#### Bike rentals over year per day "
   ]
  },
  {
   "cell_type": "code",
   "execution_count": null,
   "metadata": {
    "scrolled": true
   },
   "outputs": [],
   "source": [
    "rentals_day = chi_data.groupby(\"Date\")['bike_id'].count()\n",
    "rentals_day = pd.DataFrame(rentals_day)\n",
    "\n",
    "fig, ax = plt.subplots(figsize = (10,6))\n",
    "\n",
    "ax.plot(rentals_day, c = \"green\")\n",
    "\n",
    "ax.set_title('Bike rentals per day')\n",
    "ax.set_ylabel(\"Bike rentals\")\n",
    "ax.set_xlabel(\"Day\")\n",
    "plt.show()"
   ]
  },
  {
   "cell_type": "markdown",
   "metadata": {},
   "source": [
    "#### Bike rentals per hour"
   ]
  },
  {
   "cell_type": "code",
   "execution_count": null,
   "metadata": {},
   "outputs": [],
   "source": [
    "rentals_hour = chi_data.groupby([\"Date\",\"Hour\"])['bike_id'].count()\n",
    "rentals_hour =pd.DataFrame(rentals_hour)\n",
    "\n",
    "fig, ax = plt.subplots(figsize = (10,6))\n",
    "\n",
    "\n",
    "sns.boxplot(x = rentals_hour.index.get_level_values(\"Hour\"), y =rentals_hour['bike_id'], ax = ax)\n",
    "ax.set_title('Bike rentals per hour')\n",
    "ax.set_ylabel(\"Bike rentals\")\n",
    "plt.show()\n",
    "rentals_hour"
   ]
  },
  {
   "cell_type": "code",
   "execution_count": null,
   "metadata": {
    "scrolled": false
   },
   "outputs": [],
   "source": [
    "rentals_hour = chi_data.groupby(['Hour'])['bike_id'].count()\n",
    "rentals_hour = pd.DataFrame(rentals_hour)\n",
    "\n",
    "fig, ax = plt.subplots(figsize = (10,6))\n",
    "\n",
    "ax.plot(rentals_hour)\n",
    "ax.set_title('Bike rentals per hour')\n",
    "ax.set_ylabel(\"Bike rentals\")\n",
    "ax.set_xlabel(\"Hour\")\n",
    "plt.show"
   ]
  },
  {
   "cell_type": "markdown",
   "metadata": {},
   "source": [
    "#### Correlation between weekday, hour & rentals???"
   ]
  },
  {
   "cell_type": "markdown",
   "metadata": {},
   "source": [
    "### Duration/Travel time"
   ]
  },
  {
   "cell_type": "markdown",
   "metadata": {},
   "source": [
    "#### Duration per week"
   ]
  },
  {
   "cell_type": "code",
   "execution_count": null,
   "metadata": {},
   "outputs": [],
   "source": [
    "duration_week = chi_data.groupby(\"Week\")[\"Duration_sec\"].mean()\n",
    "duration_week = pd.DataFrame(duration_week)\n",
    "\n",
    "fig, ax = plt.subplots(figsize = (10,6))\n",
    "\n",
    "ax.plot(duration_week)\n",
    "\n",
    "ax.set_title('Duration of rentals per week')\n",
    "ax.set_ylabel('Duration of rentals')\n",
    "ax.set_xlabel('Week')\n",
    "plt.show()"
   ]
  },
  {
   "cell_type": "markdown",
   "metadata": {},
   "source": [
    "#### Duration per weekday"
   ]
  },
  {
   "cell_type": "code",
   "execution_count": null,
   "metadata": {},
   "outputs": [],
   "source": [
    "duration_weekday = chi_data.groupby(\"Weekday\")[\"Duration_sec\"].mean()\n",
    "duration_weekday = pd.DataFrame(duration_weekday)\n",
    "\n",
    "fig, ax = plt.subplots(figsize = (10,6))\n",
    "\n",
    "ax.plot(duration_weekday)\n",
    "\n",
    "ax.set_title('Duration of rentals per weekday')\n",
    "ax.set_ylabel('Duration of rentals')\n",
    "ax.set_xlabel('Weekday')\n",
    "plt.show()"
   ]
  },
  {
   "cell_type": "code",
   "execution_count": null,
   "metadata": {},
   "outputs": [],
   "source": [
    "duration_weekday_bp = chi_data.groupby([\"Date\",\"Weekday\"])['Duration_sec'].mean()\n",
    "duration_weekday_bp =pd.DataFrame(duration_weekday_bp)\n",
    "\n",
    "fig, ax = plt.subplots(figsize = (10,6))\n",
    "\n",
    "\n",
    "sns.boxplot(x = duration_weekday_bp.index.get_level_values(\"Weekday\"), y =duration_weekday_bp['Duration_sec'], ax = ax)\n",
    "ax.set_title('Duration of rentals per weekday')\n",
    "ax.set_ylabel('Duration of rentals')\n",
    "plt.show()"
   ]
  },
  {
   "cell_type": "markdown",
   "metadata": {},
   "source": [
    "#### Duration per hour"
   ]
  },
  {
   "cell_type": "code",
   "execution_count": null,
   "metadata": {
    "scrolled": true
   },
   "outputs": [],
   "source": [
    "duration_hour = chi_data.groupby(\"Hour\")[\"Duration_sec\"].mean()\n",
    "duration_hour = pd.DataFrame(duration_hour)\n",
    "\n",
    "fig, ax = plt.subplots(figsize = (10,6))\n",
    "\n",
    "ax.plot(duration_hour)\n",
    "\n",
    "ax.set_title('Duration of rentals per hour')\n",
    "ax.set_ylabel('Duration of rentals')\n",
    "ax.set_xlabel('Hour')\n",
    "plt.show()"
   ]
  },
  {
   "cell_type": "markdown",
   "metadata": {},
   "source": [
    "### Weather"
   ]
  },
  {
   "cell_type": "markdown",
   "metadata": {},
   "source": [
    "#### Temperature monthly"
   ]
  },
  {
   "cell_type": "code",
   "execution_count": null,
   "metadata": {},
   "outputs": [],
   "source": [
    "temp_month_mean = chi_weather_2017.groupby(\"Month\")[\"mean_temp\"].mean()\n",
    "\n",
    "fig, ax = plt.subplots(figsize = (10,6))\n",
    "\n",
    "ax.plot(temp_month_mean)\n",
    "ax.set_xlabel('Month')\n",
    "ax.set_ylabel('Temperature')\n",
    "ax.set_title(\"Average temperature per month\")\n",
    "\n",
    "plt.show()"
   ]
  },
  {
   "cell_type": "code",
   "execution_count": null,
   "metadata": {},
   "outputs": [],
   "source": [
    "temp_month_mean_bp = chi_weather_2017.groupby(['Date','Month'])['mean_temp'].mean()\n",
    "temp_month_mean_bp = pd.DataFrame(temp_month_mean_bp)\n",
    "\n",
    "fig, ax = plt.subplots(figsize = (10,6))\n",
    "\n",
    "sns.boxplot(x = temp_month_mean_bp.index.get_level_values('Month'), y =temp_month_mean_bp['mean_temp'], ax = ax)\n",
    "\n",
    "ax.set_title('Average temperature per month')\n",
    "ax.set_ylabel(\"Temperature\")\n",
    "ax.set_xlabel(\"Month\")\n",
    "plt.show()"
   ]
  },
  {
   "cell_type": "code",
   "execution_count": null,
   "metadata": {},
   "outputs": [],
   "source": [
    "temp_day_min = chi_weather_2017.groupby(\"Date\")[\"mean_temp\"].min()\n",
    "\n",
    "temp_day_max = chi_weather_2017.groupby(\"Date\")[\"mean_temp\"].max()\n",
    "\n",
    "fig, ax = plt.subplots(figsize = (10,6))\n",
    "\n",
    "ax.plot(temp_day_max, c = \"red\", label = \"Max temperature\")\n",
    "ax.plot(temp_day_min, c = \"blue\", label = \"Min temperature\")\n",
    "plt.legend()\n",
    "ax.set_title('Average temperature per day')\n",
    "ax.set_ylabel(\"Temperature\")\n",
    "ax.set_xlabel('Day')\n",
    "\n",
    "plt.show()"
   ]
  },
  {
   "cell_type": "markdown",
   "metadata": {},
   "source": [
    "#### Temperature weekly"
   ]
  },
  {
   "cell_type": "code",
   "execution_count": null,
   "metadata": {},
   "outputs": [],
   "source": [
    "temp_week_mean = chi_weather_2017.groupby(\"Week\")[\"mean_temp\"].mean()\n",
    "\n",
    "fig, ax = plt.subplots(figsize = (10,6))\n",
    "\n",
    "ax.plot(temp_week_mean)\n",
    "ax.set_ylabel(\"Temperature\")\n",
    "ax.set_xlabel('Week')\n",
    "ax.set_title('Average temperature per week')\n",
    "plt.show()"
   ]
  },
  {
   "cell_type": "markdown",
   "metadata": {},
   "source": [
    "#### Temperature daily"
   ]
  },
  {
   "cell_type": "code",
   "execution_count": null,
   "metadata": {},
   "outputs": [],
   "source": [
    "temp_day_mean = chi_weather_2017.groupby(\"Date\")[\"mean_temp\"].mean()\n",
    "\n",
    "fig, ax = plt.subplots(figsize = (10,6))\n",
    "\n",
    "ax.plot(temp_day_mean, c = \"red\")\n",
    "ax.set_title('Average temperature per day')\n",
    "ax.set_ylabel(\"Temperature\")\n",
    "ax.set_xlabel('Day')\n",
    "\n",
    "plt.show()"
   ]
  },
  {
   "cell_type": "code",
   "execution_count": null,
   "metadata": {},
   "outputs": [],
   "source": [
    "temp_day_min = chi_weather_2017.groupby(\"Date\")[\"mean_temp\"].min()\n",
    "\n",
    "temp_day_max = chi_weather_2017.groupby(\"Date\")[\"mean_temp\"].max()\n",
    "\n",
    "fig, ax = plt.subplots(figsize = (10,6))\n",
    "\n",
    "ax.plot(temp_day_max, c = \"red\", label = \"Max temperature\")\n",
    "ax.plot(temp_day_min, c = \"blue\", label = \"Min temperature\")\n",
    "plt.legend()\n",
    "ax.set_title('Average temperature per day')\n",
    "ax.set_ylabel(\"Temperature\")\n",
    "ax.set_xlabel('Day')\n",
    "\n",
    "plt.show()"
   ]
  },
  {
   "cell_type": "markdown",
   "metadata": {},
   "source": [
    "#### Precip monthly"
   ]
  },
  {
   "cell_type": "code",
   "execution_count": null,
   "metadata": {
    "scrolled": false
   },
   "outputs": [],
   "source": [
    "precip_month_mean = chi_weather_2017.groupby(\"Month\")[\"precip\"].mean()\n",
    "\n",
    "fig, ax = plt.subplots(figsize = (16,9))\n",
    "\n",
    "ax.plot(precip_month_mean)\n",
    "ax.set_xlabel('Month')\n",
    "ax.set_ylabel('Precip percentage')\n",
    "ax.set_title(\"Monthly precip percentage\")\n",
    "\n",
    "plt.show()"
   ]
  },
  {
   "cell_type": "code",
   "execution_count": null,
   "metadata": {},
   "outputs": [],
   "source": [
    "precip_month_mean_bp = chi_weather_2017.groupby(['Date','Month'])['precip'].mean()\n",
    "precip_month_mean_bp = pd.DataFrame(precip_month_mean_bp)\n",
    "\n",
    "fig, ax = plt.subplots(figsize = (10,6))\n",
    "\n",
    "sns.boxplot(x = precip_month_mean_bp.index.get_level_values('Month'), y =precip_month_mean_bp['precip'], ax = ax)\n",
    "\n",
    "ax.set_xlabel('Month')\n",
    "ax.set_ylabel('Precip percentage')\n",
    "ax.set_title(\"Monthly precip percentage\")\n",
    "plt.show()"
   ]
  },
  {
   "cell_type": "markdown",
   "metadata": {},
   "source": [
    "#### Precip weekly"
   ]
  },
  {
   "cell_type": "code",
   "execution_count": null,
   "metadata": {},
   "outputs": [],
   "source": [
    "precip_week_mean = chi_weather_2017.groupby(\"Week\")[\"precip\"].mean()\n",
    "\n",
    "fig, ax = plt.subplots(figsize = (10,6))\n",
    "\n",
    "ax.plot(precip_week_mean)\n",
    "ax.set_title('Weekly precip percentage')\n",
    "ax.set_ylabel(\"Precip percentage\")\n",
    "ax.set_xlabel('Week')\n",
    "plt.show()"
   ]
  },
  {
   "cell_type": "markdown",
   "metadata": {},
   "source": [
    "#### Precip daily"
   ]
  },
  {
   "cell_type": "code",
   "execution_count": null,
   "metadata": {
    "scrolled": false
   },
   "outputs": [],
   "source": [
    "precip_day_mean = chi_weather_2017.groupby(\"Date\")[\"precip\"].mean()\n",
    "\n",
    "fig, ax = plt.subplots(figsize = (10,6))\n",
    "\n",
    "ax.plot(precip_day_mean)\n",
    "ax.set_title('Daily precip percentage')\n",
    "ax.set_ylabel(\" Precip percentage\")\n",
    "ax.set_xlabel('Day')\n",
    "plt.show()"
   ]
  },
  {
   "cell_type": "markdown",
   "metadata": {},
   "source": [
    "### Correlation between rentals and weather "
   ]
  },
  {
   "cell_type": "markdown",
   "metadata": {},
   "source": [
    "#### Rescaling"
   ]
  },
  {
   "cell_type": "code",
   "execution_count": null,
   "metadata": {},
   "outputs": [],
   "source": [
    "rentals_day_resc = (rentals_day-rentals_day.min())/(rentals_day.max()-rentals_day.min())\n",
    "\n",
    "rentals_week_resc = ((rentals_week-rentals_week.min())/(rentals_week.max()-rentals_week.min()))\n",
    "\n",
    "rentals_month_resc = ((rentals_month-rentals_month.min())/(rentals_month.max()-rentals_month.min()))\n",
    "\n",
    "precip_day_resc = (precip_day_mean-precip_day_mean.min())/(precip_day_mean.max()-precip_day_mean.min())\n",
    "\n",
    "precip_week_resc = (precip_week_mean-precip_week_mean.min())/(precip_week_mean.max()-precip_week_mean.min())\n",
    "\n",
    "precip_month_resc = (precip_month_mean-precip_month_mean.min())/(precip_month_mean.max()-precip_month_mean.min())\n",
    "\n",
    "temp_day_resc = (temp_day_mean-temp_day_mean.min())/(temp_day_mean.max()-temp_day_mean.min())\n",
    "\n",
    "temp_week_resc = (temp_week_mean-temp_week_mean.min())/(temp_week_mean.max()-temp_week_mean.min())\n",
    "\n",
    "temp_month_resc = ((temp_month_mean-temp_month_mean.min())/(temp_month_mean.max()-temp_month_mean.min()))"
   ]
  },
  {
   "cell_type": "markdown",
   "metadata": {},
   "source": [
    "#### Rentals and temperatur"
   ]
  },
  {
   "cell_type": "code",
   "execution_count": null,
   "metadata": {
    "scrolled": true
   },
   "outputs": [],
   "source": [
    "fig, ax = plt.subplots(figsize = (10,4))\n",
    "\n",
    "ax.plot(rentals_month_resc, c = 'green', label='Rentals per month')\n",
    "ax.plot(temp_month_resc, c = 'red', label='Average temperature per month')\n",
    "\n",
    "ax.set_title('Correlation between rentals & average temperature per month')\n",
    "ax.set_xlabel('Month')\n",
    "ax.set_ylabel('Rentals/Temperature')\n",
    "ax.legend()\n",
    "\n",
    "plt.show()"
   ]
  },
  {
   "cell_type": "code",
   "execution_count": null,
   "metadata": {
    "scrolled": true
   },
   "outputs": [],
   "source": [
    "fig, ax = plt.subplots(figsize = (10,4))\n",
    "\n",
    "ax.plot(rentals_day_resc, c = 'green', label='Rentals per day')\n",
    "ax.plot(temp_day_resc, c = 'red', label='Average temperature per day')\n",
    "\n",
    "ax.set_title('Correlation between rentals & average temperature per day')\n",
    "ax.set_xlabel('Day')\n",
    "ax.set_ylabel('Rentals/Temperature')\n",
    "ax.legend()\n",
    "\n",
    "plt.show()"
   ]
  },
  {
   "cell_type": "code",
   "execution_count": null,
   "metadata": {},
   "outputs": [],
   "source": [
    "#Put weather & rental data into the same data frame\n",
    "temp_rentals_day = chi_weather_2017.groupby([\"Date\"])[\"mean_temp\"].mean()\n",
    "temp_rentals_day = pd.DataFrame(temp_rentals_day)\n",
    "temp_rentals_day [\"Rentals\"] = chi_data.groupby(['Date'])['bike_id'].count()\n",
    "temp_rentals_day [\"IsWeekday\"] = chi_data.groupby(['Date'])['IsWeekday'].max()"
   ]
  },
  {
   "cell_type": "code",
   "execution_count": null,
   "metadata": {
    "scrolled": false
   },
   "outputs": [],
   "source": [
    "\n",
    "fig, ax = plt.subplots(figsize = (10,6))\n",
    "\n",
    "sns.scatterplot(x = temp_rentals_day[\"mean_temp\"], y= temp_rentals_day[\"Rentals\"], hue = temp_rentals_day[\"IsWeekday\"],palette=\"magma\" )\n",
    "ax.set_title(\"Correlation between daily average temperature and rentals\")\n",
    "ax.set_xlabel(\"Temperature\")\n",
    "plt.show()"
   ]
  },
  {
   "cell_type": "code",
   "execution_count": null,
   "metadata": {},
   "outputs": [],
   "source": [
    "#Put weather & rental data into the same data frame\n",
    "precip_rentals_day = chi_weather_2017.groupby([\"Date\"])[\"precip\"].mean()\n",
    "precip_rentals_day = pd.DataFrame(precip_rentals_day)\n",
    "precip_rentals_day [\"Rentals\"] = chi_data.groupby(['Date'])['bike_id'].count()\n",
    "precip_rentals_day [\"IsWeekday\"] = chi_data.groupby(['Date'])['IsWeekday'].max()"
   ]
  },
  {
   "cell_type": "code",
   "execution_count": null,
   "metadata": {},
   "outputs": [],
   "source": [
    "\n",
    "fig, ax = plt.subplots(figsize = (10,6))\n",
    "\n",
    "sns.scatterplot(x = precip_rentals_day[\"precip\"], y= precip_rentals_day[\"Rentals\"], hue = precip_rentals_day[\"IsWeekday\"],palette=\"magma\" )\n",
    "ax.set_title(\"Correlation between weekly precip percentage and rentals\")\n",
    "ax.set_xlabel(\"Precip percentage\")\n",
    "plt.show()"
   ]
  },
  {
   "cell_type": "markdown",
   "metadata": {},
   "source": [
    "#### Rentals and precip"
   ]
  },
  {
   "cell_type": "code",
   "execution_count": null,
   "metadata": {},
   "outputs": [],
   "source": [
    "fig, ax = plt.subplots(figsize = (10,4))\n",
    "\n",
    "ax.plot(rentals_month_resc, c = 'green', label='Rentals per month')\n",
    "ax.plot(precip_month_resc, c = 'blue', label='Precip percentage per month')\n",
    "\n",
    "ax.set_title('Correlation between rentals & precip percentage per month')\n",
    "ax.set_xlabel('Month')\n",
    "ax.set_ylabel('Rentals/Precip percentage')\n",
    "ax.legend()\n",
    "\n",
    "plt.show()"
   ]
  },
  {
   "cell_type": "code",
   "execution_count": null,
   "metadata": {},
   "outputs": [],
   "source": [
    "fig, ax = plt.subplots(figsize = (10,4))\n",
    "\n",
    "ax.plot(rentals_day_resc, c = 'green', label='Rentals per day')\n",
    "ax.plot(precip_day_resc, c = 'blue', label='Precip percentage per day')\n",
    "\n",
    "ax.set_title('Correlation between rentals & precip percentage per day')\n",
    "ax.set_xlabel('Day')\n",
    "ax.set_ylabel('Rentals/Precip percentage')\n",
    "ax.legend()\n",
    "\n",
    "plt.show()"
   ]
  },
  {
   "cell_type": "markdown",
   "metadata": {},
   "source": [
    "## Geographical demand patterns (Emilio & Alex)"
   ]
  },
  {
   "cell_type": "code",
   "execution_count": null,
   "metadata": {},
   "outputs": [],
   "source": [
    "chi_stations = pd.read_csv(\"chicago_2017.csv\")"
   ]
  },
  {
   "cell_type": "markdown",
   "metadata": {},
   "source": [
    "#### Creating location dictionary for location\n",
    "!!! This must be done only once, for further usage simply read in the created json file (see next section) !!!"
   ]
  },
  {
   "cell_type": "code",
   "execution_count": null,
   "metadata": {},
   "outputs": [],
   "source": [
    "# example api request\n",
    "geocode(\"Universität zu Köln\", provider=\"nominatim\", user_agent='my_request')"
   ]
  },
  {
   "cell_type": "code",
   "execution_count": null,
   "metadata": {},
   "outputs": [],
   "source": [
    "def getLocation(x):\n",
    "    try:\n",
    "        location = geocode(x + \", Chicago\", provider=\"nominatim\", user_agent='my_request')\n",
    "        point = location.geometry.iloc[0]\n",
    "        return (f\"{round(point.y, 5)} {round(point.x, 5)}\")\n",
    "    except:\n",
    "        return 'NaN'"
   ]
  },
  {
   "cell_type": "code",
   "execution_count": null,
   "metadata": {},
   "outputs": [],
   "source": [
    "UniqueAdresses = chi_stations['start_station_name'].unique()\n",
    "locDict = dict(zip(UniqueAdresses, pd.Series(UniqueAdresses).swifter.apply(lambda x: getLocation(x))))"
   ]
  },
  {
   "cell_type": "code",
   "execution_count": null,
   "metadata": {},
   "outputs": [],
   "source": [
    "# check if the list of stations are identical\n",
    "UniqueAdresses2 = chi_stations['end_station_name'].unique()\n",
    "locDict2 = dict(zip(UniqueAdresses2, pd.Series(UniqueAdresses2).swifter.apply(lambda x: getLocation(x))))\n",
    "\n",
    "\n",
    "set(locDict.keys()) == set(locDict2.keys())"
   ]
  },
  {
   "cell_type": "code",
   "execution_count": null,
   "metadata": {},
   "outputs": [],
   "source": [
    "# storing the location dictionary into a json file \n",
    "# for better look you should beaufify the json with some online tools\n",
    "with open('locDict.json', 'w') as file:\n",
    "     file.write(json.dumps(locDict))"
   ]
  },
  {
   "cell_type": "markdown",
   "metadata": {},
   "source": [
    "#### Accessing and formatting the location data from our created json dictionary"
   ]
  },
  {
   "cell_type": "code",
   "execution_count": null,
   "metadata": {},
   "outputs": [],
   "source": [
    "# retrieve the location dictionary from the json file\n",
    "with open('locDict.json', 'r') as file:\n",
    "     newLocDict = json.loads(file.read())"
   ]
  },
  {
   "cell_type": "code",
   "execution_count": null,
   "metadata": {},
   "outputs": [],
   "source": [
    "# formatting the retrieved data into location tuples\n",
    "def convertToTuple(x):\n",
    "    if not x == \"NaN\":\n",
    "        return tuple(map(float, x.split(\" \")))\n",
    "    else:\n",
    "        return float('NaN')"
   ]
  },
  {
   "cell_type": "code",
   "execution_count": null,
   "metadata": {},
   "outputs": [],
   "source": [
    "chi_stations['start_station_coordinates'] = chi_stations['start_station_name'].map(newLocDict)\n",
    "chi_stations['start_station_coordinates'] = chi_stations['start_station_coordinates'].swifter.apply(lambda x: convertToTuple(x))"
   ]
  },
  {
   "cell_type": "code",
   "execution_count": null,
   "metadata": {},
   "outputs": [],
   "source": [
    "missingLocations = chi_stations[chi_stations[\"start_station_coordinates\"].isnull()==True][\"start_station_name\"].count()\n",
    "print(f\"There are still {missingLocations} 'NaN' values in our coordinates where geocode didn't find a location according to the address\")"
   ]
  },
  {
   "cell_type": "code",
   "execution_count": null,
   "metadata": {},
   "outputs": [],
   "source": [
    "chi_stations = chi_stations[chi_stations[\"start_station_coordinates\"].isnull()==False]"
   ]
  },
  {
   "cell_type": "markdown",
   "metadata": {},
   "source": [
    "### Mapping our stations"
   ]
  },
  {
   "cell_type": "markdown",
   "metadata": {},
   "source": [
    "mapping out the stations in chicago"
   ]
  },
  {
   "cell_type": "code",
   "execution_count": null,
   "metadata": {
    "scrolled": true
   },
   "outputs": [],
   "source": [
    "positions = list(chi_stations[\"start_station_coordinates\"].unique())\n",
    "\n",
    "chi_stations_map = folium.Map(location=(41.8856, -87.6415),  \n",
    "                                tiles='Stamen Toner',\n",
    "                                zoom_start=12, \n",
    "                                control_scale=True, \n",
    "                                max_zoom=20)\n",
    "\n",
    "for position in positions:\n",
    "    folium.CircleMarker(radius=5, location=position, popup='The Waterfront', \n",
    "                                 color='crimson', fill_color='crimson').add_to(chi_stations_map)\n",
    "    \n",
    "chi_stations_map"
   ]
  },
  {
   "cell_type": "markdown",
   "metadata": {},
   "source": [
    "usage of every station visualized in a heatmap"
   ]
  },
  {
   "cell_type": "code",
   "execution_count": null,
   "metadata": {},
   "outputs": [],
   "source": [
    "chi_heat_map = folium.Map(location=(41.8856, -87.6415),\n",
    "                            tiles='OpenStreetMap',\n",
    "                            zoom_start=12,\n",
    "                            control_scale=True,\n",
    "                            max_zoom=20)"
   ]
  },
  {
   "cell_type": "code",
   "execution_count": null,
   "metadata": {},
   "outputs": [],
   "source": [
    "# get values for the new dataframe\n",
    "chi_stations_usage = chi_stations.groupby([\"start_station_name\"])[\"bike_id\"].count()\n",
    "chi_stations_usage = pd.DataFrame({'start_station_name':chi_stations_usage.index, 'bike_id_count':chi_stations_usage.values})\n",
    "\n",
    "# retrieve location data and convert it\n",
    "chi_stations_usage[\"start_station_coordinates\"] = chi_stations_usage[\"start_station_name\"].map(newLocDict)\n",
    "chi_stations_usage['start_station_coordinates'] = chi_stations_usage['start_station_coordinates'].swifter.apply(lambda x: convertToTuple(x))\n",
    "\n",
    "# zip location and bike_id_count for heatmap\n",
    "chi_stations_usage['heatmap_data'] = [a + (b,) for a, b in zip(chi_stations_usage['start_station_coordinates'], chi_stations_usage['bike_id_count'])]"
   ]
  },
  {
   "cell_type": "code",
   "execution_count": null,
   "metadata": {},
   "outputs": [],
   "source": [
    "# replacing first entry with CircleMarker in order to keep heatmap weighting in reasonable scale\n",
    "chi_stations_usage.sort_values(\"bike_id_count\", ascending=False).head()"
   ]
  },
  {
   "cell_type": "code",
   "execution_count": null,
   "metadata": {},
   "outputs": [],
   "source": [
    "# adding deleted point\n",
    "folium.CircleMarker(radius=15, \n",
    "                    location=chi_stations_usage.start_station_coordinates[chi_stations_usage['bike_id_count'].idxmax()],\n",
    "                    popup='Outliner',\n",
    "                    color='crimson', \n",
    "                    fill_color='crimson').add_to(chi_heat_map)\n",
    "\n",
    "chi_stations_usage = chi_stations_usage.drop(chi_stations_usage['bike_id_count'].idxmax())"
   ]
  },
  {
   "cell_type": "code",
   "execution_count": null,
   "metadata": {},
   "outputs": [],
   "source": [
    "# adding heatmap values\n",
    "chi_heat_map.add_child(plugins.HeatMap(chi_stations_usage[\"heatmap_data\"], radius=25, blur = 15, min_opacity = .3))\n",
    "chi_heat_map"
   ]
  },
  {
   "cell_type": "markdown",
   "metadata": {},
   "source": [
    "# `KPIs`"
   ]
  },
  {
   "cell_type": "markdown",
   "metadata": {},
   "source": [
    "### Total bike usage"
   ]
  },
  {
   "cell_type": "code",
   "execution_count": null,
   "metadata": {},
   "outputs": [],
   "source": [
    "chi_data[\"date_hour\"] = chi_data[\"start_time\"].dt.floor(\"H\")"
   ]
  },
  {
   "cell_type": "code",
   "execution_count": null,
   "metadata": {
    "scrolled": true
   },
   "outputs": [],
   "source": [
    "rentals_date_hour = chi_data.groupby(\"date_hour\")['bike_id'].count()\n",
    "rentals_date_hour =pd.DataFrame(rentals_date_hour)\n",
    "\n",
    "fig, ax = plt.subplots(figsize = (16,9))\n",
    "\n",
    "\n",
    "sns.scatterplot(x = rentals_date_hour.index.get_level_values(\"date_hour\"), y =rentals_date_hour['bike_id'], ax = ax, color = \"none\", ec = \"blue\")\n",
    "ax.set_title('Hourly bike usage over a year')\n",
    "ax.set_ylabel(\"Bike rentals\")\n",
    "ax.set_xlabel(\"Hour per date\")\n",
    "plt.show()"
   ]
  },
  {
   "cell_type": "code",
   "execution_count": null,
   "metadata": {},
   "outputs": [],
   "source": [
    "rentals_date_hour[\"date_hour\"] =rentals_date_hour.index"
   ]
  },
  {
   "cell_type": "code",
   "execution_count": null,
   "metadata": {
    "scrolled": true
   },
   "outputs": [],
   "source": [
    "rentals_date_hour[\"Hour\"] = rentals_date_hour['date_hour'].swifter.apply(lambda dt: dt.hour)\n",
    "rentals_date_hour[\"Month\"] = rentals_date_hour['date_hour'].swifter.apply(lambda dt: dt.month)\n",
    "rentals_date_hour[\"Day\"] = rentals_date_hour['date_hour'].swifter.apply(lambda dt: dt.day)\n",
    "rentals_date_hour.pop(\"date_hour\")"
   ]
  },
  {
   "cell_type": "code",
   "execution_count": null,
   "metadata": {},
   "outputs": [],
   "source": [
    "#Function that returns the total bike usage of specified day, month and hour.\n",
    "def calculateNumberRentalsSpecificHour(day, month, hour):\n",
    "    x = rentals_date_hour[(rentals_date_hour[\"Day\"] == day) & (rentals_date_hour[\"Month\"] == month) & (rentals_date_hour[\"Hour\"] == hour)]\n",
    "    y = x[\"bike_id\"]\n",
    "    y = pd.DataFrame(y)\n",
    "    return y"
   ]
  },
  {
   "cell_type": "code",
   "execution_count": null,
   "metadata": {
    "scrolled": true
   },
   "outputs": [],
   "source": [
    "#Output for 02.01.2017 hour 1\n",
    "calculateNumberRentalsSpecificHour(2, 1, 1)"
   ]
  },
  {
   "cell_type": "markdown",
   "metadata": {},
   "source": [
    "### Fleet utilization"
   ]
  },
  {
   "cell_type": "code",
   "execution_count": null,
   "metadata": {},
   "outputs": [],
   "source": [
    "fleet_utilization = chi_data.groupby(\"date_hour\")['bike_id'].nunique()/bikes\n",
    "fleet_utilization =pd.DataFrame(fleet_utilization)\n",
    "\n",
    "fig, ax = plt.subplots(figsize = (16,9))\n",
    "\n",
    "\n",
    "sns.scatterplot(x = fleet_utilization.index.get_level_values(\"date_hour\"), y =fleet_utilization['bike_id'], ax = ax, color = \"none\", ec = \"blue\")\n",
    "ax.set_title('Hourly fleet utilization over year')\n",
    "ax.set_ylabel(\"Fleet utilization [%]\")\n",
    "ax.set_xlabel(\"Hour per date\")\n",
    "plt.show()"
   ]
  },
  {
   "cell_type": "code",
   "execution_count": null,
   "metadata": {},
   "outputs": [],
   "source": [
    "fleet_utilization[\"date_hour\"] =fleet_utilization.index\n",
    "fleet_utilization[\"Year\"] = fleet_utilization['date_hour'].swifter.apply(lambda dt: dt.year)\n",
    "fleet_utilization[\"Hour\"] = fleet_utilization['date_hour'].swifter.apply(lambda dt: dt.hour)\n",
    "fleet_utilization[\"Month\"] = fleet_utilization['date_hour'].swifter.apply(lambda dt: dt.month)\n",
    "fleet_utilization[\"Day\"] = fleet_utilization['date_hour'].swifter.apply(lambda dt: dt.day)\n",
    "#fleet_utilization.pop(\"date_hour\")\n",
    "fleet_utilization"
   ]
  },
  {
   "cell_type": "code",
   "execution_count": null,
   "metadata": {},
   "outputs": [],
   "source": [
    "fu_daily = fleet_utilization.groupby(['Year','Month','Day'])['bike_id'].mean()\n",
    "fu_daily = pd.DataFrame(fu_daily)\n",
    "fu_daily[\"Month\"] = fu_daily.index.get_level_values('Month')\n",
    "fu_daily[\"Day\"] = fu_daily.index.get_level_values('Day')\n",
    "fu_daily[\"Year\"] = 2017\n",
    "\n",
    "fu_daily['Date'] = pd.to_datetime(fu_daily[['Year','Month','Day']])\n"
   ]
  },
  {
   "cell_type": "code",
   "execution_count": null,
   "metadata": {},
   "outputs": [],
   "source": [
    "fig, ax = plt.subplots(figsize = (10,6))\n",
    "\n",
    "sns.lineplot(x = fu_daily['Date'], y =fu_daily['bike_id'], ax = ax)\n",
    "ax.set_title('Fleet utilization')\n",
    "ax.set_ylabel('Fleet utilization [%]')\n",
    "plt.show()"
   ]
  },
  {
   "cell_type": "code",
   "execution_count": null,
   "metadata": {},
   "outputs": [],
   "source": [
    "first_date_q1 = datetime(year=2017, day=1, month=1, hour=0)\n",
    "last_date_q1 = datetime(year=2017, day=31, month=3, hour=23)\n",
    "\n",
    "fu_daily_q1 = fu_daily[(fu_daily['Date']>=first_date_q1)&(fu_daily[\"Date\"] <= last_date_q1)]\n",
    "\n",
    "fig, ax = plt.subplots(figsize = (10,6))\n",
    "\n",
    "sns.lineplot(x = fu_daily_q1['Date'], y =fu_daily_q1['bike_id'], ax = ax)\n",
    "ax.set_title('Fleet utilization')\n",
    "ax.set_ylabel('Fleet utilization [%]')\n",
    "plt.show()"
   ]
  },
  {
   "cell_type": "code",
   "execution_count": null,
   "metadata": {},
   "outputs": [],
   "source": [
    "#Function that returns the relative utilization of the fleet for a specified day, month and hour.\n",
    "def calculateFleetUtilization(day, month, hour):\n",
    "    x = fleet_utilization[(fleet_utilization[\"Day\"] == day) & (fleet_utilization[\"Month\"] == month) & (fleet_utilization[\"Hour\"] == hour)]\n",
    "    y = x[\"bike_id\"]\n",
    "    y = pd.DataFrame(y)\n",
    "    return y"
   ]
  },
  {
   "cell_type": "code",
   "execution_count": null,
   "metadata": {
    "scrolled": false
   },
   "outputs": [],
   "source": [
    "#Output for 15.08.2017 hour 8\n",
    "calculateFleetUtilization(15,8,8)"
   ]
  },
  {
   "cell_type": "markdown",
   "metadata": {},
   "source": [
    "### Duration of rentals"
   ]
  },
  {
   "cell_type": "code",
   "execution_count": null,
   "metadata": {},
   "outputs": [],
   "source": [
    "duration = chi_data.groupby(\"date_hour\")['Duration_sec'].mean()\n",
    "duration =pd.DataFrame(duration)\n",
    "duration[\"mean_minutes\"]= duration[\"Duration_sec\"]/60\n",
    "duration[\"min_minutes\"]=  chi_data.groupby(\"date_hour\")['Duration_sec'].min()/60\n",
    "duration[\"max_minutes\"]=  chi_data.groupby(\"date_hour\")['Duration_sec'].max()/60\n",
    "duration"
   ]
  },
  {
   "cell_type": "code",
   "execution_count": null,
   "metadata": {
    "scrolled": false
   },
   "outputs": [],
   "source": [
    "fig, ax = plt.subplots(figsize = (16,9))\n",
    "\n",
    "\n",
    "sns.scatterplot(x = duration.index.get_level_values(\"date_hour\"), y =duration['mean_minutes'], ax = ax, color = \"none\", ec = \"blue\")\n",
    "ax.set_title('Average travel duration per hour over year')\n",
    "ax.set_ylabel(\"Minutes\")\n",
    "ax.set_xlabel(\"Hour per date\")\n",
    "plt.show()"
   ]
  },
  {
   "cell_type": "code",
   "execution_count": null,
   "metadata": {
    "scrolled": false
   },
   "outputs": [],
   "source": [
    "duration[\"date_hour\"] =duration.index\n",
    "duration[\"Hour\"] = duration['date_hour'].swifter.apply(lambda dt: dt.hour)\n",
    "duration[\"Month\"] = duration['date_hour'].swifter.apply(lambda dt: dt.month)\n",
    "duration[\"Day\"] = duration['date_hour'].swifter.apply(lambda dt: dt.day)\n",
    "duration.pop(\"date_hour\")"
   ]
  },
  {
   "cell_type": "code",
   "execution_count": null,
   "metadata": {},
   "outputs": [],
   "source": [
    "#Function that returns the relative utilization of the fleet for a specified day, month and hour.\n",
    "def calculateDuration(day, month, hour):\n",
    "    x = duration[(duration[\"Day\"] == day) & (duration[\"Month\"] == month) & (duration[\"Hour\"] == hour)]\n",
    "    y = x[\"mean_minutes\"]\n",
    "    y = pd.DataFrame(y)\n",
    "    y[\"min_minutes\"] = x[\"min_minutes\"]\n",
    "    y[\"max_minutes\"] = x[\"max_minutes\"]\n",
    "\n",
    "    return y"
   ]
  },
  {
   "cell_type": "code",
   "execution_count": null,
   "metadata": {
    "scrolled": false
   },
   "outputs": [],
   "source": [
    "calculateDuration(1,1,0)"
   ]
  },
  {
   "cell_type": "markdown",
   "metadata": {},
   "source": [
    "### Rental distribution of costumers and subscribers"
   ]
  },
  {
   "cell_type": "markdown",
   "metadata": {},
   "source": [
    "for better overview we are grouping by week"
   ]
  },
  {
   "cell_type": "code",
   "execution_count": null,
   "metadata": {},
   "outputs": [],
   "source": [
    "chi_usage = chi_data.groupby([\"Week\"])[\"bike_id\"].count()\n",
    "chi_usage_subs = chi_data[chi_data[\"user_type\"]==\"Subscriber\"].groupby([\"Week\"])[\"bike_id\"].count()\n",
    "chi_usage_costu = chi_data[chi_data[\"user_type\"]==\"Customer\"].groupby([\"Week\"])[\"bike_id\"].count()"
   ]
  },
  {
   "cell_type": "code",
   "execution_count": null,
   "metadata": {},
   "outputs": [],
   "source": [
    "fig, ax = plt.subplots(figsize=(16,6))\n",
    "\n",
    "ax.plot(chi_usage, label=\"Total\", color='darkcyan')\n",
    "ax.plot(chi_usage_subs, label=\"Subscribers\", color='b')\n",
    "ax.plot(chi_usage_costu, label=\"Other Costumers\", color='r')\n",
    "\n",
    "ax.set_title(\"Rental distribution of costumer and subscriber\", fontsize=16)\n",
    "ax.set_ylabel(\"Rentals\", fontsize=14)\n",
    "ax.set_xlabel(\"Weeks\", fontsize=14)\n",
    "ax.legend(fontsize=14, loc=\"upper left\")\n",
    "plt.show()"
   ]
  }
 ],
 "metadata": {
  "kernelspec": {
   "display_name": "Python 3",
   "language": "python",
   "name": "python3"
  },
  "language_info": {
   "codemirror_mode": {
    "name": "ipython",
    "version": 3
   },
   "file_extension": ".py",
   "mimetype": "text/x-python",
   "name": "python",
   "nbconvert_exporter": "python",
   "pygments_lexer": "ipython3",
   "version": "3.8.5"
  }
 },
 "nbformat": 4,
 "nbformat_minor": 4
}
