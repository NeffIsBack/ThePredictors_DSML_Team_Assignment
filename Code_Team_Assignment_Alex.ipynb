{
 "cells": [
  {
   "cell_type": "markdown",
   "metadata": {},
   "source": [
    "# Team Assignment - the descriptive Task"
   ]
  },
  {
   "cell_type": "markdown",
   "metadata": {},
   "source": [
    "#### First Step: Importing"
   ]
  },
  {
   "cell_type": "code",
   "execution_count": 1,
   "metadata": {},
   "outputs": [],
   "source": [
    "# ----------- GPU acceleration - use pandas if you don't got a nvidia gpu -----------\n",
    "import pandas as pd\n",
    "#import cudf as pd\n",
    "\n",
    "# install packages with \"conda install -c nvidia -c rapidsai -c numba -c conda-forge -c defaults cudf\" \n",
    "# only on Linux available\n",
    "# ----------- GPU acceleration - end -----------\n",
    "import swifter\n",
    "import matplotlib.pyplot as plt\n",
    "import seaborn as sns\n",
    "sns.set()\n",
    "sns.set_style(\"white\")\n",
    "sns.set_palette(\"GnBu_d\")\n",
    "\n",
    "import folium\n",
    "from folium import plugins\n",
    "from folium.plugins import HeatMap\n",
    "from geopandas.tools import geocode\n",
    "\n",
    "from datetime import datetime, timedelta"
   ]
  },
  {
   "cell_type": "code",
   "execution_count": 2,
   "metadata": {},
   "outputs": [],
   "source": [
    "chg17 = pd.read_csv(\"chicago_2017.csv\")"
   ]
  },
  {
   "cell_type": "markdown",
   "metadata": {},
   "source": [
    "#### Second Step: Validate and review the Data"
   ]
  },
  {
   "cell_type": "code",
   "execution_count": 3,
   "metadata": {},
   "outputs": [
    {
     "name": "stdout",
     "output_type": "stream",
     "text": [
      "<class 'pandas.core.frame.DataFrame'>\n",
      "RangeIndex: 3829014 entries, 0 to 3829013\n",
      "Data columns (total 8 columns):\n",
      " #   Column              Dtype \n",
      "---  ------              ----- \n",
      " 0   start_time          object\n",
      " 1   end_time            object\n",
      " 2   start_station_id    int64 \n",
      " 3   end_station_id      int64 \n",
      " 4   start_station_name  object\n",
      " 5   end_station_name    object\n",
      " 6   bike_id             int64 \n",
      " 7   user_type           object\n",
      "dtypes: int64(3), object(5)\n",
      "memory usage: 233.7+ MB\n"
     ]
    }
   ],
   "source": [
    "chg17.info()"
   ]
  },
  {
   "cell_type": "code",
   "execution_count": 4,
   "metadata": {},
   "outputs": [],
   "source": [
    "# chg17.describe()"
   ]
  },
  {
   "cell_type": "code",
   "execution_count": 5,
   "metadata": {},
   "outputs": [
    {
     "data": {
      "text/html": [
       "<div>\n",
       "<style scoped>\n",
       "    .dataframe tbody tr th:only-of-type {\n",
       "        vertical-align: middle;\n",
       "    }\n",
       "\n",
       "    .dataframe tbody tr th {\n",
       "        vertical-align: top;\n",
       "    }\n",
       "\n",
       "    .dataframe thead th {\n",
       "        text-align: right;\n",
       "    }\n",
       "</style>\n",
       "<table border=\"1\" class=\"dataframe\">\n",
       "  <thead>\n",
       "    <tr style=\"text-align: right;\">\n",
       "      <th></th>\n",
       "      <th>start_time</th>\n",
       "      <th>end_time</th>\n",
       "      <th>start_station_id</th>\n",
       "      <th>end_station_id</th>\n",
       "      <th>start_station_name</th>\n",
       "      <th>end_station_name</th>\n",
       "      <th>bike_id</th>\n",
       "      <th>user_type</th>\n",
       "    </tr>\n",
       "  </thead>\n",
       "  <tbody>\n",
       "    <tr>\n",
       "      <th>0</th>\n",
       "      <td>3/31/2017 23:59:07</td>\n",
       "      <td>4/1/2017 00:13:24</td>\n",
       "      <td>66</td>\n",
       "      <td>171</td>\n",
       "      <td>Clinton St &amp; Lake St</td>\n",
       "      <td>May St &amp; Cullerton St</td>\n",
       "      <td>5292</td>\n",
       "      <td>Subscriber</td>\n",
       "    </tr>\n",
       "    <tr>\n",
       "      <th>1</th>\n",
       "      <td>3/31/2017 23:56:25</td>\n",
       "      <td>4/1/2017 00:00:21</td>\n",
       "      <td>199</td>\n",
       "      <td>26</td>\n",
       "      <td>Wabash Ave &amp; Grand Ave</td>\n",
       "      <td>McClurg Ct &amp; Illinois St</td>\n",
       "      <td>4408</td>\n",
       "      <td>Subscriber</td>\n",
       "    </tr>\n",
       "    <tr>\n",
       "      <th>2</th>\n",
       "      <td>3/31/2017 23:55:33</td>\n",
       "      <td>4/1/2017 00:01:21</td>\n",
       "      <td>520</td>\n",
       "      <td>432</td>\n",
       "      <td>Greenview Ave &amp; Jarvis Ave</td>\n",
       "      <td>Clark St &amp; Lunt Ave</td>\n",
       "      <td>696</td>\n",
       "      <td>Subscriber</td>\n",
       "    </tr>\n",
       "    <tr>\n",
       "      <th>3</th>\n",
       "      <td>3/31/2017 23:54:46</td>\n",
       "      <td>3/31/2017 23:59:34</td>\n",
       "      <td>110</td>\n",
       "      <td>142</td>\n",
       "      <td>Dearborn St &amp; Erie St</td>\n",
       "      <td>McClurg Ct &amp; Erie St</td>\n",
       "      <td>4915</td>\n",
       "      <td>Subscriber</td>\n",
       "    </tr>\n",
       "    <tr>\n",
       "      <th>4</th>\n",
       "      <td>3/31/2017 23:53:33</td>\n",
       "      <td>4/1/2017 00:00:28</td>\n",
       "      <td>327</td>\n",
       "      <td>331</td>\n",
       "      <td>Sheffield Ave &amp; Webster Ave</td>\n",
       "      <td>Halsted St &amp; Blackhawk St (*)</td>\n",
       "      <td>4247</td>\n",
       "      <td>Subscriber</td>\n",
       "    </tr>\n",
       "  </tbody>\n",
       "</table>\n",
       "</div>"
      ],
      "text/plain": [
       "           start_time            end_time  start_station_id  end_station_id  \\\n",
       "0  3/31/2017 23:59:07   4/1/2017 00:13:24                66             171   \n",
       "1  3/31/2017 23:56:25   4/1/2017 00:00:21               199              26   \n",
       "2  3/31/2017 23:55:33   4/1/2017 00:01:21               520             432   \n",
       "3  3/31/2017 23:54:46  3/31/2017 23:59:34               110             142   \n",
       "4  3/31/2017 23:53:33   4/1/2017 00:00:28               327             331   \n",
       "\n",
       "            start_station_name               end_station_name  bike_id  \\\n",
       "0         Clinton St & Lake St          May St & Cullerton St     5292   \n",
       "1       Wabash Ave & Grand Ave       McClurg Ct & Illinois St     4408   \n",
       "2   Greenview Ave & Jarvis Ave            Clark St & Lunt Ave      696   \n",
       "3        Dearborn St & Erie St           McClurg Ct & Erie St     4915   \n",
       "4  Sheffield Ave & Webster Ave  Halsted St & Blackhawk St (*)     4247   \n",
       "\n",
       "    user_type  \n",
       "0  Subscriber  \n",
       "1  Subscriber  \n",
       "2  Subscriber  \n",
       "3  Subscriber  \n",
       "4  Subscriber  "
      ]
     },
     "execution_count": 5,
     "metadata": {},
     "output_type": "execute_result"
    }
   ],
   "source": [
    "chg17.head()"
   ]
  },
  {
   "cell_type": "markdown",
   "metadata": {},
   "source": [
    "Let's have a look at empty values"
   ]
  },
  {
   "cell_type": "code",
   "execution_count": 6,
   "metadata": {},
   "outputs": [
    {
     "data": {
      "text/html": [
       "<div>\n",
       "<style scoped>\n",
       "    .dataframe tbody tr th:only-of-type {\n",
       "        vertical-align: middle;\n",
       "    }\n",
       "\n",
       "    .dataframe tbody tr th {\n",
       "        vertical-align: top;\n",
       "    }\n",
       "\n",
       "    .dataframe thead th {\n",
       "        text-align: right;\n",
       "    }\n",
       "</style>\n",
       "<table border=\"1\" class=\"dataframe\">\n",
       "  <thead>\n",
       "    <tr style=\"text-align: right;\">\n",
       "      <th></th>\n",
       "      <th>start_time</th>\n",
       "      <th>end_time</th>\n",
       "      <th>start_station_id</th>\n",
       "      <th>end_station_id</th>\n",
       "      <th>start_station_name</th>\n",
       "      <th>end_station_name</th>\n",
       "      <th>bike_id</th>\n",
       "      <th>user_type</th>\n",
       "    </tr>\n",
       "  </thead>\n",
       "  <tbody>\n",
       "  </tbody>\n",
       "</table>\n",
       "</div>"
      ],
      "text/plain": [
       "Empty DataFrame\n",
       "Columns: [start_time, end_time, start_station_id, end_station_id, start_station_name, end_station_name, bike_id, user_type]\n",
       "Index: []"
      ]
     },
     "execution_count": 6,
     "metadata": {},
     "output_type": "execute_result"
    }
   ],
   "source": [
    "emptyRows = chg17[chg17.isna().any(axis=1)]\n",
    "emptyRows"
   ]
  },
  {
   "cell_type": "code",
   "execution_count": 7,
   "metadata": {},
   "outputs": [
    {
     "name": "stdout",
     "output_type": "stream",
     "text": [
      "There are 0 empty rows\n"
     ]
    }
   ],
   "source": [
    "countEmptyRows = len(chg17[chg17.isna().any(axis=1)])\n",
    "print(\"There are {} empty rows\".format(countEmptyRows))"
   ]
  },
  {
   "cell_type": "markdown",
   "metadata": {},
   "source": [
    "As you can see, there are none empty Values"
   ]
  },
  {
   "cell_type": "markdown",
   "metadata": {},
   "source": [
    "## Usage Visualization:\n",
    "\n",
    "First we aggregate our data and do some calculation before"
   ]
  },
  {
   "cell_type": "code",
   "execution_count": null,
   "metadata": {},
   "outputs": [],
   "source": [
    "# Careful, this step takes some minutes\n",
    "chg17_timeStamps = chg17.copy()\n",
    "chg17_timeStamps['start_time'] = pd.to_datetime(chg17_timeStamps['start_time'])\n",
    "chg17_timeStamps['end_time'] = pd.to_datetime(chg17_timeStamps['end_time'])"
   ]
  },
  {
   "cell_type": "code",
   "execution_count": null,
   "metadata": {
    "scrolled": true
   },
   "outputs": [],
   "source": [
    "chg17_timeStamps.head()"
   ]
  },
  {
   "cell_type": "code",
   "execution_count": null,
   "metadata": {},
   "outputs": [],
   "source": [
    "chg17_timeStamps[\"date\"] = chg17_timeStamps[\"start_time\"].swifter.apply(lambda x: x.date()) \n",
    "chg17_timeStamps[\"travel_time\"] = chg17_timeStamps[\"end_time\"] - chg17_timeStamps[\"start_time\"]\n",
    "chg17_timeStamps[\"hour\"] = chg17_timeStamps[\"start_time\"].swifter.apply(lambda x: x.hour) \n",
    "chg17_timeStamps[\"weekday\"] = chg17_timeStamps[\"start_time\"].swifter.apply(lambda x: x.weekday()) \n",
    "chg17_timeStamps[\"week\"] = chg17_timeStamps[\"start_time\"].swifter.apply(lambda x: x.isocalendar()[1]) \n",
    "chg17_timeStamps[\"month\"] = chg17_timeStamps[\"start_time\"].swifter.apply(lambda x: x.month) \n",
    "chg17_timeStamps.sort_values([\"date\",\"bike_id\"], inplace = True)"
   ]
  },
  {
   "cell_type": "code",
   "execution_count": null,
   "metadata": {},
   "outputs": [],
   "source": [
    "chg17_timeStamps.head()"
   ]
  },
  {
   "cell_type": "markdown",
   "metadata": {},
   "source": [
    "### Let's take a look at different usages\n",
    "At first some usage data over the year"
   ]
  },
  {
   "cell_type": "code",
   "execution_count": null,
   "metadata": {},
   "outputs": [],
   "source": [
    "chg17_usage = chg17_timeStamps.groupby([\"date\"])[\"bike_id\"].count()\n",
    "chg17_usage = pd.DataFrame(chg17_usage)"
   ]
  },
  {
   "cell_type": "code",
   "execution_count": null,
   "metadata": {
    "scrolled": true
   },
   "outputs": [],
   "source": [
    "fig, ax = plt.subplots(figsize=(16,6))\n",
    "\n",
    "ax.plot(chg17_usage, color='darkcyan')\n",
    "\n",
    "ax.set_title(\"Usage over a year\", fontsize=16)\n",
    "plt.show()"
   ]
  },
  {
   "cell_type": "markdown",
   "metadata": {},
   "source": [
    "Breaking this into our to costumer types: costumer, subscriber.\n",
    "\n",
    "For simplicity reasons we are grouping by week now"
   ]
  },
  {
   "cell_type": "code",
   "execution_count": null,
   "metadata": {},
   "outputs": [],
   "source": [
    "data_range = pd.date_range('2017-01-01', '2017-12-31')"
   ]
  },
  {
   "cell_type": "code",
   "execution_count": null,
   "metadata": {},
   "outputs": [],
   "source": [
    "chg17_usage = chg17_timeStamps.groupby([\"week\"])[\"bike_id\"].count()\n",
    "chg17_usage = pd.DataFrame(chg17_usage)"
   ]
  },
  {
   "cell_type": "code",
   "execution_count": null,
   "metadata": {},
   "outputs": [],
   "source": [
    "chg17_usage_subs = chg17_timeStamps[chg17_timeStamps[\"user_type\"]==\"Subscriber\"].groupby([\"week\"])[\"bike_id\"].count()\n",
    "chg17_usage_subs = pd.DataFrame(chg17_usage_subs)"
   ]
  },
  {
   "cell_type": "code",
   "execution_count": null,
   "metadata": {},
   "outputs": [],
   "source": [
    "chg17_usage_costu = chg17_timeStamps[chg17_timeStamps[\"user_type\"]==\"Customer\"].groupby([\"week\"])[\"bike_id\"].count()\n",
    "chg17_usage_costu = pd.DataFrame(chg17_usage_costu)"
   ]
  },
  {
   "cell_type": "code",
   "execution_count": null,
   "metadata": {},
   "outputs": [],
   "source": [
    "fig, ax = plt.subplots(figsize=(16,6))\n",
    "\n",
    "ax.plot(chg17_usage, label=\"Total\", color='darkcyan')\n",
    "ax.plot(chg17_usage_subs, label=\"Subscriber\", color='b')\n",
    "ax.plot(chg17_usage_costu, label=\"Other Costumer\", color='r')\n",
    "\n",
    "ax.set_title(\"Usage over a year\", fontsize=16)\n",
    "ax.set_ylabel(\"Rides in total\")\n",
    "ax.set_xlabel(\"Weeks\")\n",
    "ax.legend(fontsize=14, loc=\"upper left\")\n",
    "plt.show()"
   ]
  },
  {
   "cell_type": "code",
   "execution_count": null,
   "metadata": {},
   "outputs": [],
   "source": [
    "chg17_usage = chg17_timeStamps.groupby([\"date\",\"month\"])[\"bike_id\"].nunique()\n",
    "chg17_usage = pd.DataFrame(chg17_usage)"
   ]
  },
  {
   "cell_type": "code",
   "execution_count": null,
   "metadata": {},
   "outputs": [],
   "source": [
    "fig, ax = plt.subplots(figsize=(16,6))\n",
    "\n",
    "sns.boxplot(x = chg17_usage.index.get_level_values(1),\n",
    "            y = chg17_usage[\"bike_id\"],\n",
    "            ax=ax)\n",
    "ax.set_title(\"Usage over the year\", fontsize=16)\n",
    "plt.show()"
   ]
  },
  {
   "cell_type": "markdown",
   "metadata": {},
   "source": [
    "Then we take a look at some usage data per individual day. We compare each week day to each other"
   ]
  },
  {
   "cell_type": "code",
   "execution_count": null,
   "metadata": {},
   "outputs": [],
   "source": [
    "chg17_usage = chg17_timeStamps.groupby([\"date\",\"weekday\"])[\"bike_id\"].nunique()\n",
    "chg17_usage = pd.DataFrame(chg17_usage)"
   ]
  },
  {
   "cell_type": "code",
   "execution_count": null,
   "metadata": {},
   "outputs": [],
   "source": [
    "fig, ax = plt.subplots(figsize=(10,4))\n",
    "\n",
    "sns.boxplot(x = chg17_usage.index.get_level_values(1),\n",
    "            y = chg17_usage[\"bike_id\"],\n",
    "            ax=ax)\n",
    "ax.set_title(\"Usage per Day\")\n",
    "plt.show()"
   ]
  },
  {
   "cell_type": "markdown",
   "metadata": {},
   "source": [
    "We continue with some analyses of the usage over the day"
   ]
  },
  {
   "cell_type": "code",
   "execution_count": null,
   "metadata": {},
   "outputs": [],
   "source": [
    "chg17_usage = chg17_timeStamps.groupby([\"date\",\"hour\"])[\"bike_id\"].nunique()\n",
    "chg17_usage = pd.DataFrame(chg17_usage)"
   ]
  },
  {
   "cell_type": "code",
   "execution_count": null,
   "metadata": {},
   "outputs": [],
   "source": [
    "fig, ax = plt.subplots(figsize=(16,6))\n",
    "\n",
    "sns.boxplot(x = chg17_usage.index.get_level_values(1),\n",
    "            y = chg17_usage[\"bike_id\"],\n",
    "            ax=ax)\n",
    "ax.set_title(\"Rental start per Hour\")\n",
    "plt.show()"
   ]
  },
  {
   "cell_type": "markdown",
   "metadata": {},
   "source": [
    "### We now take a look at availability time\n",
    "#### Time where the product is not in use is often very important"
   ]
  },
  {
   "cell_type": "markdown",
   "metadata": {},
   "source": [
    "Here are the station's:"
   ]
  },
  {
   "cell_type": "code",
   "execution_count": 3,
   "metadata": {},
   "outputs": [],
   "source": [
    "chg17_stations = chg17.copy()"
   ]
  },
  {
   "cell_type": "code",
   "execution_count": 4,
   "metadata": {},
   "outputs": [
    {
     "data": {
      "text/plain": [
       "0    POINT (7.05897 50.97186)\n",
       "Name: geometry, dtype: geometry"
      ]
     },
     "execution_count": 4,
     "metadata": {},
     "output_type": "execute_result"
    }
   ],
   "source": [
    "geocode(\"Märchenstraße 25\", provider=\"nominatim\", user_agent='my_request')[\"geometry\"]"
   ]
  },
  {
   "cell_type": "code",
   "execution_count": 5,
   "metadata": {},
   "outputs": [],
   "source": [
    "def getLocation(x):\n",
    "    try:\n",
    "        location = geocode(x, provider=\"nominatim\", user_agent='my_request')\n",
    "        point = location.geometry.iloc[0]\n",
    "        return f\"({round(point.y, 4)}, {round(point.x, 4)})\"\n",
    "    except:\n",
    "        return \"No address found\""
   ]
  },
  {
   "cell_type": "code",
   "execution_count": null,
   "metadata": {},
   "outputs": [
    {
     "name": "stdout",
     "output_type": "stream",
     "text": [
      "Trying location: Clinton St & Lake St\n",
      "Trying location: Wabash Ave & Grand Ave\n",
      "Trying location: Greenview Ave & Jarvis Ave\n",
      "Trying location: Dearborn St & Erie St\n",
      "Trying location: Sheffield Ave & Webster Ave\n",
      "Trying location: Sedgwick St & Webster Ave\n",
      "Trying location: Daley Center Plaza\n",
      "Trying location: Desplaines St & Kinzie St\n",
      "Trying location: Ashland Ave & Division St\n",
      "Trying location: Wilton Ave & Belmont Ave\n",
      "Trying location: Wilton Ave & Belmont Ave\n",
      "Trying location: Southport Ave & Waveland Ave\n",
      "Trying location: Wabash Ave & Grand Ave\n",
      "Trying location: Wabash Ave & Roosevelt Rd\n",
      "Trying location: Sheffield Ave & Fullerton Ave\n",
      "Trying location: Ashland Ave & Blackhawk St\n",
      "Trying location: Clinton St & Madison St\n",
      "Trying location: Millennium Park\n",
      "Trying location: Clark St & Lake St\n",
      "Trying location: Clinton St & Washington Blvd\n",
      "Trying location: Damen Ave & Pierce Ave\n",
      "Trying location: Clinton St & Lake St\n",
      "Trying location: McClurg Ct & Illinois St\n",
      "Trying location: Clinton St & Jackson Blvd\n",
      "Trying location: Lincoln Ave & Roscoe St\n",
      "Trying location: Wells St & Concord Ln\n",
      "Trying location: Wells St & Evergreen Ave\n",
      "Trying location: Green St & Randolph St\n",
      "Trying location: Ashland Ave & Harrison St\n",
      "Trying location: Wells St & Huron St\n",
      "Trying location: Halsted St & Willow St\n",
      "Trying location: Clark St & Lincoln Ave\n",
      "Trying location: Ashland Ave & Division St\n",
      "Trying location: Broadway & Sheridan Rd\n",
      "Trying location: Rush St & Cedar St\n",
      "Trying location: Mies van der Rohe Way & Chestnut St\n",
      "Trying location: Western Ave & Walton St\n",
      "Trying location: McClurg Ct & Illinois St\n",
      "Trying location: Artesian Ave & Hubbard St\n",
      "Trying location: Western Ave & Walton St\n",
      "Trying location: Michigan Ave & Congress Pkwy\n",
      "Trying location: Sedgwick St & North Ave\n",
      "Trying location: Sedgwick St & North Ave\n",
      "Trying location: Sheffield Ave & Webster Ave\n",
      "Trying location: Michigan Ave & Washington St\n",
      "Trying location: Wilton Ave & Belmont Ave\n",
      "Trying location: California Ave & Milwaukee Ave\n",
      "Trying location: Clark St & Columbia Ave\n",
      "Trying location: Wabash Ave & Grand Ave\n",
      "Trying location: Broadway & Cornelia Ave\n",
      "Trying location: Aberdeen St & Jackson Blvd\n",
      "Trying location: Clinton St & Lake St\n",
      "Trying location: Campbell Ave & Fullerton Ave\n",
      "Trying location: Drake Ave & Montrose Ave\n",
      "Trying location: Clark St & North Ave\n",
      "Trying location: Daley Center Plaza\n",
      "Trying location: Clark St & Berwyn Ave\n",
      "Trying location: Damen Ave & Cortland St\n",
      "Trying location: Daley Center Plaza\n",
      "Trying location: Sheridan Rd & Irving Park Rd\n",
      "Trying location: Buckingham Fountain\n",
      "Trying location: Sheridan Rd & Irving Park Rd\n",
      "Trying location: Buckingham Fountain\n",
      "Trying location: Buckingham Fountain\n",
      "Trying location: Buckingham Fountain\n",
      "Trying location: Ashland Ave & Division St\n"
     ]
    }
   ],
   "source": [
    "chg17_stations[\"coordinates\"] = chg17_stations[\"start_station_name\"].swifter.apply(lambda x: getLocation(x))"
   ]
  },
  {
   "cell_type": "code",
   "execution_count": null,
   "metadata": {},
   "outputs": [],
   "source": [
    "chg17_stations.head()"
   ]
  },
  {
   "cell_type": "code",
   "execution_count": null,
   "metadata": {},
   "outputs": [],
   "source": [
    "chg17_stations_map = folium.Map(location=(48.76507, 9.25371),  tiles='Stamen Toner', \n",
    "                       zoom_start=12, control_scale=True, max_zoom=20)\n",
    "\n",
    "for station in chg17_stations:\n",
    "    folium.CircleMarker(radius=10, location=station, popup='The Waterfront', \n",
    "                                 color='crimson', fill_color='crimson').add_to(chg17_stations_map)"
   ]
  },
  {
   "cell_type": "code",
   "execution_count": null,
   "metadata": {},
   "outputs": [],
   "source": []
  },
  {
   "cell_type": "code",
   "execution_count": null,
   "metadata": {},
   "outputs": [],
   "source": [
    "chg17_bikes = chg17[\"bike_id\"].nunique()\n",
    "chg17_bikes"
   ]
  },
  {
   "cell_type": "code",
   "execution_count": null,
   "metadata": {},
   "outputs": [],
   "source": [
    "chg17_avail = chg17_timeStamps.copy()"
   ]
  },
  {
   "cell_type": "code",
   "execution_count": null,
   "metadata": {},
   "outputs": [],
   "source": [
    "chg17_avail.sort_values([\"bike_id\",\"date\"], inplace=True)"
   ]
  },
  {
   "cell_type": "code",
   "execution_count": null,
   "metadata": {},
   "outputs": [],
   "source": [
    "chg17_avail.head()"
   ]
  },
  {
   "cell_type": "code",
   "execution_count": null,
   "metadata": {},
   "outputs": [],
   "source": [
    "chg17_avail2 = chg17_avail.groupby([\"date\",\"bike_id\"])[\"travel_time\"].sum()\n",
    "chg17_avail2 = pd.DataFrame(chg17_avail2)\n",
    "chg17_avail2.head(20)"
   ]
  }
 ],
 "metadata": {
  "kernelspec": {
   "display_name": "Python 3",
   "language": "python",
   "name": "python3"
  },
  "language_info": {
   "codemirror_mode": {
    "name": "ipython",
    "version": 3
   },
   "file_extension": ".py",
   "mimetype": "text/x-python",
   "name": "python",
   "nbconvert_exporter": "python",
   "pygments_lexer": "ipython3",
   "version": "3.8.10"
  }
 },
 "nbformat": 4,
 "nbformat_minor": 4
}
