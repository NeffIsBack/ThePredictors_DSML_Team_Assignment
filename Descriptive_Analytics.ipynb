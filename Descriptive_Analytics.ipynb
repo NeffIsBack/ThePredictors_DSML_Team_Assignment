{
 "cells": [
  {
   "cell_type": "markdown",
   "metadata": {},
   "source": [
    "## Import all packages"
   ]
  },
  {
   "cell_type": "code",
   "execution_count": 5,
   "metadata": {},
   "outputs": [],
   "source": [
    "import pandas as pd\n",
    "import numpy as np\n",
    "import matplotlib.pyplot as plt\n",
    "import seaborn as sns\n",
    "import sklearn\n",
    "import statsmodels\n",
    "import folium\n",
    "from folium import plugins\n",
    "from folium.plugins import HeatMap\n",
    "from datetime import datetime #for working with times objects\n",
    "from datetime import timedelta #for working with times objects\n",
    "from datetime import date\n",
    "import math\n",
    "import random\n",
    "import swifter"
   ]
  },
  {
   "cell_type": "markdown",
   "metadata": {},
   "source": [
    "## Import data sets"
   ]
  },
  {
   "cell_type": "code",
   "execution_count": 3,
   "metadata": {},
   "outputs": [
    {
     "ename": "FileNotFoundError",
     "evalue": "[Errno 2] No such file or directory: 'chicago_2017.csv'",
     "output_type": "error",
     "traceback": [
      "\u001b[1;31m---------------------------------------------------------------------------\u001b[0m",
      "\u001b[1;31mFileNotFoundError\u001b[0m                         Traceback (most recent call last)",
      "\u001b[1;32m<ipython-input-3-771ae9bb9251>\u001b[0m in \u001b[0;36m<module>\u001b[1;34m\u001b[0m\n\u001b[0;32m      1\u001b[0m \u001b[1;31m#read in the data\u001b[0m\u001b[1;33m\u001b[0m\u001b[1;33m\u001b[0m\u001b[1;33m\u001b[0m\u001b[0m\n\u001b[0;32m      2\u001b[0m \u001b[1;33m\u001b[0m\u001b[0m\n\u001b[1;32m----> 3\u001b[1;33m \u001b[0mchi_data\u001b[0m \u001b[1;33m=\u001b[0m \u001b[0mpd\u001b[0m\u001b[1;33m.\u001b[0m\u001b[0mread_csv\u001b[0m\u001b[1;33m(\u001b[0m\u001b[1;34m\"chicago_2017.csv\"\u001b[0m\u001b[1;33m)\u001b[0m\u001b[1;33m\u001b[0m\u001b[1;33m\u001b[0m\u001b[0m\n\u001b[0m\u001b[0;32m      4\u001b[0m \u001b[0mchi_weather\u001b[0m \u001b[1;33m=\u001b[0m \u001b[0mpd\u001b[0m\u001b[1;33m.\u001b[0m\u001b[0mread_csv\u001b[0m\u001b[1;33m(\u001b[0m\u001b[1;34m\"weather_hourly_chicago.csv\"\u001b[0m\u001b[1;33m)\u001b[0m\u001b[1;33m\u001b[0m\u001b[1;33m\u001b[0m\u001b[0m\n",
      "\u001b[1;32m~\\anaconda3\\lib\\site-packages\\pandas\\io\\parsers.py\u001b[0m in \u001b[0;36mread_csv\u001b[1;34m(filepath_or_buffer, sep, delimiter, header, names, index_col, usecols, squeeze, prefix, mangle_dupe_cols, dtype, engine, converters, true_values, false_values, skipinitialspace, skiprows, skipfooter, nrows, na_values, keep_default_na, na_filter, verbose, skip_blank_lines, parse_dates, infer_datetime_format, keep_date_col, date_parser, dayfirst, cache_dates, iterator, chunksize, compression, thousands, decimal, lineterminator, quotechar, quoting, doublequote, escapechar, comment, encoding, dialect, error_bad_lines, warn_bad_lines, delim_whitespace, low_memory, memory_map, float_precision, storage_options)\u001b[0m\n\u001b[0;32m    608\u001b[0m     \u001b[0mkwds\u001b[0m\u001b[1;33m.\u001b[0m\u001b[0mupdate\u001b[0m\u001b[1;33m(\u001b[0m\u001b[0mkwds_defaults\u001b[0m\u001b[1;33m)\u001b[0m\u001b[1;33m\u001b[0m\u001b[1;33m\u001b[0m\u001b[0m\n\u001b[0;32m    609\u001b[0m \u001b[1;33m\u001b[0m\u001b[0m\n\u001b[1;32m--> 610\u001b[1;33m     \u001b[1;32mreturn\u001b[0m \u001b[0m_read\u001b[0m\u001b[1;33m(\u001b[0m\u001b[0mfilepath_or_buffer\u001b[0m\u001b[1;33m,\u001b[0m \u001b[0mkwds\u001b[0m\u001b[1;33m)\u001b[0m\u001b[1;33m\u001b[0m\u001b[1;33m\u001b[0m\u001b[0m\n\u001b[0m\u001b[0;32m    611\u001b[0m \u001b[1;33m\u001b[0m\u001b[0m\n\u001b[0;32m    612\u001b[0m \u001b[1;33m\u001b[0m\u001b[0m\n",
      "\u001b[1;32m~\\anaconda3\\lib\\site-packages\\pandas\\io\\parsers.py\u001b[0m in \u001b[0;36m_read\u001b[1;34m(filepath_or_buffer, kwds)\u001b[0m\n\u001b[0;32m    460\u001b[0m \u001b[1;33m\u001b[0m\u001b[0m\n\u001b[0;32m    461\u001b[0m     \u001b[1;31m# Create the parser.\u001b[0m\u001b[1;33m\u001b[0m\u001b[1;33m\u001b[0m\u001b[1;33m\u001b[0m\u001b[0m\n\u001b[1;32m--> 462\u001b[1;33m     \u001b[0mparser\u001b[0m \u001b[1;33m=\u001b[0m \u001b[0mTextFileReader\u001b[0m\u001b[1;33m(\u001b[0m\u001b[0mfilepath_or_buffer\u001b[0m\u001b[1;33m,\u001b[0m \u001b[1;33m**\u001b[0m\u001b[0mkwds\u001b[0m\u001b[1;33m)\u001b[0m\u001b[1;33m\u001b[0m\u001b[1;33m\u001b[0m\u001b[0m\n\u001b[0m\u001b[0;32m    463\u001b[0m \u001b[1;33m\u001b[0m\u001b[0m\n\u001b[0;32m    464\u001b[0m     \u001b[1;32mif\u001b[0m \u001b[0mchunksize\u001b[0m \u001b[1;32mor\u001b[0m \u001b[0miterator\u001b[0m\u001b[1;33m:\u001b[0m\u001b[1;33m\u001b[0m\u001b[1;33m\u001b[0m\u001b[0m\n",
      "\u001b[1;32m~\\anaconda3\\lib\\site-packages\\pandas\\io\\parsers.py\u001b[0m in \u001b[0;36m__init__\u001b[1;34m(self, f, engine, **kwds)\u001b[0m\n\u001b[0;32m    817\u001b[0m             \u001b[0mself\u001b[0m\u001b[1;33m.\u001b[0m\u001b[0moptions\u001b[0m\u001b[1;33m[\u001b[0m\u001b[1;34m\"has_index_names\"\u001b[0m\u001b[1;33m]\u001b[0m \u001b[1;33m=\u001b[0m \u001b[0mkwds\u001b[0m\u001b[1;33m[\u001b[0m\u001b[1;34m\"has_index_names\"\u001b[0m\u001b[1;33m]\u001b[0m\u001b[1;33m\u001b[0m\u001b[1;33m\u001b[0m\u001b[0m\n\u001b[0;32m    818\u001b[0m \u001b[1;33m\u001b[0m\u001b[0m\n\u001b[1;32m--> 819\u001b[1;33m         \u001b[0mself\u001b[0m\u001b[1;33m.\u001b[0m\u001b[0m_engine\u001b[0m \u001b[1;33m=\u001b[0m \u001b[0mself\u001b[0m\u001b[1;33m.\u001b[0m\u001b[0m_make_engine\u001b[0m\u001b[1;33m(\u001b[0m\u001b[0mself\u001b[0m\u001b[1;33m.\u001b[0m\u001b[0mengine\u001b[0m\u001b[1;33m)\u001b[0m\u001b[1;33m\u001b[0m\u001b[1;33m\u001b[0m\u001b[0m\n\u001b[0m\u001b[0;32m    820\u001b[0m \u001b[1;33m\u001b[0m\u001b[0m\n\u001b[0;32m    821\u001b[0m     \u001b[1;32mdef\u001b[0m \u001b[0mclose\u001b[0m\u001b[1;33m(\u001b[0m\u001b[0mself\u001b[0m\u001b[1;33m)\u001b[0m\u001b[1;33m:\u001b[0m\u001b[1;33m\u001b[0m\u001b[1;33m\u001b[0m\u001b[0m\n",
      "\u001b[1;32m~\\anaconda3\\lib\\site-packages\\pandas\\io\\parsers.py\u001b[0m in \u001b[0;36m_make_engine\u001b[1;34m(self, engine)\u001b[0m\n\u001b[0;32m   1048\u001b[0m             )\n\u001b[0;32m   1049\u001b[0m         \u001b[1;31m# error: Too many arguments for \"ParserBase\"\u001b[0m\u001b[1;33m\u001b[0m\u001b[1;33m\u001b[0m\u001b[1;33m\u001b[0m\u001b[0m\n\u001b[1;32m-> 1050\u001b[1;33m         \u001b[1;32mreturn\u001b[0m \u001b[0mmapping\u001b[0m\u001b[1;33m[\u001b[0m\u001b[0mengine\u001b[0m\u001b[1;33m]\u001b[0m\u001b[1;33m(\u001b[0m\u001b[0mself\u001b[0m\u001b[1;33m.\u001b[0m\u001b[0mf\u001b[0m\u001b[1;33m,\u001b[0m \u001b[1;33m**\u001b[0m\u001b[0mself\u001b[0m\u001b[1;33m.\u001b[0m\u001b[0moptions\u001b[0m\u001b[1;33m)\u001b[0m  \u001b[1;31m# type: ignore[call-arg]\u001b[0m\u001b[1;33m\u001b[0m\u001b[1;33m\u001b[0m\u001b[0m\n\u001b[0m\u001b[0;32m   1051\u001b[0m \u001b[1;33m\u001b[0m\u001b[0m\n\u001b[0;32m   1052\u001b[0m     \u001b[1;32mdef\u001b[0m \u001b[0m_failover_to_python\u001b[0m\u001b[1;33m(\u001b[0m\u001b[0mself\u001b[0m\u001b[1;33m)\u001b[0m\u001b[1;33m:\u001b[0m\u001b[1;33m\u001b[0m\u001b[1;33m\u001b[0m\u001b[0m\n",
      "\u001b[1;32m~\\anaconda3\\lib\\site-packages\\pandas\\io\\parsers.py\u001b[0m in \u001b[0;36m__init__\u001b[1;34m(self, src, **kwds)\u001b[0m\n\u001b[0;32m   1865\u001b[0m \u001b[1;33m\u001b[0m\u001b[0m\n\u001b[0;32m   1866\u001b[0m         \u001b[1;31m# open handles\u001b[0m\u001b[1;33m\u001b[0m\u001b[1;33m\u001b[0m\u001b[1;33m\u001b[0m\u001b[0m\n\u001b[1;32m-> 1867\u001b[1;33m         \u001b[0mself\u001b[0m\u001b[1;33m.\u001b[0m\u001b[0m_open_handles\u001b[0m\u001b[1;33m(\u001b[0m\u001b[0msrc\u001b[0m\u001b[1;33m,\u001b[0m \u001b[0mkwds\u001b[0m\u001b[1;33m)\u001b[0m\u001b[1;33m\u001b[0m\u001b[1;33m\u001b[0m\u001b[0m\n\u001b[0m\u001b[0;32m   1868\u001b[0m         \u001b[1;32massert\u001b[0m \u001b[0mself\u001b[0m\u001b[1;33m.\u001b[0m\u001b[0mhandles\u001b[0m \u001b[1;32mis\u001b[0m \u001b[1;32mnot\u001b[0m \u001b[1;32mNone\u001b[0m\u001b[1;33m\u001b[0m\u001b[1;33m\u001b[0m\u001b[0m\n\u001b[0;32m   1869\u001b[0m         \u001b[1;32mfor\u001b[0m \u001b[0mkey\u001b[0m \u001b[1;32min\u001b[0m \u001b[1;33m(\u001b[0m\u001b[1;34m\"storage_options\"\u001b[0m\u001b[1;33m,\u001b[0m \u001b[1;34m\"encoding\"\u001b[0m\u001b[1;33m,\u001b[0m \u001b[1;34m\"memory_map\"\u001b[0m\u001b[1;33m,\u001b[0m \u001b[1;34m\"compression\"\u001b[0m\u001b[1;33m)\u001b[0m\u001b[1;33m:\u001b[0m\u001b[1;33m\u001b[0m\u001b[1;33m\u001b[0m\u001b[0m\n",
      "\u001b[1;32m~\\anaconda3\\lib\\site-packages\\pandas\\io\\parsers.py\u001b[0m in \u001b[0;36m_open_handles\u001b[1;34m(self, src, kwds)\u001b[0m\n\u001b[0;32m   1360\u001b[0m         \u001b[0mLet\u001b[0m \u001b[0mthe\u001b[0m \u001b[0mreaders\u001b[0m \u001b[0mopen\u001b[0m \u001b[0mIOHanldes\u001b[0m \u001b[0mafter\u001b[0m \u001b[0mthey\u001b[0m \u001b[0mare\u001b[0m \u001b[0mdone\u001b[0m \u001b[1;32mwith\u001b[0m \u001b[0mtheir\u001b[0m \u001b[0mpotential\u001b[0m \u001b[0mraises\u001b[0m\u001b[1;33m.\u001b[0m\u001b[1;33m\u001b[0m\u001b[1;33m\u001b[0m\u001b[0m\n\u001b[0;32m   1361\u001b[0m         \"\"\"\n\u001b[1;32m-> 1362\u001b[1;33m         self.handles = get_handle(\n\u001b[0m\u001b[0;32m   1363\u001b[0m             \u001b[0msrc\u001b[0m\u001b[1;33m,\u001b[0m\u001b[1;33m\u001b[0m\u001b[1;33m\u001b[0m\u001b[0m\n\u001b[0;32m   1364\u001b[0m             \u001b[1;34m\"r\"\u001b[0m\u001b[1;33m,\u001b[0m\u001b[1;33m\u001b[0m\u001b[1;33m\u001b[0m\u001b[0m\n",
      "\u001b[1;32m~\\anaconda3\\lib\\site-packages\\pandas\\io\\common.py\u001b[0m in \u001b[0;36mget_handle\u001b[1;34m(path_or_buf, mode, encoding, compression, memory_map, is_text, errors, storage_options)\u001b[0m\n\u001b[0;32m    640\u001b[0m                 \u001b[0merrors\u001b[0m \u001b[1;33m=\u001b[0m \u001b[1;34m\"replace\"\u001b[0m\u001b[1;33m\u001b[0m\u001b[1;33m\u001b[0m\u001b[0m\n\u001b[0;32m    641\u001b[0m             \u001b[1;31m# Encoding\u001b[0m\u001b[1;33m\u001b[0m\u001b[1;33m\u001b[0m\u001b[1;33m\u001b[0m\u001b[0m\n\u001b[1;32m--> 642\u001b[1;33m             handle = open(\n\u001b[0m\u001b[0;32m    643\u001b[0m                 \u001b[0mhandle\u001b[0m\u001b[1;33m,\u001b[0m\u001b[1;33m\u001b[0m\u001b[1;33m\u001b[0m\u001b[0m\n\u001b[0;32m    644\u001b[0m                 \u001b[0mioargs\u001b[0m\u001b[1;33m.\u001b[0m\u001b[0mmode\u001b[0m\u001b[1;33m,\u001b[0m\u001b[1;33m\u001b[0m\u001b[1;33m\u001b[0m\u001b[0m\n",
      "\u001b[1;31mFileNotFoundError\u001b[0m: [Errno 2] No such file or directory: 'chicago_2017.csv'"
     ]
    }
   ],
   "source": [
    "#read in the data\n",
    "\n",
    "chi_data = pd.read_csv(\"chicago_2017.csv\")\n",
    "chi_weather = pd.read_csv(\"weather_hourly_chicago.csv\")"
   ]
  },
  {
   "cell_type": "markdown",
   "metadata": {},
   "source": [
    "## General information about the raw data"
   ]
  },
  {
   "cell_type": "markdown",
   "metadata": {},
   "source": [
    "### chicago_2017 data set"
   ]
  },
  {
   "cell_type": "code",
   "execution_count": null,
   "metadata": {},
   "outputs": [],
   "source": [
    "#chi_data.info()"
   ]
  },
  {
   "cell_type": "code",
   "execution_count": null,
   "metadata": {},
   "outputs": [],
   "source": [
    "#chi_data.describe()"
   ]
  },
  {
   "cell_type": "code",
   "execution_count": null,
   "metadata": {},
   "outputs": [],
   "source": [
    "#chi_data.head()"
   ]
  },
  {
   "cell_type": "markdown",
   "metadata": {},
   "source": [
    "### weather_hourly_chicago data set"
   ]
  },
  {
   "cell_type": "code",
   "execution_count": null,
   "metadata": {},
   "outputs": [],
   "source": [
    "#chi_weather.info()"
   ]
  },
  {
   "cell_type": "code",
   "execution_count": null,
   "metadata": {},
   "outputs": [],
   "source": [
    "#chi_weather.describe()"
   ]
  },
  {
   "cell_type": "code",
   "execution_count": null,
   "metadata": {},
   "outputs": [],
   "source": [
    "#chi_data.head()"
   ]
  },
  {
   "cell_type": "markdown",
   "metadata": {},
   "source": [
    "# Data collection and preparation"
   ]
  },
  {
   "cell_type": "markdown",
   "metadata": {},
   "source": [
    "---> JONA HIER EINFÜGEN"
   ]
  },
  {
   "cell_type": "code",
   "execution_count": 6,
   "metadata": {},
   "outputs": [],
   "source": [
    "chi_trips_Q1 = pd.read_csv('Divvy_Trips_2017_Q1.csv')\n",
    "chi_trips_Q2 = pd.read_csv('Divvy_Trips_2017_Q2.csv')\n",
    "chi_trips_Q3 = pd.read_csv('Divvy_Trips_2017_Q3.csv')\n",
    "chi_trips_Q4 = pd.read_csv('Divvy_Trips_2017_Q4.csv')\n",
    "\n",
    "#Trip Data"
   ]
  },
  {
   "cell_type": "code",
   "execution_count": 7,
   "metadata": {},
   "outputs": [
    {
     "name": "stdout",
     "output_type": "stream",
     "text": [
      "<class 'pandas.core.frame.DataFrame'>\n",
      "RangeIndex: 431691 entries, 0 to 431690\n",
      "Data columns (total 12 columns):\n",
      " #   Column             Non-Null Count   Dtype  \n",
      "---  ------             --------------   -----  \n",
      " 0   trip_id            431691 non-null  int64  \n",
      " 1   start_time         431691 non-null  object \n",
      " 2   end_time           431691 non-null  object \n",
      " 3   bikeid             431691 non-null  int64  \n",
      " 4   tripduration       431691 non-null  int64  \n",
      " 5   from_station_id    431691 non-null  int64  \n",
      " 6   from_station_name  431691 non-null  object \n",
      " 7   to_station_id      431691 non-null  int64  \n",
      " 8   to_station_name    431691 non-null  object \n",
      " 9   usertype           431691 non-null  object \n",
      " 10  gender             390312 non-null  object \n",
      " 11  birthyear          390394 non-null  float64\n",
      "dtypes: float64(1), int64(5), object(6)\n",
      "memory usage: 39.5+ MB\n"
     ]
    }
   ],
   "source": [
    "chi_trips_Q1.info()"
   ]
  },
  {
   "cell_type": "code",
   "execution_count": 8,
   "metadata": {},
   "outputs": [
    {
     "data": {
      "text/html": [
       "<div>\n",
       "<style scoped>\n",
       "    .dataframe tbody tr th:only-of-type {\n",
       "        vertical-align: middle;\n",
       "    }\n",
       "\n",
       "    .dataframe tbody tr th {\n",
       "        vertical-align: top;\n",
       "    }\n",
       "\n",
       "    .dataframe thead th {\n",
       "        text-align: right;\n",
       "    }\n",
       "</style>\n",
       "<table border=\"1\" class=\"dataframe\">\n",
       "  <thead>\n",
       "    <tr style=\"text-align: right;\">\n",
       "      <th></th>\n",
       "      <th>trip_id</th>\n",
       "      <th>start_time</th>\n",
       "      <th>end_time</th>\n",
       "      <th>bikeid</th>\n",
       "      <th>tripduration</th>\n",
       "      <th>from_station_id</th>\n",
       "      <th>from_station_name</th>\n",
       "      <th>to_station_id</th>\n",
       "      <th>to_station_name</th>\n",
       "      <th>usertype</th>\n",
       "      <th>gender</th>\n",
       "      <th>birthyear</th>\n",
       "    </tr>\n",
       "  </thead>\n",
       "  <tbody>\n",
       "    <tr>\n",
       "      <th>0</th>\n",
       "      <td>13518905</td>\n",
       "      <td>3/31/2017 23:59:07</td>\n",
       "      <td>4/1/2017 00:13:24</td>\n",
       "      <td>5292</td>\n",
       "      <td>857</td>\n",
       "      <td>66</td>\n",
       "      <td>Clinton St &amp; Lake St</td>\n",
       "      <td>171</td>\n",
       "      <td>May St &amp; Cullerton St</td>\n",
       "      <td>Subscriber</td>\n",
       "      <td>Male</td>\n",
       "      <td>1989.0</td>\n",
       "    </tr>\n",
       "    <tr>\n",
       "      <th>1</th>\n",
       "      <td>13518904</td>\n",
       "      <td>3/31/2017 23:56:25</td>\n",
       "      <td>4/1/2017 00:00:21</td>\n",
       "      <td>4408</td>\n",
       "      <td>236</td>\n",
       "      <td>199</td>\n",
       "      <td>Wabash Ave &amp; Grand Ave</td>\n",
       "      <td>26</td>\n",
       "      <td>McClurg Ct &amp; Illinois St</td>\n",
       "      <td>Subscriber</td>\n",
       "      <td>Male</td>\n",
       "      <td>1990.0</td>\n",
       "    </tr>\n",
       "    <tr>\n",
       "      <th>2</th>\n",
       "      <td>13518903</td>\n",
       "      <td>3/31/2017 23:55:33</td>\n",
       "      <td>4/1/2017 00:01:21</td>\n",
       "      <td>696</td>\n",
       "      <td>348</td>\n",
       "      <td>520</td>\n",
       "      <td>Greenview Ave &amp; Jarvis Ave</td>\n",
       "      <td>432</td>\n",
       "      <td>Clark St &amp; Lunt Ave</td>\n",
       "      <td>Subscriber</td>\n",
       "      <td>Female</td>\n",
       "      <td>1979.0</td>\n",
       "    </tr>\n",
       "    <tr>\n",
       "      <th>3</th>\n",
       "      <td>13518902</td>\n",
       "      <td>3/31/2017 23:54:46</td>\n",
       "      <td>3/31/2017 23:59:34</td>\n",
       "      <td>4915</td>\n",
       "      <td>288</td>\n",
       "      <td>110</td>\n",
       "      <td>Dearborn St &amp; Erie St</td>\n",
       "      <td>142</td>\n",
       "      <td>McClurg Ct &amp; Erie St</td>\n",
       "      <td>Subscriber</td>\n",
       "      <td>Male</td>\n",
       "      <td>1985.0</td>\n",
       "    </tr>\n",
       "    <tr>\n",
       "      <th>4</th>\n",
       "      <td>13518901</td>\n",
       "      <td>3/31/2017 23:53:33</td>\n",
       "      <td>4/1/2017 00:00:28</td>\n",
       "      <td>4247</td>\n",
       "      <td>415</td>\n",
       "      <td>327</td>\n",
       "      <td>Sheffield Ave &amp; Webster Ave</td>\n",
       "      <td>331</td>\n",
       "      <td>Halsted St &amp; Blackhawk St (*)</td>\n",
       "      <td>Subscriber</td>\n",
       "      <td>Female</td>\n",
       "      <td>1989.0</td>\n",
       "    </tr>\n",
       "  </tbody>\n",
       "</table>\n",
       "</div>"
      ],
      "text/plain": [
       "    trip_id          start_time            end_time  bikeid  tripduration  \\\n",
       "0  13518905  3/31/2017 23:59:07   4/1/2017 00:13:24    5292           857   \n",
       "1  13518904  3/31/2017 23:56:25   4/1/2017 00:00:21    4408           236   \n",
       "2  13518903  3/31/2017 23:55:33   4/1/2017 00:01:21     696           348   \n",
       "3  13518902  3/31/2017 23:54:46  3/31/2017 23:59:34    4915           288   \n",
       "4  13518901  3/31/2017 23:53:33   4/1/2017 00:00:28    4247           415   \n",
       "\n",
       "   from_station_id            from_station_name  to_station_id  \\\n",
       "0               66         Clinton St & Lake St            171   \n",
       "1              199       Wabash Ave & Grand Ave             26   \n",
       "2              520   Greenview Ave & Jarvis Ave            432   \n",
       "3              110        Dearborn St & Erie St            142   \n",
       "4              327  Sheffield Ave & Webster Ave            331   \n",
       "\n",
       "                 to_station_name    usertype  gender  birthyear  \n",
       "0          May St & Cullerton St  Subscriber    Male     1989.0  \n",
       "1       McClurg Ct & Illinois St  Subscriber    Male     1990.0  \n",
       "2            Clark St & Lunt Ave  Subscriber  Female     1979.0  \n",
       "3           McClurg Ct & Erie St  Subscriber    Male     1985.0  \n",
       "4  Halsted St & Blackhawk St (*)  Subscriber  Female     1989.0  "
      ]
     },
     "execution_count": 8,
     "metadata": {},
     "output_type": "execute_result"
    }
   ],
   "source": [
    "chi_trips_Q1.head()"
   ]
  },
  {
   "cell_type": "code",
   "execution_count": 9,
   "metadata": {},
   "outputs": [
    {
     "data": {
      "text/html": [
       "<div>\n",
       "<style scoped>\n",
       "    .dataframe tbody tr th:only-of-type {\n",
       "        vertical-align: middle;\n",
       "    }\n",
       "\n",
       "    .dataframe tbody tr th {\n",
       "        vertical-align: top;\n",
       "    }\n",
       "\n",
       "    .dataframe thead th {\n",
       "        text-align: right;\n",
       "    }\n",
       "</style>\n",
       "<table border=\"1\" class=\"dataframe\">\n",
       "  <thead>\n",
       "    <tr style=\"text-align: right;\">\n",
       "      <th></th>\n",
       "      <th>trip_id</th>\n",
       "      <th>start_time</th>\n",
       "      <th>end_time</th>\n",
       "      <th>bikeid</th>\n",
       "      <th>tripduration</th>\n",
       "      <th>from_station_id</th>\n",
       "      <th>from_station_name</th>\n",
       "      <th>to_station_id</th>\n",
       "      <th>to_station_name</th>\n",
       "      <th>usertype</th>\n",
       "      <th>gender</th>\n",
       "      <th>birthyear</th>\n",
       "    </tr>\n",
       "  </thead>\n",
       "  <tbody>\n",
       "    <tr>\n",
       "      <th>669234</th>\n",
       "      <td>16734070</td>\n",
       "      <td>10/1/2017 0:01</td>\n",
       "      <td>10/1/2017 0:15</td>\n",
       "      <td>1099</td>\n",
       "      <td>837</td>\n",
       "      <td>289</td>\n",
       "      <td>Wells St &amp; Concord Ln</td>\n",
       "      <td>226</td>\n",
       "      <td>Racine Ave &amp; Belmont Ave</td>\n",
       "      <td>Subscriber</td>\n",
       "      <td>Male</td>\n",
       "      <td>1991.0</td>\n",
       "    </tr>\n",
       "    <tr>\n",
       "      <th>669235</th>\n",
       "      <td>16734069</td>\n",
       "      <td>10/1/2017 0:00</td>\n",
       "      <td>10/1/2017 0:07</td>\n",
       "      <td>3688</td>\n",
       "      <td>366</td>\n",
       "      <td>45</td>\n",
       "      <td>Michigan Ave &amp; Congress Pkwy</td>\n",
       "      <td>52</td>\n",
       "      <td>Michigan Ave &amp; Lake St</td>\n",
       "      <td>Customer</td>\n",
       "      <td>NaN</td>\n",
       "      <td>NaN</td>\n",
       "    </tr>\n",
       "    <tr>\n",
       "      <th>669236</th>\n",
       "      <td>16734068</td>\n",
       "      <td>10/1/2017 0:00</td>\n",
       "      <td>10/1/2017 0:05</td>\n",
       "      <td>1416</td>\n",
       "      <td>264</td>\n",
       "      <td>520</td>\n",
       "      <td>Greenview Ave &amp; Jarvis Ave</td>\n",
       "      <td>447</td>\n",
       "      <td>Glenwood Ave &amp; Morse Ave</td>\n",
       "      <td>Customer</td>\n",
       "      <td>NaN</td>\n",
       "      <td>NaN</td>\n",
       "    </tr>\n",
       "    <tr>\n",
       "      <th>669237</th>\n",
       "      <td>16734067</td>\n",
       "      <td>10/1/2017 0:00</td>\n",
       "      <td>10/1/2017 0:06</td>\n",
       "      <td>5396</td>\n",
       "      <td>361</td>\n",
       "      <td>288</td>\n",
       "      <td>Larrabee St &amp; Armitage Ave</td>\n",
       "      <td>289</td>\n",
       "      <td>Wells St &amp; Concord Ln</td>\n",
       "      <td>Subscriber</td>\n",
       "      <td>Female</td>\n",
       "      <td>1984.0</td>\n",
       "    </tr>\n",
       "    <tr>\n",
       "      <th>669238</th>\n",
       "      <td>16734066</td>\n",
       "      <td>10/1/2017 0:00</td>\n",
       "      <td>10/1/2017 0:12</td>\n",
       "      <td>5802</td>\n",
       "      <td>741</td>\n",
       "      <td>135</td>\n",
       "      <td>Halsted St &amp; 21st St</td>\n",
       "      <td>129</td>\n",
       "      <td>Blue Island Ave &amp; 18th St</td>\n",
       "      <td>Subscriber</td>\n",
       "      <td>Female</td>\n",
       "      <td>1994.0</td>\n",
       "    </tr>\n",
       "  </tbody>\n",
       "</table>\n",
       "</div>"
      ],
      "text/plain": [
       "         trip_id      start_time        end_time  bikeid  tripduration  \\\n",
       "669234  16734070  10/1/2017 0:01  10/1/2017 0:15    1099           837   \n",
       "669235  16734069  10/1/2017 0:00  10/1/2017 0:07    3688           366   \n",
       "669236  16734068  10/1/2017 0:00  10/1/2017 0:05    1416           264   \n",
       "669237  16734067  10/1/2017 0:00  10/1/2017 0:06    5396           361   \n",
       "669238  16734066  10/1/2017 0:00  10/1/2017 0:12    5802           741   \n",
       "\n",
       "        from_station_id             from_station_name  to_station_id  \\\n",
       "669234              289         Wells St & Concord Ln            226   \n",
       "669235               45  Michigan Ave & Congress Pkwy             52   \n",
       "669236              520    Greenview Ave & Jarvis Ave            447   \n",
       "669237              288    Larrabee St & Armitage Ave            289   \n",
       "669238              135          Halsted St & 21st St            129   \n",
       "\n",
       "                  to_station_name    usertype  gender  birthyear  \n",
       "669234   Racine Ave & Belmont Ave  Subscriber    Male     1991.0  \n",
       "669235     Michigan Ave & Lake St    Customer     NaN        NaN  \n",
       "669236   Glenwood Ave & Morse Ave    Customer     NaN        NaN  \n",
       "669237      Wells St & Concord Ln  Subscriber  Female     1984.0  \n",
       "669238  Blue Island Ave & 18th St  Subscriber  Female     1994.0  "
      ]
     },
     "execution_count": 9,
     "metadata": {},
     "output_type": "execute_result"
    }
   ],
   "source": [
    "chi_trips_Q4.tail() "
   ]
  },
  {
   "cell_type": "code",
   "execution_count": 10,
   "metadata": {},
   "outputs": [],
   "source": [
    "chi_trips_Q1['start_time'] = pd.to_datetime(chi_trips_Q1.start_time)\n",
    "chi_trips_Q2['start_time'] = pd.to_datetime(chi_trips_Q2.start_time)\n",
    "chi_trips_Q3['start_time'] = pd.to_datetime(chi_trips_Q3.start_time)\n",
    "chi_trips_Q4['start_time'] = pd.to_datetime(chi_trips_Q4.start_time)\n"
   ]
  },
  {
   "cell_type": "code",
   "execution_count": 11,
   "metadata": {},
   "outputs": [],
   "source": [
    "chi_trips_Q1['end_time'] =  pd.to_datetime(chi_trips_Q1.end_time)\n",
    "chi_trips_Q2['end_time'] =  pd.to_datetime(chi_trips_Q2.end_time)\n",
    "chi_trips_Q3['end_time'] =  pd.to_datetime(chi_trips_Q3.end_time)\n",
    "chi_trips_Q4['end_time'] =  pd.to_datetime(chi_trips_Q4.end_time)"
   ]
  },
  {
   "cell_type": "code",
   "execution_count": 12,
   "metadata": {},
   "outputs": [],
   "source": [
    "chi_trips_Q1.sort_values(by= 'start_time', inplace = True)\n",
    "chi_trips_Q2.sort_values(by= 'start_time', inplace = True)\n",
    "chi_trips_Q3.sort_values(by= 'start_time', inplace = True)\n",
    "chi_trips_Q4.sort_values(by= 'start_time', inplace = True)"
   ]
  },
  {
   "cell_type": "code",
   "execution_count": 14,
   "metadata": {},
   "outputs": [],
   "source": [
    "chi_trips_all= pd.concat([chi_trips_Q1, chi_trips_Q2, chi_trips_Q3, chi_trips_Q4], ignore_index = True) \n",
    "#joining Trip Data"
   ]
  },
  {
   "cell_type": "code",
   "execution_count": 16,
   "metadata": {},
   "outputs": [
    {
     "data": {
      "text/html": [
       "<div>\n",
       "<style scoped>\n",
       "    .dataframe tbody tr th:only-of-type {\n",
       "        vertical-align: middle;\n",
       "    }\n",
       "\n",
       "    .dataframe tbody tr th {\n",
       "        vertical-align: top;\n",
       "    }\n",
       "\n",
       "    .dataframe thead th {\n",
       "        text-align: right;\n",
       "    }\n",
       "</style>\n",
       "<table border=\"1\" class=\"dataframe\">\n",
       "  <thead>\n",
       "    <tr style=\"text-align: right;\">\n",
       "      <th></th>\n",
       "      <th>trip_id</th>\n",
       "      <th>start_time</th>\n",
       "      <th>end_time</th>\n",
       "      <th>bikeid</th>\n",
       "      <th>tripduration</th>\n",
       "      <th>from_station_id</th>\n",
       "      <th>from_station_name</th>\n",
       "      <th>to_station_id</th>\n",
       "      <th>to_station_name</th>\n",
       "      <th>usertype</th>\n",
       "      <th>gender</th>\n",
       "      <th>birthyear</th>\n",
       "    </tr>\n",
       "  </thead>\n",
       "  <tbody>\n",
       "    <tr>\n",
       "      <th>3829005</th>\n",
       "      <td>17536693</td>\n",
       "      <td>2017-12-31 23:17:00</td>\n",
       "      <td>2017-12-31 23:27:00</td>\n",
       "      <td>2471</td>\n",
       "      <td>615</td>\n",
       "      <td>49</td>\n",
       "      <td>Dearborn St &amp; Monroe St</td>\n",
       "      <td>26</td>\n",
       "      <td>McClurg Ct &amp; Illinois St</td>\n",
       "      <td>Subscriber</td>\n",
       "      <td>Male</td>\n",
       "      <td>1981.0</td>\n",
       "    </tr>\n",
       "    <tr>\n",
       "      <th>3829006</th>\n",
       "      <td>17536694</td>\n",
       "      <td>2017-12-31 23:21:00</td>\n",
       "      <td>2017-12-31 23:23:00</td>\n",
       "      <td>2562</td>\n",
       "      <td>141</td>\n",
       "      <td>226</td>\n",
       "      <td>Racine Ave &amp; Belmont Ave</td>\n",
       "      <td>117</td>\n",
       "      <td>Wilton Ave &amp; Belmont Ave</td>\n",
       "      <td>Subscriber</td>\n",
       "      <td>Male</td>\n",
       "      <td>1987.0</td>\n",
       "    </tr>\n",
       "    <tr>\n",
       "      <th>3829007</th>\n",
       "      <td>17536695</td>\n",
       "      <td>2017-12-31 23:34:00</td>\n",
       "      <td>2017-12-31 23:39:00</td>\n",
       "      <td>6351</td>\n",
       "      <td>301</td>\n",
       "      <td>337</td>\n",
       "      <td>Clark St &amp; Chicago Ave</td>\n",
       "      <td>182</td>\n",
       "      <td>Wells St &amp; Elm St</td>\n",
       "      <td>Subscriber</td>\n",
       "      <td>Male</td>\n",
       "      <td>1990.0</td>\n",
       "    </tr>\n",
       "    <tr>\n",
       "      <th>3829008</th>\n",
       "      <td>17536696</td>\n",
       "      <td>2017-12-31 23:41:00</td>\n",
       "      <td>2017-12-31 23:51:00</td>\n",
       "      <td>5840</td>\n",
       "      <td>589</td>\n",
       "      <td>93</td>\n",
       "      <td>Sheffield Ave &amp; Willow St</td>\n",
       "      <td>343</td>\n",
       "      <td>Racine Ave &amp; Wrightwood Ave</td>\n",
       "      <td>Subscriber</td>\n",
       "      <td>Male</td>\n",
       "      <td>1988.0</td>\n",
       "    </tr>\n",
       "    <tr>\n",
       "      <th>3829009</th>\n",
       "      <td>17536697</td>\n",
       "      <td>2017-12-31 23:42:00</td>\n",
       "      <td>2017-12-31 23:47:00</td>\n",
       "      <td>5353</td>\n",
       "      <td>272</td>\n",
       "      <td>240</td>\n",
       "      <td>Sheridan Rd &amp; Irving Park Rd</td>\n",
       "      <td>245</td>\n",
       "      <td>Clarendon Ave &amp; Junior Ter</td>\n",
       "      <td>Subscriber</td>\n",
       "      <td>Male</td>\n",
       "      <td>1977.0</td>\n",
       "    </tr>\n",
       "    <tr>\n",
       "      <th>3829010</th>\n",
       "      <td>17536698</td>\n",
       "      <td>2017-12-31 23:48:00</td>\n",
       "      <td>2017-12-31 23:53:00</td>\n",
       "      <td>5667</td>\n",
       "      <td>315</td>\n",
       "      <td>340</td>\n",
       "      <td>Clark St &amp; Wrightwood Ave</td>\n",
       "      <td>143</td>\n",
       "      <td>Sedgwick St &amp; Webster Ave</td>\n",
       "      <td>Subscriber</td>\n",
       "      <td>Male</td>\n",
       "      <td>1963.0</td>\n",
       "    </tr>\n",
       "    <tr>\n",
       "      <th>3829011</th>\n",
       "      <td>17536699</td>\n",
       "      <td>2017-12-31 23:54:00</td>\n",
       "      <td>2018-01-01 00:18:00</td>\n",
       "      <td>4906</td>\n",
       "      <td>1441</td>\n",
       "      <td>145</td>\n",
       "      <td>Mies van der Rohe Way &amp; Chestnut St</td>\n",
       "      <td>145</td>\n",
       "      <td>Mies van der Rohe Way &amp; Chestnut St</td>\n",
       "      <td>Customer</td>\n",
       "      <td>NaN</td>\n",
       "      <td>NaN</td>\n",
       "    </tr>\n",
       "    <tr>\n",
       "      <th>3829012</th>\n",
       "      <td>17536700</td>\n",
       "      <td>2017-12-31 23:54:00</td>\n",
       "      <td>2018-01-01 00:18:00</td>\n",
       "      <td>5975</td>\n",
       "      <td>1402</td>\n",
       "      <td>145</td>\n",
       "      <td>Mies van der Rohe Way &amp; Chestnut St</td>\n",
       "      <td>145</td>\n",
       "      <td>Mies van der Rohe Way &amp; Chestnut St</td>\n",
       "      <td>Customer</td>\n",
       "      <td>NaN</td>\n",
       "      <td>NaN</td>\n",
       "    </tr>\n",
       "    <tr>\n",
       "      <th>3829013</th>\n",
       "      <td>17536701</td>\n",
       "      <td>2017-12-31 23:58:00</td>\n",
       "      <td>2018-01-01 00:03:00</td>\n",
       "      <td>3304</td>\n",
       "      <td>284</td>\n",
       "      <td>159</td>\n",
       "      <td>Claremont Ave &amp; Hirsch St</td>\n",
       "      <td>69</td>\n",
       "      <td>Damen Ave &amp; Pierce Ave</td>\n",
       "      <td>Subscriber</td>\n",
       "      <td>Male</td>\n",
       "      <td>1988.0</td>\n",
       "    </tr>\n",
       "  </tbody>\n",
       "</table>\n",
       "</div>"
      ],
      "text/plain": [
       "          trip_id          start_time            end_time  bikeid  \\\n",
       "3829005  17536693 2017-12-31 23:17:00 2017-12-31 23:27:00    2471   \n",
       "3829006  17536694 2017-12-31 23:21:00 2017-12-31 23:23:00    2562   \n",
       "3829007  17536695 2017-12-31 23:34:00 2017-12-31 23:39:00    6351   \n",
       "3829008  17536696 2017-12-31 23:41:00 2017-12-31 23:51:00    5840   \n",
       "3829009  17536697 2017-12-31 23:42:00 2017-12-31 23:47:00    5353   \n",
       "3829010  17536698 2017-12-31 23:48:00 2017-12-31 23:53:00    5667   \n",
       "3829011  17536699 2017-12-31 23:54:00 2018-01-01 00:18:00    4906   \n",
       "3829012  17536700 2017-12-31 23:54:00 2018-01-01 00:18:00    5975   \n",
       "3829013  17536701 2017-12-31 23:58:00 2018-01-01 00:03:00    3304   \n",
       "\n",
       "         tripduration  from_station_id                    from_station_name  \\\n",
       "3829005           615               49              Dearborn St & Monroe St   \n",
       "3829006           141              226             Racine Ave & Belmont Ave   \n",
       "3829007           301              337               Clark St & Chicago Ave   \n",
       "3829008           589               93            Sheffield Ave & Willow St   \n",
       "3829009           272              240         Sheridan Rd & Irving Park Rd   \n",
       "3829010           315              340            Clark St & Wrightwood Ave   \n",
       "3829011          1441              145  Mies van der Rohe Way & Chestnut St   \n",
       "3829012          1402              145  Mies van der Rohe Way & Chestnut St   \n",
       "3829013           284              159            Claremont Ave & Hirsch St   \n",
       "\n",
       "         to_station_id                      to_station_name    usertype  \\\n",
       "3829005             26             McClurg Ct & Illinois St  Subscriber   \n",
       "3829006            117             Wilton Ave & Belmont Ave  Subscriber   \n",
       "3829007            182                    Wells St & Elm St  Subscriber   \n",
       "3829008            343          Racine Ave & Wrightwood Ave  Subscriber   \n",
       "3829009            245           Clarendon Ave & Junior Ter  Subscriber   \n",
       "3829010            143            Sedgwick St & Webster Ave  Subscriber   \n",
       "3829011            145  Mies van der Rohe Way & Chestnut St    Customer   \n",
       "3829012            145  Mies van der Rohe Way & Chestnut St    Customer   \n",
       "3829013             69               Damen Ave & Pierce Ave  Subscriber   \n",
       "\n",
       "        gender  birthyear  \n",
       "3829005   Male     1981.0  \n",
       "3829006   Male     1987.0  \n",
       "3829007   Male     1990.0  \n",
       "3829008   Male     1988.0  \n",
       "3829009   Male     1977.0  \n",
       "3829010   Male     1963.0  \n",
       "3829011    NaN        NaN  \n",
       "3829012    NaN        NaN  \n",
       "3829013   Male     1988.0  "
      ]
     },
     "execution_count": 16,
     "metadata": {},
     "output_type": "execute_result"
    }
   ],
   "source": [
    "chi_trips_all.tail(9)"
   ]
  },
  {
   "cell_type": "code",
   "execution_count": 17,
   "metadata": {},
   "outputs": [
    {
     "data": {
      "text/plain": [
       "trip_id              3829003\n",
       "start_time           2823388\n",
       "end_time             2736001\n",
       "bikeid                  6243\n",
       "tripduration           16553\n",
       "from_station_id          585\n",
       "from_station_name        593\n",
       "to_station_id            585\n",
       "to_station_name          593\n",
       "usertype                   3\n",
       "gender                     2\n",
       "birthyear                 87\n",
       "dtype: int64"
      ]
     },
     "execution_count": 17,
     "metadata": {},
     "output_type": "execute_result"
    }
   ],
   "source": [
    "chi_trips_all.nunique()\n",
    "#comparing Trip-IDs with number of unique Trips"
   ]
  },
  {
   "cell_type": "code",
   "execution_count": 18,
   "metadata": {},
   "outputs": [
    {
     "data": {
      "text/plain": [
       "13763843    2\n",
       "13763403    2\n",
       "13766552    2\n",
       "13766560    2\n",
       "13859842    2\n",
       "           ..\n",
       "13282310    1\n",
       "17474567    1\n",
       "13294600    1\n",
       "17486857    1\n",
       "16781310    1\n",
       "Name: trip_id, Length: 3829003, dtype: int64"
      ]
     },
     "execution_count": 18,
     "metadata": {},
     "output_type": "execute_result"
    }
   ],
   "source": [
    "x = chi_trips_all.trip_id.value_counts()\n",
    "x"
   ]
  },
  {
   "cell_type": "code",
   "execution_count": 20,
   "metadata": {},
   "outputs": [],
   "source": [
    "chi_trips_test = chi_trips_all[chi_trips_all.trip_id.isin(x.index[x.gt(1)])]"
   ]
  },
  {
   "cell_type": "code",
   "execution_count": 21,
   "metadata": {},
   "outputs": [
    {
     "data": {
      "text/html": [
       "<div>\n",
       "<style scoped>\n",
       "    .dataframe tbody tr th:only-of-type {\n",
       "        vertical-align: middle;\n",
       "    }\n",
       "\n",
       "    .dataframe tbody tr th {\n",
       "        vertical-align: top;\n",
       "    }\n",
       "\n",
       "    .dataframe thead th {\n",
       "        text-align: right;\n",
       "    }\n",
       "</style>\n",
       "<table border=\"1\" class=\"dataframe\">\n",
       "  <thead>\n",
       "    <tr style=\"text-align: right;\">\n",
       "      <th></th>\n",
       "      <th>trip_id</th>\n",
       "      <th>start_time</th>\n",
       "      <th>end_time</th>\n",
       "      <th>bikeid</th>\n",
       "      <th>tripduration</th>\n",
       "      <th>from_station_id</th>\n",
       "      <th>from_station_name</th>\n",
       "      <th>to_station_id</th>\n",
       "      <th>to_station_name</th>\n",
       "      <th>usertype</th>\n",
       "      <th>gender</th>\n",
       "      <th>birthyear</th>\n",
       "    </tr>\n",
       "  </thead>\n",
       "  <tbody>\n",
       "    <tr>\n",
       "      <th>634989</th>\n",
       "      <td>13762609</td>\n",
       "      <td>2017-04-23 13:56:41</td>\n",
       "      <td>2017-04-23 14:28:04</td>\n",
       "      <td>3721</td>\n",
       "      <td>1883</td>\n",
       "      <td>267</td>\n",
       "      <td>Lake Park Ave &amp; 47th St</td>\n",
       "      <td>4</td>\n",
       "      <td>Burnham Harbor</td>\n",
       "      <td>Customer</td>\n",
       "      <td>NaN</td>\n",
       "      <td>NaN</td>\n",
       "    </tr>\n",
       "    <tr>\n",
       "      <th>634990</th>\n",
       "      <td>13762609</td>\n",
       "      <td>2017-04-23 13:56:41</td>\n",
       "      <td>2017-04-23 14:28:04</td>\n",
       "      <td>3721</td>\n",
       "      <td>1883</td>\n",
       "      <td>267</td>\n",
       "      <td>Lake Park Ave &amp; 47th St</td>\n",
       "      <td>4</td>\n",
       "      <td>Burnham Harbor</td>\n",
       "      <td>Customer</td>\n",
       "      <td>NaN</td>\n",
       "      <td>NaN</td>\n",
       "    </tr>\n",
       "    <tr>\n",
       "      <th>635000</th>\n",
       "      <td>13762620</td>\n",
       "      <td>2017-04-23 13:57:00</td>\n",
       "      <td>2017-04-23 14:27:30</td>\n",
       "      <td>4435</td>\n",
       "      <td>1830</td>\n",
       "      <td>267</td>\n",
       "      <td>Lake Park Ave &amp; 47th St</td>\n",
       "      <td>4</td>\n",
       "      <td>Burnham Harbor</td>\n",
       "      <td>Customer</td>\n",
       "      <td>NaN</td>\n",
       "      <td>NaN</td>\n",
       "    </tr>\n",
       "    <tr>\n",
       "      <th>635001</th>\n",
       "      <td>13762620</td>\n",
       "      <td>2017-04-23 13:57:00</td>\n",
       "      <td>2017-04-23 14:27:30</td>\n",
       "      <td>4435</td>\n",
       "      <td>1830</td>\n",
       "      <td>267</td>\n",
       "      <td>Lake Park Ave &amp; 47th St</td>\n",
       "      <td>4</td>\n",
       "      <td>Burnham Harbor</td>\n",
       "      <td>Customer</td>\n",
       "      <td>NaN</td>\n",
       "      <td>NaN</td>\n",
       "    </tr>\n",
       "    <tr>\n",
       "      <th>635686</th>\n",
       "      <td>13763383</td>\n",
       "      <td>2017-04-23 14:29:58</td>\n",
       "      <td>2017-04-23 14:47:19</td>\n",
       "      <td>5723</td>\n",
       "      <td>1041</td>\n",
       "      <td>4</td>\n",
       "      <td>Burnham Harbor</td>\n",
       "      <td>76</td>\n",
       "      <td>Lake Shore Dr &amp; Monroe St</td>\n",
       "      <td>Customer</td>\n",
       "      <td>NaN</td>\n",
       "      <td>NaN</td>\n",
       "    </tr>\n",
       "    <tr>\n",
       "      <th>635687</th>\n",
       "      <td>13763383</td>\n",
       "      <td>2017-04-23 14:29:58</td>\n",
       "      <td>2017-04-23 14:47:19</td>\n",
       "      <td>5723</td>\n",
       "      <td>1041</td>\n",
       "      <td>4</td>\n",
       "      <td>Burnham Harbor</td>\n",
       "      <td>76</td>\n",
       "      <td>Lake Shore Dr &amp; Monroe St</td>\n",
       "      <td>Customer</td>\n",
       "      <td>NaN</td>\n",
       "      <td>NaN</td>\n",
       "    </tr>\n",
       "    <tr>\n",
       "      <th>635703</th>\n",
       "      <td>13763403</td>\n",
       "      <td>2017-04-23 14:30:30</td>\n",
       "      <td>2017-04-23 14:47:13</td>\n",
       "      <td>3620</td>\n",
       "      <td>1003</td>\n",
       "      <td>4</td>\n",
       "      <td>Burnham Harbor</td>\n",
       "      <td>76</td>\n",
       "      <td>Lake Shore Dr &amp; Monroe St</td>\n",
       "      <td>Customer</td>\n",
       "      <td>NaN</td>\n",
       "      <td>NaN</td>\n",
       "    </tr>\n",
       "    <tr>\n",
       "      <th>635705</th>\n",
       "      <td>13763403</td>\n",
       "      <td>2017-04-23 14:30:30</td>\n",
       "      <td>2017-04-23 14:47:13</td>\n",
       "      <td>3620</td>\n",
       "      <td>1003</td>\n",
       "      <td>4</td>\n",
       "      <td>Burnham Harbor</td>\n",
       "      <td>76</td>\n",
       "      <td>Lake Shore Dr &amp; Monroe St</td>\n",
       "      <td>Customer</td>\n",
       "      <td>NaN</td>\n",
       "      <td>NaN</td>\n",
       "    </tr>\n",
       "    <tr>\n",
       "      <th>636121</th>\n",
       "      <td>13763843</td>\n",
       "      <td>2017-04-23 14:48:29</td>\n",
       "      <td>2017-04-23 15:12:41</td>\n",
       "      <td>3687</td>\n",
       "      <td>1452</td>\n",
       "      <td>76</td>\n",
       "      <td>Lake Shore Dr &amp; Monroe St</td>\n",
       "      <td>99</td>\n",
       "      <td>Lake Shore Dr &amp; Ohio St</td>\n",
       "      <td>Customer</td>\n",
       "      <td>NaN</td>\n",
       "      <td>NaN</td>\n",
       "    </tr>\n",
       "    <tr>\n",
       "      <th>636122</th>\n",
       "      <td>13763843</td>\n",
       "      <td>2017-04-23 14:48:29</td>\n",
       "      <td>2017-04-23 15:12:41</td>\n",
       "      <td>3687</td>\n",
       "      <td>1452</td>\n",
       "      <td>76</td>\n",
       "      <td>Lake Shore Dr &amp; Monroe St</td>\n",
       "      <td>99</td>\n",
       "      <td>Lake Shore Dr &amp; Ohio St</td>\n",
       "      <td>Customer</td>\n",
       "      <td>NaN</td>\n",
       "      <td>NaN</td>\n",
       "    </tr>\n",
       "    <tr>\n",
       "      <th>636136</th>\n",
       "      <td>13763856</td>\n",
       "      <td>2017-04-23 14:48:50</td>\n",
       "      <td>2017-04-23 15:12:17</td>\n",
       "      <td>2152</td>\n",
       "      <td>1407</td>\n",
       "      <td>76</td>\n",
       "      <td>Lake Shore Dr &amp; Monroe St</td>\n",
       "      <td>99</td>\n",
       "      <td>Lake Shore Dr &amp; Ohio St</td>\n",
       "      <td>Customer</td>\n",
       "      <td>NaN</td>\n",
       "      <td>NaN</td>\n",
       "    </tr>\n",
       "    <tr>\n",
       "      <th>636137</th>\n",
       "      <td>13763856</td>\n",
       "      <td>2017-04-23 14:48:50</td>\n",
       "      <td>2017-04-23 15:12:17</td>\n",
       "      <td>2152</td>\n",
       "      <td>1407</td>\n",
       "      <td>76</td>\n",
       "      <td>Lake Shore Dr &amp; Monroe St</td>\n",
       "      <td>99</td>\n",
       "      <td>Lake Shore Dr &amp; Ohio St</td>\n",
       "      <td>Customer</td>\n",
       "      <td>NaN</td>\n",
       "      <td>NaN</td>\n",
       "    </tr>\n",
       "    <tr>\n",
       "      <th>638628</th>\n",
       "      <td>13766552</td>\n",
       "      <td>2017-04-23 16:42:33</td>\n",
       "      <td>2017-04-23 17:01:40</td>\n",
       "      <td>3596</td>\n",
       "      <td>1147</td>\n",
       "      <td>35</td>\n",
       "      <td>Streeter Dr &amp; Grand Ave</td>\n",
       "      <td>141</td>\n",
       "      <td>Clark St &amp; Lincoln Ave</td>\n",
       "      <td>Customer</td>\n",
       "      <td>NaN</td>\n",
       "      <td>NaN</td>\n",
       "    </tr>\n",
       "    <tr>\n",
       "      <th>638629</th>\n",
       "      <td>13766552</td>\n",
       "      <td>2017-04-23 16:42:33</td>\n",
       "      <td>2017-04-23 17:01:40</td>\n",
       "      <td>3596</td>\n",
       "      <td>1147</td>\n",
       "      <td>35</td>\n",
       "      <td>Streeter Dr &amp; Grand Ave</td>\n",
       "      <td>141</td>\n",
       "      <td>Clark St &amp; Lincoln Ave</td>\n",
       "      <td>Customer</td>\n",
       "      <td>NaN</td>\n",
       "      <td>NaN</td>\n",
       "    </tr>\n",
       "    <tr>\n",
       "      <th>638636</th>\n",
       "      <td>13766560</td>\n",
       "      <td>2017-04-23 16:42:51</td>\n",
       "      <td>2017-04-23 17:00:54</td>\n",
       "      <td>78</td>\n",
       "      <td>1083</td>\n",
       "      <td>35</td>\n",
       "      <td>Streeter Dr &amp; Grand Ave</td>\n",
       "      <td>141</td>\n",
       "      <td>Clark St &amp; Lincoln Ave</td>\n",
       "      <td>Customer</td>\n",
       "      <td>NaN</td>\n",
       "      <td>NaN</td>\n",
       "    </tr>\n",
       "    <tr>\n",
       "      <th>638637</th>\n",
       "      <td>13766560</td>\n",
       "      <td>2017-04-23 16:42:51</td>\n",
       "      <td>2017-04-23 17:00:54</td>\n",
       "      <td>78</td>\n",
       "      <td>1083</td>\n",
       "      <td>35</td>\n",
       "      <td>Streeter Dr &amp; Grand Ave</td>\n",
       "      <td>141</td>\n",
       "      <td>Clark St &amp; Lincoln Ave</td>\n",
       "      <td>Customer</td>\n",
       "      <td>NaN</td>\n",
       "      <td>NaN</td>\n",
       "    </tr>\n",
       "    <tr>\n",
       "      <th>710087</th>\n",
       "      <td>13856026</td>\n",
       "      <td>2017-05-02 14:44:49</td>\n",
       "      <td>2017-05-02 15:04:39</td>\n",
       "      <td>5170</td>\n",
       "      <td>1190</td>\n",
       "      <td>210</td>\n",
       "      <td>Ashland Ave &amp; Division St</td>\n",
       "      <td>181</td>\n",
       "      <td>LaSalle St &amp; Illinois St</td>\n",
       "      <td>Customer</td>\n",
       "      <td>NaN</td>\n",
       "      <td>NaN</td>\n",
       "    </tr>\n",
       "    <tr>\n",
       "      <th>710088</th>\n",
       "      <td>13856026</td>\n",
       "      <td>2017-05-02 14:44:49</td>\n",
       "      <td>2017-05-02 15:04:39</td>\n",
       "      <td>5170</td>\n",
       "      <td>1190</td>\n",
       "      <td>210</td>\n",
       "      <td>Ashland Ave &amp; Division St</td>\n",
       "      <td>181</td>\n",
       "      <td>LaSalle St &amp; Illinois St</td>\n",
       "      <td>Customer</td>\n",
       "      <td>NaN</td>\n",
       "      <td>NaN</td>\n",
       "    </tr>\n",
       "    <tr>\n",
       "      <th>711115</th>\n",
       "      <td>13857400</td>\n",
       "      <td>2017-05-02 16:45:56</td>\n",
       "      <td>2017-05-02 16:55:02</td>\n",
       "      <td>5170</td>\n",
       "      <td>546</td>\n",
       "      <td>181</td>\n",
       "      <td>LaSalle St &amp; Illinois St</td>\n",
       "      <td>49</td>\n",
       "      <td>Dearborn St &amp; Monroe St</td>\n",
       "      <td>Customer</td>\n",
       "      <td>NaN</td>\n",
       "      <td>NaN</td>\n",
       "    </tr>\n",
       "    <tr>\n",
       "      <th>711116</th>\n",
       "      <td>13857400</td>\n",
       "      <td>2017-05-02 16:45:56</td>\n",
       "      <td>2017-05-02 16:55:02</td>\n",
       "      <td>5170</td>\n",
       "      <td>546</td>\n",
       "      <td>181</td>\n",
       "      <td>LaSalle St &amp; Illinois St</td>\n",
       "      <td>49</td>\n",
       "      <td>Dearborn St &amp; Monroe St</td>\n",
       "      <td>Customer</td>\n",
       "      <td>NaN</td>\n",
       "      <td>NaN</td>\n",
       "    </tr>\n",
       "    <tr>\n",
       "      <th>713206</th>\n",
       "      <td>13859842</td>\n",
       "      <td>2017-05-02 18:57:11</td>\n",
       "      <td>2017-05-02 19:08:21</td>\n",
       "      <td>2152</td>\n",
       "      <td>670</td>\n",
       "      <td>283</td>\n",
       "      <td>LaSalle St &amp; Jackson Blvd</td>\n",
       "      <td>181</td>\n",
       "      <td>LaSalle St &amp; Illinois St</td>\n",
       "      <td>Customer</td>\n",
       "      <td>NaN</td>\n",
       "      <td>NaN</td>\n",
       "    </tr>\n",
       "    <tr>\n",
       "      <th>713207</th>\n",
       "      <td>13859842</td>\n",
       "      <td>2017-05-02 18:57:11</td>\n",
       "      <td>2017-05-02 19:08:21</td>\n",
       "      <td>2152</td>\n",
       "      <td>670</td>\n",
       "      <td>283</td>\n",
       "      <td>LaSalle St &amp; Jackson Blvd</td>\n",
       "      <td>181</td>\n",
       "      <td>LaSalle St &amp; Illinois St</td>\n",
       "      <td>Customer</td>\n",
       "      <td>NaN</td>\n",
       "      <td>NaN</td>\n",
       "    </tr>\n",
       "  </tbody>\n",
       "</table>\n",
       "</div>"
      ],
      "text/plain": [
       "         trip_id          start_time            end_time  bikeid  \\\n",
       "634989  13762609 2017-04-23 13:56:41 2017-04-23 14:28:04    3721   \n",
       "634990  13762609 2017-04-23 13:56:41 2017-04-23 14:28:04    3721   \n",
       "635000  13762620 2017-04-23 13:57:00 2017-04-23 14:27:30    4435   \n",
       "635001  13762620 2017-04-23 13:57:00 2017-04-23 14:27:30    4435   \n",
       "635686  13763383 2017-04-23 14:29:58 2017-04-23 14:47:19    5723   \n",
       "635687  13763383 2017-04-23 14:29:58 2017-04-23 14:47:19    5723   \n",
       "635703  13763403 2017-04-23 14:30:30 2017-04-23 14:47:13    3620   \n",
       "635705  13763403 2017-04-23 14:30:30 2017-04-23 14:47:13    3620   \n",
       "636121  13763843 2017-04-23 14:48:29 2017-04-23 15:12:41    3687   \n",
       "636122  13763843 2017-04-23 14:48:29 2017-04-23 15:12:41    3687   \n",
       "636136  13763856 2017-04-23 14:48:50 2017-04-23 15:12:17    2152   \n",
       "636137  13763856 2017-04-23 14:48:50 2017-04-23 15:12:17    2152   \n",
       "638628  13766552 2017-04-23 16:42:33 2017-04-23 17:01:40    3596   \n",
       "638629  13766552 2017-04-23 16:42:33 2017-04-23 17:01:40    3596   \n",
       "638636  13766560 2017-04-23 16:42:51 2017-04-23 17:00:54      78   \n",
       "638637  13766560 2017-04-23 16:42:51 2017-04-23 17:00:54      78   \n",
       "710087  13856026 2017-05-02 14:44:49 2017-05-02 15:04:39    5170   \n",
       "710088  13856026 2017-05-02 14:44:49 2017-05-02 15:04:39    5170   \n",
       "711115  13857400 2017-05-02 16:45:56 2017-05-02 16:55:02    5170   \n",
       "711116  13857400 2017-05-02 16:45:56 2017-05-02 16:55:02    5170   \n",
       "713206  13859842 2017-05-02 18:57:11 2017-05-02 19:08:21    2152   \n",
       "713207  13859842 2017-05-02 18:57:11 2017-05-02 19:08:21    2152   \n",
       "\n",
       "        tripduration  from_station_id          from_station_name  \\\n",
       "634989          1883              267    Lake Park Ave & 47th St   \n",
       "634990          1883              267    Lake Park Ave & 47th St   \n",
       "635000          1830              267    Lake Park Ave & 47th St   \n",
       "635001          1830              267    Lake Park Ave & 47th St   \n",
       "635686          1041                4             Burnham Harbor   \n",
       "635687          1041                4             Burnham Harbor   \n",
       "635703          1003                4             Burnham Harbor   \n",
       "635705          1003                4             Burnham Harbor   \n",
       "636121          1452               76  Lake Shore Dr & Monroe St   \n",
       "636122          1452               76  Lake Shore Dr & Monroe St   \n",
       "636136          1407               76  Lake Shore Dr & Monroe St   \n",
       "636137          1407               76  Lake Shore Dr & Monroe St   \n",
       "638628          1147               35    Streeter Dr & Grand Ave   \n",
       "638629          1147               35    Streeter Dr & Grand Ave   \n",
       "638636          1083               35    Streeter Dr & Grand Ave   \n",
       "638637          1083               35    Streeter Dr & Grand Ave   \n",
       "710087          1190              210  Ashland Ave & Division St   \n",
       "710088          1190              210  Ashland Ave & Division St   \n",
       "711115           546              181   LaSalle St & Illinois St   \n",
       "711116           546              181   LaSalle St & Illinois St   \n",
       "713206           670              283  LaSalle St & Jackson Blvd   \n",
       "713207           670              283  LaSalle St & Jackson Blvd   \n",
       "\n",
       "        to_station_id            to_station_name  usertype gender  birthyear  \n",
       "634989              4             Burnham Harbor  Customer    NaN        NaN  \n",
       "634990              4             Burnham Harbor  Customer    NaN        NaN  \n",
       "635000              4             Burnham Harbor  Customer    NaN        NaN  \n",
       "635001              4             Burnham Harbor  Customer    NaN        NaN  \n",
       "635686             76  Lake Shore Dr & Monroe St  Customer    NaN        NaN  \n",
       "635687             76  Lake Shore Dr & Monroe St  Customer    NaN        NaN  \n",
       "635703             76  Lake Shore Dr & Monroe St  Customer    NaN        NaN  \n",
       "635705             76  Lake Shore Dr & Monroe St  Customer    NaN        NaN  \n",
       "636121             99    Lake Shore Dr & Ohio St  Customer    NaN        NaN  \n",
       "636122             99    Lake Shore Dr & Ohio St  Customer    NaN        NaN  \n",
       "636136             99    Lake Shore Dr & Ohio St  Customer    NaN        NaN  \n",
       "636137             99    Lake Shore Dr & Ohio St  Customer    NaN        NaN  \n",
       "638628            141     Clark St & Lincoln Ave  Customer    NaN        NaN  \n",
       "638629            141     Clark St & Lincoln Ave  Customer    NaN        NaN  \n",
       "638636            141     Clark St & Lincoln Ave  Customer    NaN        NaN  \n",
       "638637            141     Clark St & Lincoln Ave  Customer    NaN        NaN  \n",
       "710087            181   LaSalle St & Illinois St  Customer    NaN        NaN  \n",
       "710088            181   LaSalle St & Illinois St  Customer    NaN        NaN  \n",
       "711115             49    Dearborn St & Monroe St  Customer    NaN        NaN  \n",
       "711116             49    Dearborn St & Monroe St  Customer    NaN        NaN  \n",
       "713206            181   LaSalle St & Illinois St  Customer    NaN        NaN  \n",
       "713207            181   LaSalle St & Illinois St  Customer    NaN        NaN  "
      ]
     },
     "execution_count": 21,
     "metadata": {},
     "output_type": "execute_result"
    }
   ],
   "source": [
    "chi_trips_test"
   ]
  },
  {
   "cell_type": "code",
   "execution_count": 22,
   "metadata": {},
   "outputs": [],
   "source": [
    "chi_trips_all.drop_duplicates(inplace=True, ignore_index=True) \n",
    "#deleting duplicate listed trips"
   ]
  },
  {
   "cell_type": "code",
   "execution_count": 23,
   "metadata": {},
   "outputs": [
    {
     "name": "stdout",
     "output_type": "stream",
     "text": [
      "<class 'pandas.core.frame.DataFrame'>\n",
      "RangeIndex: 3829003 entries, 0 to 3829002\n",
      "Data columns (total 12 columns):\n",
      " #   Column             Dtype         \n",
      "---  ------             -----         \n",
      " 0   trip_id            int64         \n",
      " 1   start_time         datetime64[ns]\n",
      " 2   end_time           datetime64[ns]\n",
      " 3   bikeid             int64         \n",
      " 4   tripduration       int64         \n",
      " 5   from_station_id    int64         \n",
      " 6   from_station_name  object        \n",
      " 7   to_station_id      int64         \n",
      " 8   to_station_name    object        \n",
      " 9   usertype           object        \n",
      " 10  gender             object        \n",
      " 11  birthyear          float64       \n",
      "dtypes: datetime64[ns](2), float64(1), int64(5), object(4)\n",
      "memory usage: 350.6+ MB\n"
     ]
    }
   ],
   "source": [
    "chi_trips_all.info()"
   ]
  },
  {
   "cell_type": "code",
   "execution_count": 24,
   "metadata": {},
   "outputs": [
    {
     "data": {
      "text/plain": [
       "count    3.829003e+06\n",
       "mean     9.556331e+02\n",
       "std      1.569453e+03\n",
       "min      6.000000e+01\n",
       "25%      4.020000e+02\n",
       "50%      6.860000e+02\n",
       "75%      1.149000e+03\n",
       "max      8.633800e+04\n",
       "Name: tripduration, dtype: float64"
      ]
     },
     "execution_count": 24,
     "metadata": {},
     "output_type": "execute_result"
    }
   ],
   "source": [
    "chi_trips_all['tripduration'].describe()"
   ]
  },
  {
   "cell_type": "code",
   "execution_count": 25,
   "metadata": {},
   "outputs": [
    {
     "data": {
      "text/plain": [
       "332      4129\n",
       "350      4091\n",
       "372      4084\n",
       "348      4082\n",
       "327      4071\n",
       "         ... \n",
       "52765       1\n",
       "42512       1\n",
       "17051       1\n",
       "8848        1\n",
       "9264        1\n",
       "Name: tripduration, Length: 16553, dtype: int64"
      ]
     },
     "execution_count": 25,
     "metadata": {},
     "output_type": "execute_result"
    }
   ],
   "source": [
    "chi_trips_all['tripduration'].value_counts()"
   ]
  },
  {
   "cell_type": "code",
   "execution_count": 26,
   "metadata": {},
   "outputs": [
    {
     "data": {
      "text/html": [
       "<div>\n",
       "<style scoped>\n",
       "    .dataframe tbody tr th:only-of-type {\n",
       "        vertical-align: middle;\n",
       "    }\n",
       "\n",
       "    .dataframe tbody tr th {\n",
       "        vertical-align: top;\n",
       "    }\n",
       "\n",
       "    .dataframe thead th {\n",
       "        text-align: right;\n",
       "    }\n",
       "</style>\n",
       "<table border=\"1\" class=\"dataframe\">\n",
       "  <thead>\n",
       "    <tr style=\"text-align: right;\">\n",
       "      <th></th>\n",
       "      <th>trip_id</th>\n",
       "      <th>start_time</th>\n",
       "      <th>end_time</th>\n",
       "      <th>bikeid</th>\n",
       "      <th>tripduration</th>\n",
       "      <th>from_station_id</th>\n",
       "      <th>from_station_name</th>\n",
       "      <th>to_station_id</th>\n",
       "      <th>to_station_name</th>\n",
       "      <th>usertype</th>\n",
       "      <th>gender</th>\n",
       "      <th>birthyear</th>\n",
       "    </tr>\n",
       "  </thead>\n",
       "  <tbody>\n",
       "    <tr>\n",
       "      <th>2383744</th>\n",
       "      <td>15823245</td>\n",
       "      <td>2017-08-15 12:54:59</td>\n",
       "      <td>2017-08-15 12:55:59</td>\n",
       "      <td>6114</td>\n",
       "      <td>60</td>\n",
       "      <td>401</td>\n",
       "      <td>Shields Ave &amp; 28th Pl</td>\n",
       "      <td>401</td>\n",
       "      <td>Shields Ave &amp; 28th Pl</td>\n",
       "      <td>Subscriber</td>\n",
       "      <td>Female</td>\n",
       "      <td>1979.0</td>\n",
       "    </tr>\n",
       "    <tr>\n",
       "      <th>1604135</th>\n",
       "      <td>14913844</td>\n",
       "      <td>2017-07-03 16:23:33</td>\n",
       "      <td>2017-07-03 16:24:33</td>\n",
       "      <td>4372</td>\n",
       "      <td>60</td>\n",
       "      <td>118</td>\n",
       "      <td>Sedgwick St &amp; North Ave</td>\n",
       "      <td>118</td>\n",
       "      <td>Sedgwick St &amp; North Ave</td>\n",
       "      <td>Subscriber</td>\n",
       "      <td>Female</td>\n",
       "      <td>1962.0</td>\n",
       "    </tr>\n",
       "    <tr>\n",
       "      <th>104083</th>\n",
       "      <td>13116220</td>\n",
       "      <td>2017-01-30 11:58:04</td>\n",
       "      <td>2017-01-30 11:59:04</td>\n",
       "      <td>2040</td>\n",
       "      <td>60</td>\n",
       "      <td>208</td>\n",
       "      <td>Ashland Ave &amp; 21st St</td>\n",
       "      <td>208</td>\n",
       "      <td>Ashland Ave &amp; 21st St</td>\n",
       "      <td>Subscriber</td>\n",
       "      <td>Male</td>\n",
       "      <td>1949.0</td>\n",
       "    </tr>\n",
       "    <tr>\n",
       "      <th>2881553</th>\n",
       "      <td>16407630</td>\n",
       "      <td>2017-09-14 07:42:08</td>\n",
       "      <td>2017-09-14 07:43:08</td>\n",
       "      <td>1082</td>\n",
       "      <td>60</td>\n",
       "      <td>89</td>\n",
       "      <td>Financial Pl &amp; Congress Pkwy</td>\n",
       "      <td>89</td>\n",
       "      <td>Financial Pl &amp; Congress Pkwy</td>\n",
       "      <td>Subscriber</td>\n",
       "      <td>Male</td>\n",
       "      <td>1976.0</td>\n",
       "    </tr>\n",
       "    <tr>\n",
       "      <th>2395086</th>\n",
       "      <td>15836188</td>\n",
       "      <td>2017-08-15 20:53:25</td>\n",
       "      <td>2017-08-15 20:54:25</td>\n",
       "      <td>3128</td>\n",
       "      <td>60</td>\n",
       "      <td>172</td>\n",
       "      <td>Rush St &amp; Cedar St</td>\n",
       "      <td>172</td>\n",
       "      <td>Rush St &amp; Cedar St</td>\n",
       "      <td>Subscriber</td>\n",
       "      <td>Male</td>\n",
       "      <td>1973.0</td>\n",
       "    </tr>\n",
       "    <tr>\n",
       "      <th>...</th>\n",
       "      <td>...</td>\n",
       "      <td>...</td>\n",
       "      <td>...</td>\n",
       "      <td>...</td>\n",
       "      <td>...</td>\n",
       "      <td>...</td>\n",
       "      <td>...</td>\n",
       "      <td>...</td>\n",
       "      <td>...</td>\n",
       "      <td>...</td>\n",
       "      <td>...</td>\n",
       "      <td>...</td>\n",
       "    </tr>\n",
       "    <tr>\n",
       "      <th>1542628</th>\n",
       "      <td>14843152</td>\n",
       "      <td>2017-06-30 14:32:51</td>\n",
       "      <td>2017-07-01 14:27:16</td>\n",
       "      <td>4914</td>\n",
       "      <td>86065</td>\n",
       "      <td>84</td>\n",
       "      <td>Milwaukee Ave &amp; Grand Ave</td>\n",
       "      <td>508</td>\n",
       "      <td>Central Park Ave &amp; North Ave</td>\n",
       "      <td>Customer</td>\n",
       "      <td>NaN</td>\n",
       "      <td>NaN</td>\n",
       "    </tr>\n",
       "    <tr>\n",
       "      <th>704264</th>\n",
       "      <td>13848225</td>\n",
       "      <td>2017-05-01 15:00:41</td>\n",
       "      <td>2017-05-02 14:55:37</td>\n",
       "      <td>1146</td>\n",
       "      <td>86096</td>\n",
       "      <td>328</td>\n",
       "      <td>Ellis Ave &amp; 58th St</td>\n",
       "      <td>420</td>\n",
       "      <td>Ellis Ave &amp; 55th St</td>\n",
       "      <td>Subscriber</td>\n",
       "      <td>Male</td>\n",
       "      <td>1986.0</td>\n",
       "    </tr>\n",
       "    <tr>\n",
       "      <th>1106068</th>\n",
       "      <td>14334127</td>\n",
       "      <td>2017-06-04 13:07:01</td>\n",
       "      <td>2017-06-05 13:04:05</td>\n",
       "      <td>735</td>\n",
       "      <td>86224</td>\n",
       "      <td>438</td>\n",
       "      <td>Central Park Ave &amp; Ogden Ave</td>\n",
       "      <td>438</td>\n",
       "      <td>Central Park Ave &amp; Ogden Ave</td>\n",
       "      <td>Customer</td>\n",
       "      <td>NaN</td>\n",
       "      <td>NaN</td>\n",
       "    </tr>\n",
       "    <tr>\n",
       "      <th>410498</th>\n",
       "      <td>13492809</td>\n",
       "      <td>2017-03-27 20:09:57</td>\n",
       "      <td>2017-03-28 20:07:30</td>\n",
       "      <td>4563</td>\n",
       "      <td>86253</td>\n",
       "      <td>31</td>\n",
       "      <td>Franklin St &amp; Chicago Ave</td>\n",
       "      <td>46</td>\n",
       "      <td>Wells St &amp; Walton St</td>\n",
       "      <td>Customer</td>\n",
       "      <td>NaN</td>\n",
       "      <td>NaN</td>\n",
       "    </tr>\n",
       "    <tr>\n",
       "      <th>401711</th>\n",
       "      <td>13481458</td>\n",
       "      <td>2017-03-26 08:07:43</td>\n",
       "      <td>2017-03-27 08:06:41</td>\n",
       "      <td>1138</td>\n",
       "      <td>86338</td>\n",
       "      <td>176</td>\n",
       "      <td>Clark St &amp; Elm St</td>\n",
       "      <td>331</td>\n",
       "      <td>Halsted St &amp; Blackhawk St (*)</td>\n",
       "      <td>Customer</td>\n",
       "      <td>NaN</td>\n",
       "      <td>NaN</td>\n",
       "    </tr>\n",
       "  </tbody>\n",
       "</table>\n",
       "<p>3829003 rows × 12 columns</p>\n",
       "</div>"
      ],
      "text/plain": [
       "          trip_id          start_time            end_time  bikeid  \\\n",
       "2383744  15823245 2017-08-15 12:54:59 2017-08-15 12:55:59    6114   \n",
       "1604135  14913844 2017-07-03 16:23:33 2017-07-03 16:24:33    4372   \n",
       "104083   13116220 2017-01-30 11:58:04 2017-01-30 11:59:04    2040   \n",
       "2881553  16407630 2017-09-14 07:42:08 2017-09-14 07:43:08    1082   \n",
       "2395086  15836188 2017-08-15 20:53:25 2017-08-15 20:54:25    3128   \n",
       "...           ...                 ...                 ...     ...   \n",
       "1542628  14843152 2017-06-30 14:32:51 2017-07-01 14:27:16    4914   \n",
       "704264   13848225 2017-05-01 15:00:41 2017-05-02 14:55:37    1146   \n",
       "1106068  14334127 2017-06-04 13:07:01 2017-06-05 13:04:05     735   \n",
       "410498   13492809 2017-03-27 20:09:57 2017-03-28 20:07:30    4563   \n",
       "401711   13481458 2017-03-26 08:07:43 2017-03-27 08:06:41    1138   \n",
       "\n",
       "         tripduration  from_station_id             from_station_name  \\\n",
       "2383744            60              401         Shields Ave & 28th Pl   \n",
       "1604135            60              118       Sedgwick St & North Ave   \n",
       "104083             60              208         Ashland Ave & 21st St   \n",
       "2881553            60               89  Financial Pl & Congress Pkwy   \n",
       "2395086            60              172            Rush St & Cedar St   \n",
       "...               ...              ...                           ...   \n",
       "1542628         86065               84     Milwaukee Ave & Grand Ave   \n",
       "704264          86096              328           Ellis Ave & 58th St   \n",
       "1106068         86224              438  Central Park Ave & Ogden Ave   \n",
       "410498          86253               31     Franklin St & Chicago Ave   \n",
       "401711          86338              176             Clark St & Elm St   \n",
       "\n",
       "         to_station_id                to_station_name    usertype  gender  \\\n",
       "2383744            401          Shields Ave & 28th Pl  Subscriber  Female   \n",
       "1604135            118        Sedgwick St & North Ave  Subscriber  Female   \n",
       "104083             208          Ashland Ave & 21st St  Subscriber    Male   \n",
       "2881553             89   Financial Pl & Congress Pkwy  Subscriber    Male   \n",
       "2395086            172             Rush St & Cedar St  Subscriber    Male   \n",
       "...                ...                            ...         ...     ...   \n",
       "1542628            508   Central Park Ave & North Ave    Customer     NaN   \n",
       "704264             420            Ellis Ave & 55th St  Subscriber    Male   \n",
       "1106068            438   Central Park Ave & Ogden Ave    Customer     NaN   \n",
       "410498              46           Wells St & Walton St    Customer     NaN   \n",
       "401711             331  Halsted St & Blackhawk St (*)    Customer     NaN   \n",
       "\n",
       "         birthyear  \n",
       "2383744     1979.0  \n",
       "1604135     1962.0  \n",
       "104083      1949.0  \n",
       "2881553     1976.0  \n",
       "2395086     1973.0  \n",
       "...            ...  \n",
       "1542628        NaN  \n",
       "704264      1986.0  \n",
       "1106068        NaN  \n",
       "410498         NaN  \n",
       "401711         NaN  \n",
       "\n",
       "[3829003 rows x 12 columns]"
      ]
     },
     "execution_count": 26,
     "metadata": {},
     "output_type": "execute_result"
    }
   ],
   "source": [
    "chi_trips_all.sort_values (by= 'tripduration')"
   ]
  },
  {
   "cell_type": "code",
   "execution_count": 27,
   "metadata": {},
   "outputs": [
    {
     "data": {
      "text/plain": [
       "trip_id              312\n",
       "start_time           312\n",
       "end_time             312\n",
       "bikeid               312\n",
       "tripduration         312\n",
       "from_station_id      312\n",
       "from_station_name    312\n",
       "to_station_id        312\n",
       "to_station_name      312\n",
       "usertype             312\n",
       "gender               225\n",
       "birthyear            231\n",
       "dtype: int64"
      ]
     },
     "execution_count": 27,
     "metadata": {},
     "output_type": "execute_result"
    }
   ],
   "source": [
    "chi_trips_60sec=chi_trips_all[chi_trips_all.tripduration == 60]\n",
    "chi_trips_60sec.count()\n",
    "\n",
    "#checking quantity of very short trips"
   ]
  },
  {
   "cell_type": "code",
   "execution_count": 28,
   "metadata": {},
   "outputs": [],
   "source": [
    "chi_trips_all_idcheck = chi_trips_all[['from_station_id', 'from_station_name']]"
   ]
  },
  {
   "cell_type": "code",
   "execution_count": 29,
   "metadata": {},
   "outputs": [
    {
     "name": "stdout",
     "output_type": "stream",
     "text": [
      "     from_station_id  from_station_name\n",
      "0                  2                  1\n",
      "1                  3                  1\n",
      "2                  4                  1\n",
      "3                  5                  1\n",
      "4                  6                  1\n",
      "..               ...                ...\n",
      "580              622                  1\n",
      "581              623                  1\n",
      "582              624                  1\n",
      "583              625                  1\n",
      "584              626                  1\n",
      "\n",
      "[585 rows x 2 columns]\n"
     ]
    }
   ],
   "source": [
    "grouped_chi_trips_all = chi_trips_all_idcheck.groupby(['from_station_id'])\n",
    "grouped_chi_trips_all = grouped_chi_trips_all.agg({\"from_station_name\": \"nunique\"})\n",
    "\n",
    "grouped_chi_trips_all = grouped_chi_trips_all. reset_index()\n",
    "\n",
    "print(grouped_chi_trips_all)"
   ]
  },
  {
   "cell_type": "code",
   "execution_count": 30,
   "metadata": {},
   "outputs": [],
   "source": [
    "bad_ids = grouped_chi_trips_all[grouped_chi_trips_all['from_station_name']>1]\n",
    "\n",
    "#listing IDs that are associated with multiple names"
   ]
  },
  {
   "cell_type": "code",
   "execution_count": 31,
   "metadata": {},
   "outputs": [
    {
     "data": {
      "text/html": [
       "<div>\n",
       "<style scoped>\n",
       "    .dataframe tbody tr th:only-of-type {\n",
       "        vertical-align: middle;\n",
       "    }\n",
       "\n",
       "    .dataframe tbody tr th {\n",
       "        vertical-align: top;\n",
       "    }\n",
       "\n",
       "    .dataframe thead th {\n",
       "        text-align: right;\n",
       "    }\n",
       "</style>\n",
       "<table border=\"1\" class=\"dataframe\">\n",
       "  <thead>\n",
       "    <tr style=\"text-align: right;\">\n",
       "      <th></th>\n",
       "      <th>from_station_id</th>\n",
       "      <th>from_station_name</th>\n",
       "    </tr>\n",
       "  </thead>\n",
       "  <tbody>\n",
       "    <tr>\n",
       "      <th>13</th>\n",
       "      <td>17</td>\n",
       "      <td>2</td>\n",
       "    </tr>\n",
       "    <tr>\n",
       "      <th>49</th>\n",
       "      <td>53</td>\n",
       "      <td>2</td>\n",
       "    </tr>\n",
       "    <tr>\n",
       "      <th>67</th>\n",
       "      <td>75</td>\n",
       "      <td>2</td>\n",
       "    </tr>\n",
       "    <tr>\n",
       "      <th>298</th>\n",
       "      <td>321</td>\n",
       "      <td>2</td>\n",
       "    </tr>\n",
       "    <tr>\n",
       "      <th>401</th>\n",
       "      <td>437</td>\n",
       "      <td>2</td>\n",
       "    </tr>\n",
       "    <tr>\n",
       "      <th>443</th>\n",
       "      <td>480</td>\n",
       "      <td>2</td>\n",
       "    </tr>\n",
       "    <tr>\n",
       "      <th>503</th>\n",
       "      <td>544</td>\n",
       "      <td>2</td>\n",
       "    </tr>\n",
       "    <tr>\n",
       "      <th>533</th>\n",
       "      <td>574</td>\n",
       "      <td>2</td>\n",
       "    </tr>\n",
       "  </tbody>\n",
       "</table>\n",
       "</div>"
      ],
      "text/plain": [
       "     from_station_id  from_station_name\n",
       "13                17                  2\n",
       "49                53                  2\n",
       "67                75                  2\n",
       "298              321                  2\n",
       "401              437                  2\n",
       "443              480                  2\n",
       "503              544                  2\n",
       "533              574                  2"
      ]
     },
     "execution_count": 31,
     "metadata": {},
     "output_type": "execute_result"
    }
   ],
   "source": [
    "bad_ids"
   ]
  },
  {
   "cell_type": "code",
   "execution_count": 33,
   "metadata": {},
   "outputs": [],
   "source": [
    "chi_trips_all.to_csv('cleanedtrips.csv')"
   ]
  },
  {
   "cell_type": "code",
   "execution_count": null,
   "metadata": {},
   "outputs": [],
   "source": []
  },
  {
   "cell_type": "code",
   "execution_count": null,
   "metadata": {},
   "outputs": [],
   "source": []
  },
  {
   "cell_type": "code",
   "execution_count": null,
   "metadata": {},
   "outputs": [],
   "source": []
  },
  {
   "cell_type": "code",
   "execution_count": null,
   "metadata": {},
   "outputs": [],
   "source": []
  },
  {
   "cell_type": "markdown",
   "metadata": {},
   "source": [
    "## Add date time features to chi_data"
   ]
  },
  {
   "cell_type": "code",
   "execution_count": null,
   "metadata": {},
   "outputs": [],
   "source": [
    "chi_data['start_time']= pd.to_datetime(chi_data['start_time'])"
   ]
  },
  {
   "cell_type": "code",
   "execution_count": null,
   "metadata": {},
   "outputs": [],
   "source": [
    "chi_data['end_time'] = pd.to_datetime(chi_data['end_time'])"
   ]
  },
  {
   "cell_type": "code",
   "execution_count": null,
   "metadata": {},
   "outputs": [],
   "source": [
    "chi_data.sort_values(['start_time'], inplace = True) #Sorts the values by date "
   ]
  },
  {
   "cell_type": "code",
   "execution_count": null,
   "metadata": {},
   "outputs": [],
   "source": [
    "chi_data[\"Date\"] = chi_data['start_time'].swifter.apply(lambda dt: dt.date())"
   ]
  },
  {
   "cell_type": "code",
   "execution_count": null,
   "metadata": {},
   "outputs": [],
   "source": [
    "chi_data[\"Month\"] = chi_data['start_time'].swifter.apply(lambda dt: dt.month)"
   ]
  },
  {
   "cell_type": "code",
   "execution_count": null,
   "metadata": {},
   "outputs": [],
   "source": [
    "chi_data[\"Week\"] = chi_data['start_time'].swifter.apply(lambda dt: dt.isocalendar()[1])"
   ]
  },
  {
   "cell_type": "code",
   "execution_count": null,
   "metadata": {},
   "outputs": [],
   "source": [
    "chi_data[\"Hour\"] = chi_data['start_time'].swifter.apply(lambda dt: dt.hour)"
   ]
  },
  {
   "cell_type": "code",
   "execution_count": null,
   "metadata": {},
   "outputs": [],
   "source": [
    "chi_data[\"Weekday\"] = chi_data['start_time'].swifter.apply(lambda dt: dt.weekday())"
   ]
  },
  {
   "cell_type": "code",
   "execution_count": null,
   "metadata": {},
   "outputs": [],
   "source": [
    "chi_data['Duration'] = (chi_data['end_time']-chi_data['start_time'])"
   ]
  },
  {
   "cell_type": "code",
   "execution_count": null,
   "metadata": {},
   "outputs": [],
   "source": [
    "chi_data[\"Duration_sec\"] = chi_data[\"Duration\"].swifter.apply(lambda x: x.total_seconds())"
   ]
  },
  {
   "cell_type": "code",
   "execution_count": null,
   "metadata": {},
   "outputs": [],
   "source": [
    "chi_data[\"IsWeekday\"] = chi_data[\"Weekday\"].swifter.apply(lambda x: 1 if x < 5 else 0)"
   ]
  },
  {
   "cell_type": "code",
   "execution_count": null,
   "metadata": {},
   "outputs": [],
   "source": [
    "#chi_data.head()"
   ]
  },
  {
   "cell_type": "markdown",
   "metadata": {},
   "source": [
    "## Add date weather features to chi_weather_2017"
   ]
  },
  {
   "cell_type": "code",
   "execution_count": null,
   "metadata": {},
   "outputs": [],
   "source": [
    "chi_weather['date_time']=pd.to_datetime(chi_weather['date_time'])"
   ]
  },
  {
   "cell_type": "code",
   "execution_count": null,
   "metadata": {},
   "outputs": [],
   "source": [
    "first_date = datetime(year=2017, day=1, month=1)\n",
    "last_date = datetime(year=2017, day=31, month=12)\n",
    "chi_weather_2017 = chi_weather[(chi_weather['date_time']>=first_date)&(chi_weather[\"date_time\"] <= last_date)]"
   ]
  },
  {
   "cell_type": "code",
   "execution_count": null,
   "metadata": {},
   "outputs": [],
   "source": [
    "chi_weather_2017.sort_values(by = \"date_time\", inplace = True) #sort the values by date time"
   ]
  },
  {
   "cell_type": "code",
   "execution_count": null,
   "metadata": {},
   "outputs": [],
   "source": [
    "chi_weather_2017[\"Date\"] = chi_weather_2017['date_time'].swifter.apply(lambda dt: dt.date())"
   ]
  },
  {
   "cell_type": "code",
   "execution_count": null,
   "metadata": {
    "scrolled": true
   },
   "outputs": [],
   "source": [
    "chi_weather_2017['Month']= chi_weather_2017[\"date_time\"].swifter.apply(lambda dt: dt.month)"
   ]
  },
  {
   "cell_type": "code",
   "execution_count": null,
   "metadata": {
    "scrolled": false
   },
   "outputs": [],
   "source": [
    "chi_weather_2017[\"Week\"] = chi_weather_2017['date_time'].swifter.apply(lambda dt: dt.isocalendar()[1])"
   ]
  },
  {
   "cell_type": "code",
   "execution_count": null,
   "metadata": {
    "scrolled": true
   },
   "outputs": [],
   "source": [
    "chi_weather_2017[\"Hour\"] = chi_weather_2017['date_time'].swifter.apply(lambda dt: dt.hour)"
   ]
  },
  {
   "cell_type": "code",
   "execution_count": null,
   "metadata": {
    "scrolled": false
   },
   "outputs": [],
   "source": [
    "chi_weather_2017[\"Weekday\"] = chi_weather_2017['date_time'].swifter.apply(lambda dt: dt.weekday())"
   ]
  },
  {
   "cell_type": "code",
   "execution_count": null,
   "metadata": {},
   "outputs": [],
   "source": [
    "chi_weather_2017[\"mean_temp\"] = (chi_weather_2017['max_temp']+chi_weather_2017['min_temp'])/2"
   ]
  },
  {
   "cell_type": "code",
   "execution_count": null,
   "metadata": {},
   "outputs": [],
   "source": [
    "#chi_weather_2017.head()"
   ]
  },
  {
   "cell_type": "markdown",
   "metadata": {},
   "source": [
    "# Descriptive analystics"
   ]
  },
  {
   "cell_type": "markdown",
   "metadata": {},
   "source": [
    "## Fleet size"
   ]
  },
  {
   "cell_type": "code",
   "execution_count": null,
   "metadata": {},
   "outputs": [],
   "source": [
    "bikes = len(chi_data['bike_id'].unique())\n",
    "print(\"The overall number of bikes is {}\".format(bikes))"
   ]
  },
  {
   "cell_type": "markdown",
   "metadata": {},
   "source": [
    "## Temporal demand patterns"
   ]
  },
  {
   "cell_type": "markdown",
   "metadata": {},
   "source": [
    "### Bike rentals"
   ]
  },
  {
   "cell_type": "markdown",
   "metadata": {},
   "source": [
    "#### Bike rentals per month"
   ]
  },
  {
   "cell_type": "code",
   "execution_count": null,
   "metadata": {},
   "outputs": [],
   "source": [
    "rentals_month = chi_data.groupby(['Month'])['bike_id'].count()\n",
    "rentals_month = pd.DataFrame(rentals_month)\n",
    "\n",
    "fig, ax = plt.subplots(figsize = (10,6))\n",
    "\n",
    "ax.plot(rentals_month)\n",
    "ax.set_title('Bike rentals per month')\n",
    "ax.set_xlabel('Month')\n",
    "ax.set_ylabel(\"Bike rentals\")\n",
    "plt.show()"
   ]
  },
  {
   "cell_type": "code",
   "execution_count": null,
   "metadata": {},
   "outputs": [],
   "source": [
    "rentals_month_bp = chi_data.groupby(['Date','Month'])['bike_id'].count()\n",
    "rentals_month_bp = pd.DataFrame(rentals_month_bp)\n",
    "\n",
    "fig, ax = plt.subplots(figsize = (10,6))\n",
    "\n",
    "sns.boxplot(x = rentals_month_bp.index.get_level_values('Month'), y =rentals_month_bp['bike_id'], ax = ax)\n",
    "ax.set_title('Bike rentals per month')\n",
    "ax.set_ylabel(\"Bike rentals\")\n",
    "plt.show()"
   ]
  },
  {
   "cell_type": "markdown",
   "metadata": {},
   "source": [
    "#### Bike rentals per week"
   ]
  },
  {
   "cell_type": "code",
   "execution_count": null,
   "metadata": {},
   "outputs": [],
   "source": [
    "rentals_week = chi_data.groupby(\"Week\")['bike_id'].count()\n",
    "rentals_week = pd.DataFrame(rentals_week)\n",
    "\n",
    "fig, ax = plt.subplots(figsize = (10,6))\n",
    "\n",
    "ax.plot(rentals_week, c = \"green\")\n",
    "\n",
    "ax.set_title('Bike rentals per week')\n",
    "ax.set_ylabel(\"Bike rentals\")\n",
    "ax.set_xlabel(\"Week\")\n",
    "plt.show()"
   ]
  },
  {
   "cell_type": "markdown",
   "metadata": {},
   "source": [
    "#### Bike rentals per weekday"
   ]
  },
  {
   "cell_type": "code",
   "execution_count": null,
   "metadata": {
    "scrolled": true
   },
   "outputs": [],
   "source": [
    "rentals_weekday = chi_data.groupby(['Weekday','Date'])['bike_id'].count()\n",
    "rentals_weekday = pd.DataFrame(rentals_weekday)\n",
    "\n",
    "fig, ax = plt.subplots(figsize = (10,6))\n",
    "\n",
    "sns.boxplot(x = rentals_weekday.index.get_level_values('Weekday'), y =rentals_weekday['bike_id'], ax = ax)\n",
    "ax.set_title('Bike rentals per weekday')\n",
    "ax.set_ylabel(\"Bike rentals\")\n",
    "\n",
    "plt.show()"
   ]
  },
  {
   "cell_type": "code",
   "execution_count": null,
   "metadata": {},
   "outputs": [],
   "source": [
    "# legende Zahl - Wochentag"
   ]
  },
  {
   "cell_type": "markdown",
   "metadata": {},
   "source": [
    "#### Bike rentals over year per day "
   ]
  },
  {
   "cell_type": "code",
   "execution_count": null,
   "metadata": {
    "scrolled": true
   },
   "outputs": [],
   "source": [
    "rentals_day = chi_data.groupby(\"Date\")['bike_id'].count()\n",
    "rentals_day = pd.DataFrame(rentals_day)\n",
    "\n",
    "fig, ax = plt.subplots(figsize = (10,6))\n",
    "\n",
    "ax.plot(rentals_day, c = \"green\")\n",
    "\n",
    "ax.set_title('Bike rentals per day')\n",
    "ax.set_ylabel(\"Bike rentals\")\n",
    "ax.set_xlabel(\"Day\")\n",
    "plt.show()"
   ]
  },
  {
   "cell_type": "markdown",
   "metadata": {},
   "source": [
    "#### Bike rentals per hour"
   ]
  },
  {
   "cell_type": "code",
   "execution_count": null,
   "metadata": {},
   "outputs": [],
   "source": [
    "rentals_hour = chi_data.groupby([\"Date\",\"Hour\"])['bike_id'].count()\n",
    "rentals_hour =pd.DataFrame(rentals_hour)\n",
    "\n",
    "fig, ax = plt.subplots(figsize = (10,6))\n",
    "\n",
    "\n",
    "sns.boxplot(x = rentals_hour.index.get_level_values(\"Hour\"), y =rentals_hour['bike_id'], ax = ax)\n",
    "ax.set_title('Bike rentals per hour')\n",
    "ax.set_ylabel(\"Bike rentals\")\n",
    "plt.show()\n",
    "rentals_hour"
   ]
  },
  {
   "cell_type": "code",
   "execution_count": null,
   "metadata": {
    "scrolled": false
   },
   "outputs": [],
   "source": [
    "rentals_hour = chi_data.groupby(['Hour'])['bike_id'].count()\n",
    "rentals_hour = pd.DataFrame(rentals_hour)\n",
    "\n",
    "fig, ax = plt.subplots(figsize = (10,6))\n",
    "\n",
    "ax.plot(rentals_hour)\n",
    "ax.set_title('Bike rentals per hour')\n",
    "ax.set_ylabel(\"Bike rentals\")\n",
    "ax.set_xlabel(\"Hour\")\n",
    "plt.show"
   ]
  },
  {
   "cell_type": "markdown",
   "metadata": {},
   "source": [
    "#### Correlation between weekday, hour & rentals???"
   ]
  },
  {
   "cell_type": "markdown",
   "metadata": {},
   "source": [
    "### Duration/Travel time"
   ]
  },
  {
   "cell_type": "markdown",
   "metadata": {},
   "source": [
    "#### Duration per week"
   ]
  },
  {
   "cell_type": "code",
   "execution_count": null,
   "metadata": {},
   "outputs": [],
   "source": [
    "duration_week = chi_data.groupby(\"Week\")[\"Duration_sec\"].mean()\n",
    "duration_week = pd.DataFrame(duration_week)\n",
    "\n",
    "fig, ax = plt.subplots(figsize = (10,6))\n",
    "\n",
    "ax.plot(duration_week)\n",
    "\n",
    "ax.set_title('Duration of rentals per week')\n",
    "ax.set_ylabel('Duration of rentals')\n",
    "ax.set_xlabel('Week')\n",
    "plt.show()"
   ]
  },
  {
   "cell_type": "markdown",
   "metadata": {},
   "source": [
    "#### Duration per weekday"
   ]
  },
  {
   "cell_type": "code",
   "execution_count": null,
   "metadata": {},
   "outputs": [],
   "source": [
    "duration_weekday = chi_data.groupby(\"Weekday\")[\"Duration_sec\"].mean()\n",
    "duration_weekday = pd.DataFrame(duration_weekday)\n",
    "\n",
    "fig, ax = plt.subplots(figsize = (10,6))\n",
    "\n",
    "ax.plot(duration_weekday)\n",
    "\n",
    "ax.set_title('Duration of rentals per weekday')\n",
    "ax.set_ylabel('Duration of rentals')\n",
    "ax.set_xlabel('Weekday')\n",
    "plt.show()"
   ]
  },
  {
   "cell_type": "code",
   "execution_count": null,
   "metadata": {},
   "outputs": [],
   "source": [
    "duration_weekday_bp = chi_data.groupby([\"Date\",\"Weekday\"])['Duration_sec'].mean()\n",
    "duration_weekday_bp =pd.DataFrame(duration_weekday_bp)\n",
    "\n",
    "fig, ax = plt.subplots(figsize = (10,6))\n",
    "\n",
    "\n",
    "sns.boxplot(x = duration_weekday_bp.index.get_level_values(\"Weekday\"), y =duration_weekday_bp['Duration_sec'], ax = ax)\n",
    "ax.set_title('Duration of rentals per weekday')\n",
    "ax.set_ylabel('Duration of rentals')\n",
    "plt.show()"
   ]
  },
  {
   "cell_type": "markdown",
   "metadata": {},
   "source": [
    "#### Duration per hour"
   ]
  },
  {
   "cell_type": "code",
   "execution_count": null,
   "metadata": {
    "scrolled": true
   },
   "outputs": [],
   "source": [
    "duration_hour = chi_data.groupby(\"Hour\")[\"Duration_sec\"].mean()\n",
    "duration_hour = pd.DataFrame(duration_hour)\n",
    "\n",
    "fig, ax = plt.subplots(figsize = (10,6))\n",
    "\n",
    "ax.plot(duration_hour)\n",
    "\n",
    "ax.set_title('Duration of rentals per hour')\n",
    "ax.set_ylabel('Duration of rentals')\n",
    "ax.set_xlabel('Hour')\n",
    "plt.show()"
   ]
  },
  {
   "cell_type": "markdown",
   "metadata": {},
   "source": [
    "### Weather"
   ]
  },
  {
   "cell_type": "markdown",
   "metadata": {},
   "source": [
    "#### Temperature monthly"
   ]
  },
  {
   "cell_type": "code",
   "execution_count": null,
   "metadata": {},
   "outputs": [],
   "source": [
    "temp_month_mean = chi_weather_2017.groupby(\"Month\")[\"mean_temp\"].mean()\n",
    "\n",
    "fig, ax = plt.subplots(figsize = (10,6))\n",
    "\n",
    "ax.plot(temp_month_mean)\n",
    "ax.set_xlabel('Month')\n",
    "ax.set_ylabel('Temperature')\n",
    "ax.set_title(\"Average temperature per month\")\n",
    "\n",
    "plt.show()"
   ]
  },
  {
   "cell_type": "code",
   "execution_count": null,
   "metadata": {},
   "outputs": [],
   "source": [
    "temp_month_mean_bp = chi_weather_2017.groupby(['Date','Month'])['mean_temp'].mean()\n",
    "temp_month_mean_bp = pd.DataFrame(temp_month_mean_bp)\n",
    "\n",
    "fig, ax = plt.subplots(figsize = (10,6))\n",
    "\n",
    "sns.boxplot(x = temp_month_mean_bp.index.get_level_values('Month'), y =temp_month_mean_bp['mean_temp'], ax = ax)\n",
    "\n",
    "ax.set_title('Average temperature per month')\n",
    "ax.set_ylabel(\"Temperature\")\n",
    "ax.set_xlabel(\"Month\")\n",
    "plt.show()"
   ]
  },
  {
   "cell_type": "code",
   "execution_count": null,
   "metadata": {},
   "outputs": [],
   "source": [
    "temp_day_min = chi_weather_2017.groupby(\"Date\")[\"mean_temp\"].min()\n",
    "\n",
    "temp_day_max = chi_weather_2017.groupby(\"Date\")[\"mean_temp\"].max()\n",
    "\n",
    "fig, ax = plt.subplots(figsize = (10,6))\n",
    "\n",
    "ax.plot(temp_day_max, c = \"red\", label = \"Max temperature\")\n",
    "ax.plot(temp_day_min, c = \"blue\", label = \"Min temperature\")\n",
    "plt.legend()\n",
    "ax.set_title('Average temperature per day')\n",
    "ax.set_ylabel(\"Temperature\")\n",
    "ax.set_xlabel('Day')\n",
    "\n",
    "plt.show()"
   ]
  },
  {
   "cell_type": "markdown",
   "metadata": {},
   "source": [
    "#### Temperature weekly"
   ]
  },
  {
   "cell_type": "code",
   "execution_count": null,
   "metadata": {},
   "outputs": [],
   "source": [
    "temp_week_mean = chi_weather_2017.groupby(\"Week\")[\"mean_temp\"].mean()\n",
    "\n",
    "fig, ax = plt.subplots(figsize = (10,6))\n",
    "\n",
    "ax.plot(temp_week_mean)\n",
    "ax.set_ylabel(\"Temperature\")\n",
    "ax.set_xlabel('Week')\n",
    "ax.set_title('Average temperature per week')\n",
    "plt.show()"
   ]
  },
  {
   "cell_type": "markdown",
   "metadata": {},
   "source": [
    "#### Temperature daily"
   ]
  },
  {
   "cell_type": "code",
   "execution_count": null,
   "metadata": {},
   "outputs": [],
   "source": [
    "temp_day_mean = chi_weather_2017.groupby(\"Date\")[\"mean_temp\"].mean()\n",
    "\n",
    "fig, ax = plt.subplots(figsize = (10,6))\n",
    "\n",
    "ax.plot(temp_day_mean, c = \"red\")\n",
    "ax.set_title('Average temperature per day')\n",
    "ax.set_ylabel(\"Temperature\")\n",
    "ax.set_xlabel('Day')\n",
    "\n",
    "plt.show()"
   ]
  },
  {
   "cell_type": "code",
   "execution_count": null,
   "metadata": {},
   "outputs": [],
   "source": [
    "temp_day_min = chi_weather_2017.groupby(\"Date\")[\"mean_temp\"].min()\n",
    "\n",
    "temp_day_max = chi_weather_2017.groupby(\"Date\")[\"mean_temp\"].max()\n",
    "\n",
    "fig, ax = plt.subplots(figsize = (10,6))\n",
    "\n",
    "ax.plot(temp_day_max, c = \"red\", label = \"Max temperature\")\n",
    "ax.plot(temp_day_min, c = \"blue\", label = \"Min temperature\")\n",
    "plt.legend()\n",
    "ax.set_title('Average temperature per day')\n",
    "ax.set_ylabel(\"Temperature\")\n",
    "ax.set_xlabel('Day')\n",
    "\n",
    "plt.show()"
   ]
  },
  {
   "cell_type": "markdown",
   "metadata": {},
   "source": [
    "#### Precip monthly"
   ]
  },
  {
   "cell_type": "code",
   "execution_count": null,
   "metadata": {
    "scrolled": false
   },
   "outputs": [],
   "source": [
    "precip_month_mean = chi_weather_2017.groupby(\"Month\")[\"precip\"].mean()\n",
    "\n",
    "fig, ax = plt.subplots(figsize = (16,9))\n",
    "\n",
    "ax.plot(precip_month_mean)\n",
    "ax.set_xlabel('Month')\n",
    "ax.set_ylabel('Precip percentage')\n",
    "ax.set_title(\"Monthly precip percentage\")\n",
    "\n",
    "plt.show()"
   ]
  },
  {
   "cell_type": "code",
   "execution_count": null,
   "metadata": {},
   "outputs": [],
   "source": [
    "precip_month_mean_bp = chi_weather_2017.groupby(['Date','Month'])['precip'].mean()\n",
    "precip_month_mean_bp = pd.DataFrame(precip_month_mean_bp)\n",
    "\n",
    "fig, ax = plt.subplots(figsize = (10,6))\n",
    "\n",
    "sns.boxplot(x = precip_month_mean_bp.index.get_level_values('Month'), y =precip_month_mean_bp['precip'], ax = ax)\n",
    "\n",
    "ax.set_xlabel('Month')\n",
    "ax.set_ylabel('Precip percentage')\n",
    "ax.set_title(\"Monthly precip percentage\")\n",
    "plt.show()"
   ]
  },
  {
   "cell_type": "markdown",
   "metadata": {},
   "source": [
    "#### Precip weekly"
   ]
  },
  {
   "cell_type": "code",
   "execution_count": null,
   "metadata": {},
   "outputs": [],
   "source": [
    "precip_week_mean = chi_weather_2017.groupby(\"Week\")[\"precip\"].mean()\n",
    "\n",
    "fig, ax = plt.subplots(figsize = (10,6))\n",
    "\n",
    "ax.plot(precip_week_mean)\n",
    "ax.set_title('Weekly precip percentage')\n",
    "ax.set_ylabel(\"Precip percentage\")\n",
    "ax.set_xlabel('Week')\n",
    "plt.show()"
   ]
  },
  {
   "cell_type": "markdown",
   "metadata": {},
   "source": [
    "#### Precip daily"
   ]
  },
  {
   "cell_type": "code",
   "execution_count": null,
   "metadata": {
    "scrolled": false
   },
   "outputs": [],
   "source": [
    "precip_day_mean = chi_weather_2017.groupby(\"Date\")[\"precip\"].mean()\n",
    "\n",
    "fig, ax = plt.subplots(figsize = (10,6))\n",
    "\n",
    "ax.plot(precip_day_mean)\n",
    "ax.set_title('Daily precip percentage')\n",
    "ax.set_ylabel(\" Precip percentage\")\n",
    "ax.set_xlabel('Day')\n",
    "plt.show()"
   ]
  },
  {
   "cell_type": "markdown",
   "metadata": {},
   "source": [
    "### Correlation between rentals and weather "
   ]
  },
  {
   "cell_type": "markdown",
   "metadata": {},
   "source": [
    "#### Rescaling"
   ]
  },
  {
   "cell_type": "code",
   "execution_count": null,
   "metadata": {},
   "outputs": [],
   "source": [
    "rentals_day_resc = (rentals_day-rentals_day.min())/(rentals_day.max()-rentals_day.min())\n",
    "\n",
    "rentals_week_resc = ((rentals_week-rentals_week.min())/(rentals_week.max()-rentals_week.min()))\n",
    "\n",
    "rentals_month_resc = ((rentals_month-rentals_month.min())/(rentals_month.max()-rentals_month.min()))\n",
    "\n",
    "precip_day_resc = (precip_day_mean-precip_day_mean.min())/(precip_day_mean.max()-precip_day_mean.min())\n",
    "\n",
    "precip_week_resc = (precip_week_mean-precip_week_mean.min())/(precip_week_mean.max()-precip_week_mean.min())\n",
    "\n",
    "precip_month_resc = (precip_month_mean-precip_month_mean.min())/(precip_month_mean.max()-precip_month_mean.min())\n",
    "\n",
    "temp_day_resc = (temp_day_mean-temp_day_mean.min())/(temp_day_mean.max()-temp_day_mean.min())\n",
    "\n",
    "temp_week_resc = (temp_week_mean-temp_week_mean.min())/(temp_week_mean.max()-temp_week_mean.min())\n",
    "\n",
    "temp_month_resc = ((temp_month_mean-temp_month_mean.min())/(temp_month_mean.max()-temp_month_mean.min()))"
   ]
  },
  {
   "cell_type": "markdown",
   "metadata": {},
   "source": [
    "#### Rentals and temperatur"
   ]
  },
  {
   "cell_type": "code",
   "execution_count": null,
   "metadata": {
    "scrolled": true
   },
   "outputs": [],
   "source": [
    "fig, ax = plt.subplots(figsize = (10,4))\n",
    "\n",
    "ax.plot(rentals_month_resc, c = 'green', label='Rentals per month')\n",
    "ax.plot(temp_month_resc, c = 'red', label='Average temperature per month')\n",
    "\n",
    "ax.set_title('Correlation between rentals & average temperature per month')\n",
    "ax.set_xlabel('Month')\n",
    "ax.set_ylabel('Rentals/Temperature')\n",
    "ax.legend()\n",
    "\n",
    "plt.show()"
   ]
  },
  {
   "cell_type": "code",
   "execution_count": null,
   "metadata": {
    "scrolled": true
   },
   "outputs": [],
   "source": [
    "fig, ax = plt.subplots(figsize = (10,4))\n",
    "\n",
    "ax.plot(rentals_day_resc, c = 'green', label='Rentals per day')\n",
    "ax.plot(temp_day_resc, c = 'red', label='Average temperature per day')\n",
    "\n",
    "ax.set_title('Correlation between rentals & average temperature per day')\n",
    "ax.set_xlabel('Day')\n",
    "ax.set_ylabel('Rentals/Temperature')\n",
    "ax.legend()\n",
    "\n",
    "plt.show()"
   ]
  },
  {
   "cell_type": "code",
   "execution_count": null,
   "metadata": {},
   "outputs": [],
   "source": [
    "#Put weather & rental data into the same data frame\n",
    "temp_rentals_day = chi_weather_2017.groupby([\"Date\"])[\"mean_temp\"].mean()\n",
    "temp_rentals_day = pd.DataFrame(temp_rentals_day)\n",
    "temp_rentals_day [\"Rentals\"] = chi_data.groupby(['Date'])['bike_id'].count()\n",
    "temp_rentals_day [\"IsWeekday\"] = chi_data.groupby(['Date'])['IsWeekday'].max()"
   ]
  },
  {
   "cell_type": "code",
   "execution_count": null,
   "metadata": {
    "scrolled": false
   },
   "outputs": [],
   "source": [
    "\n",
    "fig, ax = plt.subplots(figsize = (10,6))\n",
    "\n",
    "sns.scatterplot(x = temp_rentals_day[\"mean_temp\"], y= temp_rentals_day[\"Rentals\"], hue = temp_rentals_day[\"IsWeekday\"],palette=\"magma\" )\n",
    "ax.set_title(\"Correlation between daily average temperature and rentals\")\n",
    "ax.set_xlabel(\"Temperature\")\n",
    "plt.show()"
   ]
  },
  {
   "cell_type": "code",
   "execution_count": null,
   "metadata": {},
   "outputs": [],
   "source": [
    "#Put weather & rental data into the same data frame\n",
    "precip_rentals_day = chi_weather_2017.groupby([\"Date\"])[\"precip\"].mean()\n",
    "precip_rentals_day = pd.DataFrame(precip_rentals_day)\n",
    "precip_rentals_day [\"Rentals\"] = chi_data.groupby(['Date'])['bike_id'].count()\n",
    "precip_rentals_day [\"IsWeekday\"] = chi_data.groupby(['Date'])['IsWeekday'].max()"
   ]
  },
  {
   "cell_type": "code",
   "execution_count": null,
   "metadata": {},
   "outputs": [],
   "source": [
    "\n",
    "fig, ax = plt.subplots(figsize = (10,6))\n",
    "\n",
    "sns.scatterplot(x = precip_rentals_day[\"precip\"], y= precip_rentals_day[\"Rentals\"], hue = precip_rentals_day[\"IsWeekday\"],palette=\"magma\" )\n",
    "ax.set_title(\"Correlation between weekly precip percentage and rentals\")\n",
    "ax.set_xlabel(\"Precip percentage\")\n",
    "plt.show()"
   ]
  },
  {
   "cell_type": "markdown",
   "metadata": {},
   "source": [
    "#### Rentals and precip"
   ]
  },
  {
   "cell_type": "code",
   "execution_count": null,
   "metadata": {},
   "outputs": [],
   "source": [
    "fig, ax = plt.subplots(figsize = (10,4))\n",
    "\n",
    "ax.plot(rentals_month_resc, c = 'green', label='Rentals per month')\n",
    "ax.plot(precip_month_resc, c = 'blue', label='Precip percentage per month')\n",
    "\n",
    "ax.set_title('Correlation between rentals & precip percentage per month')\n",
    "ax.set_xlabel('Month')\n",
    "ax.set_ylabel('Rentals/Precip percentage')\n",
    "ax.legend()\n",
    "\n",
    "plt.show()"
   ]
  },
  {
   "cell_type": "code",
   "execution_count": null,
   "metadata": {},
   "outputs": [],
   "source": [
    "fig, ax = plt.subplots(figsize = (10,4))\n",
    "\n",
    "ax.plot(rentals_day_resc, c = 'green', label='Rentals per day')\n",
    "ax.plot(precip_day_resc, c = 'blue', label='Precip percentage per day')\n",
    "\n",
    "ax.set_title('Correlation between rentals & precip percentage per day')\n",
    "ax.set_xlabel('Day')\n",
    "ax.set_ylabel('Rentals/Precip percentage')\n",
    "ax.legend()\n",
    "\n",
    "plt.show()"
   ]
  },
  {
   "cell_type": "markdown",
   "metadata": {},
   "source": [
    "## Geographical demand patterns"
   ]
  },
  {
   "cell_type": "code",
   "execution_count": null,
   "metadata": {},
   "outputs": [],
   "source": []
  },
  {
   "cell_type": "code",
   "execution_count": null,
   "metadata": {},
   "outputs": [],
   "source": []
  }
 ],
 "metadata": {
  "kernelspec": {
   "display_name": "Python 3",
   "language": "python",
   "name": "python3"
  },
  "language_info": {
   "codemirror_mode": {
    "name": "ipython",
    "version": 3
   },
   "file_extension": ".py",
   "mimetype": "text/x-python",
   "name": "python",
   "nbconvert_exporter": "python",
   "pygments_lexer": "ipython3",
   "version": "3.8.5"
  }
 },
 "nbformat": 4,
 "nbformat_minor": 4
}
